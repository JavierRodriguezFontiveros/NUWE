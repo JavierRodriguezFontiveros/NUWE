{
 "cells": [
  {
   "cell_type": "markdown",
   "metadata": {},
   "source": [
    "# **Tarda 4 minutos en corregir aprox**"
   ]
  },
  {
   "cell_type": "markdown",
   "metadata": {},
   "source": [
    "# Desglose del enunciado"
   ]
  },
  {
   "cell_type": "markdown",
   "metadata": {},
   "source": [
    "1. Tecnologías Clave:  \n",
    "- **Python:** El lenguaje base.\n",
    "- **gRPC:** Un protocolo de comunicación eficiente basado en Protocol Buffers (protobufs).\n",
    "- **REST**: API tradicional basada en HTTP.\n",
    "- **Redis**: Almacenamiento en memoria, probablemente usado para cacheo o mensajería.\n",
    "- **Contenedores**: Seguramente usan Docker para encapsular cada microservicio."
   ]
  },
  {
   "cell_type": "markdown",
   "metadata": {},
   "source": [
    "2. Microservicios Involucrados\n",
    "- **UserService**:   \n",
    "-Maneja la gestión de usuarios, registro, login, recuperación de datos...    \n",
    "-Probablemente almacene info en una base de datos.   \n",
    "\n",
    "- **MessageService**:    \n",
    "-Se encarga del envío y recepción de mensajes entre usuarios.       \n",
    "-Puede interactuar con Redis para colas de mensajes o caché.       \n",
    "\n",
    "- **NotificationService**\n",
    "-Genera y envía notificaciones (push, emails, etc.).    \n",
    "-Puede depender de eventos de otros servicios.    \n",
    "\n",
    "- **FrontendService**:\n",
    "-La interfaz que consume los demás servicios.    \n",
    "-Posiblemente implemente REST para comunicarse con los microservicios.   "
   ]
  },
  {
   "cell_type": "markdown",
   "metadata": {},
   "source": [
    "3. Estructura del repositorio:   \n",
    "\n",
    "Hay un archivo **docker-compose.yml**, lo que indica que todos los servicios pueden levantarse juntos en contenedores.     \n",
    "\n",
    "También está la carpeta proto_definitions/, que almacena las definiciones de Protocol Buffers (.proto), asegurando que **todos los servicios usen la misma estructura de datos**.   \n",
    "\n",
    "***Cada microservicio tiene***    \n",
    "\n",
    "📌 api_rest/app.py → Implementación en REST.   \n",
    "📌 grpc/app.py → Implementación en gRPC.   \n",
    "📌 grpc/proto_generated/ → Código generado a partir de los .proto.    \n",
    "📌 requirements.txt → Dependencias necesarias.    \n",
    "📌 Dockerfile → Define cómo se ejecuta el servicio en un contenedor.      \n",
    "\n",
    "\n",
    "***Puntos Clave a Revisar***   \n",
    "\n",
    "🔹 proto_definitions/\n",
    "\n",
    "- Aquí están los .proto que definen los mensajes y servicios.\n",
    "- Si hay problemas de comunicación, revisar si los servicios usan la misma versión.\n",
    "\n",
    "\n",
    "🔹 docker-compose.yml   \n",
    "\n",
    "- Contiene la configuración para levantar los microservicios juntos.\n",
    "- Posibles errores:   \n",
    "Problemas de red entre contenedores.    \n",
    "Dependencias que no se inician en el orden correcto.    \n",
    "\n",
    "🔹 proto_generated/\n",
    "\n",
    "- Código generado a partir de los .proto.\n",
    "- Si hay errores en la comunicación gRPC, puede ser necesario regenerar los archivos.\n"
   ]
  },
  {
   "cell_type": "markdown",
   "metadata": {},
   "source": [
    "&nbsp;"
   ]
  },
  {
   "cell_type": "markdown",
   "metadata": {},
   "source": [
    "# Puertos de los servicios"
   ]
  },
  {
   "cell_type": "markdown",
   "metadata": {},
   "source": [
    "Cada servicio tiene dos puertos: \n",
    "- 1️⃣ HTTP: Usado para REST API.\n",
    "- 2️⃣ gRPC: Usado para la comunicación interna eficiente.\n",
    "\n",
    "🔹 FrontendService solo usa gRPC (3030), lo que significa que toda la comunicación con el frontend debe hacerse mediante gRPC y no REST.    \n",
    "🔹 Redis está corriendo en el puerto 6379, lo que indica que puede estar siendo usado para almacenamiento en caché o para un sistema de Pub/Sub.    "
   ]
  },
  {
   "cell_type": "markdown",
   "metadata": {},
   "source": [
    "* ⚠️ Posibles Problemas Relacionados con los Puertos    \n",
    "\n",
    "✅ Servicios no conectándose correctamente     \n",
    "\n",
    "-Revisar si en el código están llamando a los puertos correctos al hacer peticiones gRPC o REST.    \n",
    "-MessageService debe estar llamando a UserService en 8080 (REST) o 9797 (gRPC).   \n",
    "-NotificationService debe comunicarse con FrontendService en 3030 (gRPC).   \n",
    "\n",
    "\n",
    "✅ Conflictos de puertos\n",
    "\n",
    "-Si algún servicio ya está usando el puerto asignado, puede haber fallos de conexión.     \n",
    "-Verificar con docker ps y netstat -tulnp (en Linux).        \n",
    "\n",
    "\n",
    "✅ Redis no accesible         \n",
    "    \n",
    "-Si las notificaciones se guardan en Redis y este no está corriendo o el puerto es incorrecto, NotificationService puede fallar.    \n",
    "-Se puede probar conexión con redis-cli -h redis -p 6397 ping.       "
   ]
  },
  {
   "cell_type": "markdown",
   "metadata": {},
   "source": [
    "&nbsp;"
   ]
  },
  {
   "cell_type": "markdown",
   "metadata": {},
   "source": [
    "# Tareas🎯🎯🎯🎯"
   ]
  },
  {
   "cell_type": "markdown",
   "metadata": {},
   "source": [
    "### 🛠 Tarea 1: Arreglar la comunicación entre MessageService y UserService\n",
    "\n",
    "📌 **Problema**: Hay errores en la comunicación interna entre estos servicios, lo que interrumpe su funcionalidad.       \n",
    "  \n",
    "* Falta o inconsistencia en las definiciones de user.proto o message.proto.\n",
    "* MessageService no está llamando correctamente a UserService.\n",
    "* Problemas con la configuración de gRPC o REST entre estos servicios.\n",
    "* Docker no está exponiendo correctamente los puertos o los contenedores no pueden comunicarse.\n",
    " \n",
    "📌 **Posible solución**:    \n",
    "\n",
    "1️⃣ Revisar message.proto y user.proto en proto_definitions/ para ver si están bien definidos.   \n",
    "\n",
    "2️⃣ Verificar la generación de código en proto_generated/, asegurándose de que ambos servicios usan la misma versión.    \n",
    "\n",
    "3️⃣ Inspeccionar los logs (docker logs <container_id>) para ver errores específicos.    \n",
    "\n",
    "4️⃣ Hacer pruebas directas de comunicación entre ambos servicios.    \n"
   ]
  },
  {
   "cell_type": "markdown",
   "metadata": {},
   "source": [
    "&nbsp;"
   ]
  },
  {
   "cell_type": "markdown",
   "metadata": {},
   "source": [
    "### 📩 Tarea 2: Implementar la comunicación de notificación al frontend\n",
    "\n",
    "📌 **Objetivo**: Cuando se cree un mensaje en MessageService, se debe notificar al usuario en FrontendService.    \n",
    "\n",
    "📌 **Pasos a implementar**:    \n",
    "\n",
    "- 1️⃣ 🚀 Desencadenador: \n",
    "\n",
    "-Cuando un usuario recibe un mensaje, MessageService debe enviar un evento a NotificationService.    \n",
    "-Este evento se puede manejar con una llamada gRPC o Redis (pub/sub).    \n",
    "\n",
    "\n",
    "- 2️⃣ 📢 Creación de la notificación:\n",
    "\n",
    "-NotificationService verifica si el usuario destinatario está suscrito a las notificaciones.    \n",
    "-Todos los usuarios están suscritos por defecto, pero puede haber una opción para desuscribirse.  \n",
    "\n",
    "\n",
    "- 3️⃣ 📡 Enviar la notificación al FrontendService:    \n",
    "\n",
    "-NotificationService usa gRPC para enviar la notificación a FrontendService.    \n",
    "-FrontendService recibe la notificación y la muestra en tiempo real.    \n",
    "\n",
    "\n",
    "- 4️⃣ 💾 Persistencia en Redis:    \n",
    "\n",
    "-La notificación se almacena temporalmente en Redis, probablemente como una lista de notificaciones pendientes.     \n",
    "-Esto permite recuperar las notificaciones si el usuario estaba desconectado.    "
   ]
  },
  {
   "cell_type": "markdown",
   "metadata": {},
   "source": [
    "&nbsp;"
   ]
  },
  {
   "cell_type": "markdown",
   "metadata": {},
   "source": [
    "# Guías"
   ]
  },
  {
   "cell_type": "markdown",
   "metadata": {},
   "source": [
    "**User service:**\n",
    "1. Apirest:\n",
    "- El servicio no requiere autenticación, lo cual es curioso, especialmente para modificar/eliminar usuarios.\n",
    "- El email es clave única para cada usuario, usado en las actualizaciones (PUT) y eliminaciones (DELETE).\n",
    "- Los datos de los usuarios se almacenan en Redis (DB: 0) en formato JSON.\n",
    "\n",
    "2. gRPC:\n",
    "- AuthenticateUser: Confirma si el usuario y la contraseña son correctos.\n",
    "- CheckUserExists: Permite verificar si un usuario está registrado.\n",
    "- ListUsers: Devuelve una lista de todos los usuarios en la base de datos.\n",
    "\n",
    "3. Redis (DB 0):\n",
    "- Redis debe estar corriendo en el puerto 6397 y debe ser accesible.\n",
    "- Si los usuarios se almacenan en Redis y este se cae, se pierden los datos (a menos que haya persistencia).\n",
    "- password debería estar hasheada para seguridad.\n",
    "\n",
    "```bash\n",
    "#Ejemplo de Usuario\n",
    "{\n",
    "  \"name\": \"User's Name\",\n",
    "  \"email\": \"user@example.com\",\n",
    "  \"password\": \"hashed_password\"\n",
    "}"
   ]
  },
  {
   "cell_type": "markdown",
   "metadata": {},
   "source": [
    "&nbsp;"
   ]
  },
  {
   "cell_type": "markdown",
   "metadata": {},
   "source": [
    "**Message Service:**\n",
    "1. Apirest:\n",
    "- Solo tiene un endpoint: /list_conversations (GET).\n",
    "- No requiere autenticación, lo que podría ser un problema de seguridad.\n",
    "- Permite listar conversaciones de un usuario dado.\n",
    "\n",
    "2. gRPC:\n",
    "-SendMessage: Envía un mensaje de un usuario a otro.    \n",
    "-GetMessages: Recupera todos los mensajes de un usuario.    \n",
    "-No menciona autenticación, lo que puede permitir acceso no autorizado.    \n",
    "\n",
    "3. Redis (DB: 1):\n",
    "\n",
    "* Conversaciones:    \n",
    "-Clave: conversation:{user_email_1}:{user_email_2} (Hash).    \n",
    "Almacena metadatos de conversaciones entre pares de usuarios.  \n",
    "\n",
    "* Mensajes individuales:    \n",
    "-Clave: message:{message_id} (Cadena JSON).    \n",
    "-Contiene información del mensaje (remitente, receptor, contenido, timestamp).    \n",
    "\n",
    "* Contador de mensajes:    \n",
    "-Clave: message_id_counter, para IDs únicos.    \n",
    "\n",
    "* Lista de conversaciones por usuario:   \n",
    "-Clave: user:{user_email}:conversations (Set).    \n",
    "-Guarda todas las conversaciones en las que participa el usuario.   \n",
    "\n",
    "***Posibles problemas:***  \n",
    "✅ Redis debe estar en el puerto 6397 y operativo.    \n",
    "✅ Si message_id_counter no se incrementa, los mensajes pueden sobrescribirse.   \n",
    "✅ Falta autenticación para evitar acceso indebido a mensajes.   \n",
    "✅ No hay endpoint para marcar mensajes como leídos o eliminarlos.   \n",
    " \n",
    "```bash\n",
    "\n",
    "#Ejemplo de mensaje almacenado en Redis\n",
    "{\n",
    "  \"id\": 1,\n",
    "  \"sender_email\": \"sender@example.com\",\n",
    "  \"receiver_email\": \"receiver@example.com\",\n",
    "  \"content\": \"Hello, how are you?\",\n",
    "  \"timestamp\": \"2025-01-14T12:00:00Z\"\n",
    "}\n"
   ]
  },
  {
   "cell_type": "markdown",
   "metadata": {},
   "source": [
    "&nbsp;"
   ]
  },
  {
   "cell_type": "markdown",
   "metadata": {},
   "source": [
    "***Notification Service:***\n",
    "\n",
    "1. Apirest:\n",
    "- Solo tiene un endpoint: /list_notifications (GET).\n",
    "- No requiere autenticación, lo que puede permitir acceso no autorizado a notificaciones.\n",
    "- Permite listar notificaciones de un usuario dado.\n",
    "\n",
    "2. gRPC:\n",
    "\n",
    "- CreateNotification: Crea una notificación para un usuario receptor. Debe incluir un parámetro \"read\": bool.\n",
    "- CheckUserSubscribed: Verifica si un usuario está suscrito a las notificaciones.\n",
    "- SubscribeUser: Permite que un usuario se suscriba a las notificaciones.\n",
    "- UnsubscribeUser: Permite que un usuario cancele su suscripción.\n",
    "\n",
    "3. Redis (DB 2):\n",
    "\n",
    "* Notificaciones:    \n",
    "-Clave: notifications:{user_email} (Lista).   \n",
    "-Almacena notificaciones recibidas por el usuario como objetos JSON.    \n",
    "\n",
    "* Suscripciones:     \n",
    "-Clave: subscriptions (Hash).   \n",
    "-Almacena el estado de suscripción de los usuarios (email → suscrito o no).    \n",
    "\n",
    "\n",
    "***Posibles problemas:***    \n",
    "✅ Redis debe estar en el puerto 6397 y operativo.     \n",
    "✅ Falta autenticación en la API REST, lo que podría permitir que cualquier usuario acceda a las notificaciones de otro.    \n",
    "✅ No hay un mecanismo para marcar notificaciones como leídas a través de la API.   \n",
    "✅ No se menciona si las notificaciones antiguas se eliminan o si Redis podría llenarse con el tiempo.    \n",
    "\n",
    "```bash\n",
    "#Ejemplo de notificación almacenada en Redis\n",
    "{\n",
    "  \"sender_email\": \"bob@example.com\",\n",
    "  \"receiver_email\": \"asdf@example.com\",\n",
    "  \"timestamp\": \"2025-01-13T19:31:14.207231\",\n",
    "  \"read\": false\n",
    "}\n",
    "\n",
    "#Ejemplo de suscripción en Redis\n",
    "{\n",
    "  \"user_email\": \"notification_sender@example.com\",\n",
    "  \"subscribed\": true\n",
    "}"
   ]
  },
  {
   "cell_type": "markdown",
   "metadata": {},
   "source": [
    "&nbsp;"
   ]
  },
  {
   "cell_type": "markdown",
   "metadata": {},
   "source": [
    "***Frontend Service:***\n",
    "\n",
    "1. gRPC:\n",
    "- ReceiveNotification: Recibe notificaciones enviadas desde NotificationService.\n",
    "- No tiene endpoints HTTP, solo gRPC.\n",
    "\n",
    "2. Funcionalidad:\n",
    "- Actúa como el punto de entrega final de las notificaciones.\n",
    "- No almacena datos, solo recibe las notificaciones en tiempo real.\n",
    "\n",
    "***Posibles problemas:***    \n",
    "✅ No hay autenticación, lo que podría permitir que cualquier cliente reciba notificaciones.   \n",
    "✅ No se menciona cómo las notificaciones se muestran o manejan en el frontend.    \n",
    "✅ Si FrontendService está caído, se podrían perder notificaciones si no hay reintentos de envío.   "
   ]
  },
  {
   "cell_type": "markdown",
   "metadata": {},
   "source": [
    "&nbsp;"
   ]
  },
  {
   "cell_type": "markdown",
   "metadata": {},
   "source": [
    "&nbsp;"
   ]
  },
  {
   "cell_type": "markdown",
   "metadata": {},
   "source": [
    "# Resumen Final del Enunciado:\n",
    "\n",
    "1. El proyecto está dockerizado y debe ejecutarse usando Docker y Docker Compose.\n",
    "2. El archivo docker-compose.yml no debe modificarse.\n",
    "3. Cada microservicio tiene su propio Dockerfile que se puede modificar si es necesario (aunque no es obligatorio para resolver el desafío).\n",
    "\n",
    "* Pasos para Correr el Proyecto:\n",
    "\n",
    "-Verificar instalación de Docker y docker compose.        \n",
    "\n",
    "-Construir las imágenes Docker.       \n",
    "\n",
    "-Iniciar los contenedores en modo independiente.\n",
    "\n",
    "- Pruebas:\n",
    "  \n",
    "-En el directorio tests/ hay ejemplos de casos de prueba.      \n",
    "-Se recomienda implementar pruebas adicionales para cubrir más escenarios.      \n",
    "\n"
   ]
  },
  {
   "cell_type": "markdown",
   "metadata": {},
   "source": [
    "# REDIS\n"
   ]
  },
  {
   "cell_type": "code",
   "execution_count": 6,
   "metadata": {},
   "outputs": [
    {
     "name": "stdout",
     "output_type": "stream",
     "text": [
      "{'message': 'Conexión exitosa a Redis'}\n"
     ]
    }
   ],
   "source": [
    "from flask import Flask, jsonify\n",
    "import redis\n",
    "import os\n",
    "\n",
    "# Crear la aplicación Flask\n",
    "app = Flask(__name__)\n",
    "\n",
    "# Función de conexión a Redis\n",
    "def check_redis_connection():\n",
    "    try:\n",
    "        redis_host = os.getenv(\"REDIS_HOST\", \"localhost\")\n",
    "        redis_port = os.getenv(\"REDIS_PORT\", 6379)\n",
    "\n",
    "        r = redis.StrictRedis(host=redis_host, port=redis_port, db=0, socket_connect_timeout=5)\n",
    "        \n",
    "        # Intentar hacer un ping para verificar la conexión\n",
    "        r.ping()\n",
    "        return {\"message\": \"Conexión exitosa a Redis\"}\n",
    "    except redis.ConnectionError as e:\n",
    "        return {\"error\": f\"Error de conexión a Redis: {e}\"}\n",
    "\n",
    "# Crear contexto de aplicación y probar la conexión a Redis\n",
    "with app.app_context():\n",
    "    result = check_redis_connection()\n",
    "    print(result)\n"
   ]
  },
  {
   "cell_type": "markdown",
   "metadata": {},
   "source": [
    "# Pruebas API"
   ]
  },
  {
   "cell_type": "code",
   "execution_count": null,
   "metadata": {},
   "outputs": [],
   "source": []
  }
 ],
 "metadata": {
  "kernelspec": {
   "display_name": "Python 3",
   "language": "python",
   "name": "python3"
  },
  "language_info": {
   "codemirror_mode": {
    "name": "ipython",
    "version": 3
   },
   "file_extension": ".py",
   "mimetype": "text/x-python",
   "name": "python",
   "nbconvert_exporter": "python",
   "pygments_lexer": "ipython3",
   "version": "3.12.5"
  }
 },
 "nbformat": 4,
 "nbformat_minor": 2
}
