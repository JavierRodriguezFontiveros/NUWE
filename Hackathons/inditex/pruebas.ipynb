{
 "cells": [
  {
   "cell_type": "markdown",
   "metadata": {},
   "source": [
    "# Hay 3 datasets en total.. el de entrenamiento y test, el de productos y el que se saca de la api"
   ]
  },
  {
   "cell_type": "code",
   "execution_count": 145,
   "metadata": {},
   "outputs": [],
   "source": [
    "import pandas as pd\n",
    "import matplotlib.pyplot as plt"
   ]
  },
  {
   "cell_type": "markdown",
   "metadata": {},
   "source": [
    "## Variables de la api:\n",
    "\n",
    "**user_id:** User identifier - *Identificador de usuario.*\n",
    "\n",
    "**country:** Country identifier - *Identificador de país.*\n",
    "\n",
    "**R:** User's recency - *Última visita al página*\n",
    "\n",
    "**F:** User's purchase frequency - *Última compra*\n",
    "\n",
    "**M:** Monetary value that the customer spends on purchases - *Lo que se gasta el usuario*"
   ]
  },
  {
   "cell_type": "markdown",
   "metadata": {},
   "source": [
    "# Primer Endpoint"
   ]
  },
  {
   "cell_type": "code",
   "execution_count": 6,
   "metadata": {},
   "outputs": [],
   "source": [
    "# import requests\n",
    "# import csv\n",
    "# import os\n",
    "\n",
    "# # Función para obtener todos los usuarios\n",
    "# def get_all_user_ids():\n",
    "#     url = \"https://zara-boost-hackathon.nuwe.io/users\"  # Asumido endpoint para todos los usuarios\n",
    "    \n",
    "#     try:\n",
    "#         # Realizamos la solicitud GET\n",
    "#         response = requests.get(url)\n",
    "        \n",
    "#         # Comprobamos el código de estado de la respuesta\n",
    "#         if response.status_code == 200:\n",
    "#             # Si la solicitud es exitosa, devolvemos el JSON de la respuesta\n",
    "#             return response.json()  # Esto debería ser una lista de los user_ids\n",
    "#         else:\n",
    "#             # Si hubo un error, mostramos el código de error y el mensaje\n",
    "#             print(f\"Error {response.status_code}: {response.text}\")\n",
    "#             return None\n",
    "#     except Exception as e:\n",
    "#         # Capturamos excepciones si hay problemas de conexión\n",
    "#         print(f\"Error de conexión: {e}\")\n",
    "#         return None\n",
    "\n",
    "# # Función para guardar los usuarios en un archivo CSV en la ubicación deseada\n",
    "# def save_users_to_csv(user_data, filename='data/raw/all_users_id.csv'):\n",
    "#     # Asegúrate de que la carpeta existe, si no, la creamos\n",
    "#     os.makedirs(os.path.dirname(filename), exist_ok=True)\n",
    "\n",
    "#     # Abrimos el archivo CSV en modo escritura\n",
    "#     with open(filename, mode='w', newline='', encoding='utf-8') as file:\n",
    "#         writer = csv.writer(file)\n",
    "        \n",
    "#         # Escribimos los encabezados (si tienes una lista de diccionarios o los valores que necesites)\n",
    "#         writer.writerow(['user_id'])  # Modifica esto si tienes más columnas\n",
    "        \n",
    "#         # Escribimos los datos de cada usuario\n",
    "#         for user in user_data:  # Si los datos son una lista de user_ids\n",
    "#             writer.writerow([user])  # Escribe cada user_id en una fila\n",
    "    \n",
    "#     print(f\"Datos guardados correctamente en {filename}\")\n",
    "\n",
    "# # Obtener los usuarios\n",
    "# all_users = get_all_user_ids()\n",
    "\n",
    "# # Si se obtuvieron datos, guardarlos en CSV\n",
    "# if all_users:\n",
    "#     save_users_to_csv(all_users, filename='data/raw/all_users_id.csv')  # Guarda los usuarios en 'data/raw/all_users_id.csv'\n",
    "# else:\n",
    "#     print(\"No se pudieron obtener los usuarios.\")\n",
    "\n",
    "users_id = pd.read_csv(\"data/raw/all_users_id.csv\")"
   ]
  },
  {
   "cell_type": "code",
   "execution_count": 12,
   "metadata": {},
   "outputs": [
    {
     "data": {
      "text/plain": [
       "Index(['user_id'], dtype='object')"
      ]
     },
     "execution_count": 12,
     "metadata": {},
     "output_type": "execute_result"
    }
   ],
   "source": [
    "users_id.columns"
   ]
  },
  {
   "cell_type": "code",
   "execution_count": null,
   "metadata": {},
   "outputs": [
    {
     "name": "stdout",
     "output_type": "stream",
     "text": [
      "Series([], Name: count, dtype: int64)\n"
     ]
    }
   ],
   "source": [
    "# Hay duplicados?\n",
    "conteo_duplicados = users_id['user_id'].value_counts()\n",
    "duplicados = conteo_duplicados[conteo_duplicados > 1]\n",
    "print(duplicados)"
   ]
  },
  {
   "cell_type": "markdown",
   "metadata": {},
   "source": [
    "# Segundo Enpoint"
   ]
  },
  {
   "cell_type": "code",
   "execution_count": 166,
   "metadata": {},
   "outputs": [
    {
     "name": "stdout",
     "output_type": "stream",
     "text": [
      "Detalles del usuario: {'user_id': 1556, 'values': {'country': [25], 'R': [18], 'F': [3], 'M': [20.599999999999998]}}\n"
     ]
    }
   ],
   "source": [
    "import requests\n",
    "\n",
    "# Función para obtener los detalles de un usuario\n",
    "def get_user_details(user_id):\n",
    "    # URL para obtener los detalles del usuario\n",
    "    url = f\"https://zara-boost-hackathon.nuwe.io/users/{user_id}\"\n",
    "    \n",
    "    try:\n",
    "        # Realizamos la solicitud GET\n",
    "        response = requests.get(url)\n",
    "        \n",
    "        # Comprobamos el código de estado de la respuesta\n",
    "        if response.status_code == 200:\n",
    "            # Si la solicitud es exitosa, devolvemos el JSON de la respuesta\n",
    "            return response.json()\n",
    "        else:\n",
    "            # Si hubo un error, mostramos el código de error y el mensaje\n",
    "            print(f\"Error {response.status_code}: {response.text}\")\n",
    "            return None\n",
    "    except Exception as e:\n",
    "        # Capturamos excepciones si hay problemas de conexión\n",
    "        print(f\"Error de conexión: {e}\")\n",
    "        return None\n",
    "\n",
    "# Prueba: obtenemos los detalles del usuario con ID 1556\n",
    "user_details = get_user_details(\"1556\")\n",
    "\n",
    "# Imprimimos los detalles del usuario\n",
    "if user_details:\n",
    "    print(\"Detalles del usuario:\", user_details)\n",
    "else:\n",
    "    print(\"No se pudieron obtener los detalles del usuario.\")\n"
   ]
  },
  {
   "cell_type": "markdown",
   "metadata": {},
   "source": [
    "# Variables de train\n",
    "\n",
    "**session_id:** Session identifier - *Identificador de sesión*\n",
    "\n",
    "**date:** Interaction date - *Día de la interacción*\n",
    "\n",
    "**timestamp_local:** Interaction timestamp - *Hora de la interacción*\n",
    "\n",
    "**user_id:** User identifier - *Identificador de usuario*\n",
    "\n",
    "**country:** Country identifier - *Identificador de pais*\n",
    "\n",
    "**partnumber:** Product identifier with which the interaction occurred - *Producto interacción*\n",
    "\n",
    "**device_type:** Type of device used - *Tipo de servicio usado*\n",
    "\n",
    "**pagetype:** Type of page where the interaction occurred within the e-commerce site - *Tipo de página*\n",
    "\n",
    "**VARIABLE OBJETIVO: add_to_cart**: Boolean indicating if the interaction was adding to the cart - *Añadido al carrito*"
   ]
  },
  {
   "cell_type": "code",
   "execution_count": 2,
   "metadata": {},
   "outputs": [],
   "source": [
    "train = pd.read_csv(\"data/raw/train.csv\")"
   ]
  },
  {
   "cell_type": "code",
   "execution_count": 170,
   "metadata": {},
   "outputs": [],
   "source": [
    "test = pd.read_csv(\"data/raw/test.csv\")"
   ]
  },
  {
   "cell_type": "code",
   "execution_count": 138,
   "metadata": {},
   "outputs": [
    {
     "data": {
      "text/html": [
       "<div>\n",
       "<style scoped>\n",
       "    .dataframe tbody tr th:only-of-type {\n",
       "        vertical-align: middle;\n",
       "    }\n",
       "\n",
       "    .dataframe tbody tr th {\n",
       "        vertical-align: top;\n",
       "    }\n",
       "\n",
       "    .dataframe thead th {\n",
       "        text-align: right;\n",
       "    }\n",
       "</style>\n",
       "<table border=\"1\" class=\"dataframe\">\n",
       "  <thead>\n",
       "    <tr style=\"text-align: right;\">\n",
       "      <th></th>\n",
       "      <th>session_id</th>\n",
       "      <th>date</th>\n",
       "      <th>timestamp_local</th>\n",
       "      <th>add_to_cart</th>\n",
       "      <th>user_id</th>\n",
       "      <th>country</th>\n",
       "      <th>partnumber</th>\n",
       "      <th>device_type</th>\n",
       "      <th>pagetype</th>\n",
       "    </tr>\n",
       "  </thead>\n",
       "  <tbody>\n",
       "    <tr>\n",
       "      <th>0</th>\n",
       "      <td>64</td>\n",
       "      <td>2024-06-06</td>\n",
       "      <td>2024-06-06 16:43:17.389</td>\n",
       "      <td>0</td>\n",
       "      <td>NaN</td>\n",
       "      <td>29</td>\n",
       "      <td>14327</td>\n",
       "      <td>1</td>\n",
       "      <td>24</td>\n",
       "    </tr>\n",
       "    <tr>\n",
       "      <th>1</th>\n",
       "      <td>117</td>\n",
       "      <td>2024-06-08</td>\n",
       "      <td>2024-06-08 15:11:02.782</td>\n",
       "      <td>0</td>\n",
       "      <td>NaN</td>\n",
       "      <td>57</td>\n",
       "      <td>38422</td>\n",
       "      <td>1</td>\n",
       "      <td>24</td>\n",
       "    </tr>\n",
       "    <tr>\n",
       "      <th>2</th>\n",
       "      <td>117</td>\n",
       "      <td>2024-06-08</td>\n",
       "      <td>2024-06-08 15:11:44.797</td>\n",
       "      <td>0</td>\n",
       "      <td>NaN</td>\n",
       "      <td>57</td>\n",
       "      <td>19763</td>\n",
       "      <td>1</td>\n",
       "      <td>24</td>\n",
       "    </tr>\n",
       "    <tr>\n",
       "      <th>3</th>\n",
       "      <td>579</td>\n",
       "      <td>2024-06-05</td>\n",
       "      <td>2024-06-05 19:24:48.397</td>\n",
       "      <td>0</td>\n",
       "      <td>NaN</td>\n",
       "      <td>29</td>\n",
       "      <td>30253</td>\n",
       "      <td>1</td>\n",
       "      <td>24</td>\n",
       "    </tr>\n",
       "    <tr>\n",
       "      <th>4</th>\n",
       "      <td>1220</td>\n",
       "      <td>2024-06-04</td>\n",
       "      <td>2024-06-04 08:21:13.476</td>\n",
       "      <td>0</td>\n",
       "      <td>480729.0</td>\n",
       "      <td>25</td>\n",
       "      <td>1592</td>\n",
       "      <td>1</td>\n",
       "      <td>24</td>\n",
       "    </tr>\n",
       "  </tbody>\n",
       "</table>\n",
       "</div>"
      ],
      "text/plain": [
       "   session_id       date         timestamp_local  add_to_cart   user_id  \\\n",
       "0          64 2024-06-06 2024-06-06 16:43:17.389            0       NaN   \n",
       "1         117 2024-06-08 2024-06-08 15:11:02.782            0       NaN   \n",
       "2         117 2024-06-08 2024-06-08 15:11:44.797            0       NaN   \n",
       "3         579 2024-06-05 2024-06-05 19:24:48.397            0       NaN   \n",
       "4        1220 2024-06-04 2024-06-04 08:21:13.476            0  480729.0   \n",
       "\n",
       "   country  partnumber  device_type  pagetype  \n",
       "0       29       14327            1        24  \n",
       "1       57       38422            1        24  \n",
       "2       57       19763            1        24  \n",
       "3       29       30253            1        24  \n",
       "4       25        1592            1        24  "
      ]
     },
     "execution_count": 138,
     "metadata": {},
     "output_type": "execute_result"
    }
   ],
   "source": [
    "train.head()"
   ]
  },
  {
   "cell_type": "code",
   "execution_count": 4,
   "metadata": {},
   "outputs": [
    {
     "data": {
      "text/plain": [
       "Index(['session_id', 'date', 'timestamp_local', 'add_to_cart', 'user_id',\n",
       "       'country', 'partnumber', 'device_type', 'pagetype'],\n",
       "      dtype='object')"
      ]
     },
     "execution_count": 4,
     "metadata": {},
     "output_type": "execute_result"
    }
   ],
   "source": [
    "train.columns"
   ]
  },
  {
   "cell_type": "code",
   "execution_count": 5,
   "metadata": {},
   "outputs": [
    {
     "name": "stdout",
     "output_type": "stream",
     "text": [
      "<class 'pandas.core.frame.DataFrame'>\n",
      "RangeIndex: 46551445 entries, 0 to 46551444\n",
      "Data columns (total 9 columns):\n",
      " #   Column           Dtype  \n",
      "---  ------           -----  \n",
      " 0   session_id       int64  \n",
      " 1   date             object \n",
      " 2   timestamp_local  object \n",
      " 3   add_to_cart      int64  \n",
      " 4   user_id          float64\n",
      " 5   country          int64  \n",
      " 6   partnumber       int64  \n",
      " 7   device_type      int64  \n",
      " 8   pagetype         float64\n",
      "dtypes: float64(2), int64(5), object(2)\n",
      "memory usage: 3.1+ GB\n"
     ]
    }
   ],
   "source": [
    "train.info()"
   ]
  },
  {
   "cell_type": "code",
   "execution_count": 6,
   "metadata": {},
   "outputs": [
    {
     "data": {
      "text/html": [
       "<div>\n",
       "<style scoped>\n",
       "    .dataframe tbody tr th:only-of-type {\n",
       "        vertical-align: middle;\n",
       "    }\n",
       "\n",
       "    .dataframe tbody tr th {\n",
       "        vertical-align: top;\n",
       "    }\n",
       "\n",
       "    .dataframe thead th {\n",
       "        text-align: right;\n",
       "    }\n",
       "</style>\n",
       "<table border=\"1\" class=\"dataframe\">\n",
       "  <thead>\n",
       "    <tr style=\"text-align: right;\">\n",
       "      <th></th>\n",
       "      <th>session_id</th>\n",
       "      <th>add_to_cart</th>\n",
       "      <th>user_id</th>\n",
       "      <th>country</th>\n",
       "      <th>partnumber</th>\n",
       "      <th>device_type</th>\n",
       "      <th>pagetype</th>\n",
       "    </tr>\n",
       "  </thead>\n",
       "  <tbody>\n",
       "    <tr>\n",
       "      <th>count</th>\n",
       "      <td>4.655144e+07</td>\n",
       "      <td>4.655144e+07</td>\n",
       "      <td>6.856730e+06</td>\n",
       "      <td>4.655144e+07</td>\n",
       "      <td>4.655144e+07</td>\n",
       "      <td>4.655144e+07</td>\n",
       "      <td>4.655025e+07</td>\n",
       "    </tr>\n",
       "    <tr>\n",
       "      <th>mean</th>\n",
       "      <td>2.582898e+06</td>\n",
       "      <td>5.898384e-02</td>\n",
       "      <td>2.785741e+05</td>\n",
       "      <td>3.644275e+01</td>\n",
       "      <td>2.171479e+04</td>\n",
       "      <td>1.144113e+00</td>\n",
       "      <td>2.390146e+01</td>\n",
       "    </tr>\n",
       "    <tr>\n",
       "      <th>std</th>\n",
       "      <td>1.493335e+06</td>\n",
       "      <td>2.355945e-01</td>\n",
       "      <td>1.610572e+05</td>\n",
       "      <td>1.245243e+01</td>\n",
       "      <td>1.248680e+04</td>\n",
       "      <td>5.080278e-01</td>\n",
       "      <td>1.273987e+00</td>\n",
       "    </tr>\n",
       "    <tr>\n",
       "      <th>min</th>\n",
       "      <td>1.000000e+00</td>\n",
       "      <td>0.000000e+00</td>\n",
       "      <td>1.000000e+00</td>\n",
       "      <td>2.500000e+01</td>\n",
       "      <td>1.000000e+00</td>\n",
       "      <td>1.000000e+00</td>\n",
       "      <td>1.000000e+00</td>\n",
       "    </tr>\n",
       "    <tr>\n",
       "      <th>25%</th>\n",
       "      <td>1.289981e+06</td>\n",
       "      <td>0.000000e+00</td>\n",
       "      <td>1.382670e+05</td>\n",
       "      <td>2.900000e+01</td>\n",
       "      <td>1.105200e+04</td>\n",
       "      <td>1.000000e+00</td>\n",
       "      <td>2.400000e+01</td>\n",
       "    </tr>\n",
       "    <tr>\n",
       "      <th>50%</th>\n",
       "      <td>2.580033e+06</td>\n",
       "      <td>0.000000e+00</td>\n",
       "      <td>2.784610e+05</td>\n",
       "      <td>2.900000e+01</td>\n",
       "      <td>2.164900e+04</td>\n",
       "      <td>1.000000e+00</td>\n",
       "      <td>2.400000e+01</td>\n",
       "    </tr>\n",
       "    <tr>\n",
       "      <th>75%</th>\n",
       "      <td>3.875410e+06</td>\n",
       "      <td>0.000000e+00</td>\n",
       "      <td>4.179960e+05</td>\n",
       "      <td>5.700000e+01</td>\n",
       "      <td>3.242300e+04</td>\n",
       "      <td>1.000000e+00</td>\n",
       "      <td>2.400000e+01</td>\n",
       "    </tr>\n",
       "    <tr>\n",
       "      <th>max</th>\n",
       "      <td>5.171848e+06</td>\n",
       "      <td>1.000000e+00</td>\n",
       "      <td>5.570060e+05</td>\n",
       "      <td>5.700000e+01</td>\n",
       "      <td>4.369200e+04</td>\n",
       "      <td>3.000000e+00</td>\n",
       "      <td>3.700000e+01</td>\n",
       "    </tr>\n",
       "  </tbody>\n",
       "</table>\n",
       "</div>"
      ],
      "text/plain": [
       "         session_id   add_to_cart       user_id       country    partnumber  \\\n",
       "count  4.655144e+07  4.655144e+07  6.856730e+06  4.655144e+07  4.655144e+07   \n",
       "mean   2.582898e+06  5.898384e-02  2.785741e+05  3.644275e+01  2.171479e+04   \n",
       "std    1.493335e+06  2.355945e-01  1.610572e+05  1.245243e+01  1.248680e+04   \n",
       "min    1.000000e+00  0.000000e+00  1.000000e+00  2.500000e+01  1.000000e+00   \n",
       "25%    1.289981e+06  0.000000e+00  1.382670e+05  2.900000e+01  1.105200e+04   \n",
       "50%    2.580033e+06  0.000000e+00  2.784610e+05  2.900000e+01  2.164900e+04   \n",
       "75%    3.875410e+06  0.000000e+00  4.179960e+05  5.700000e+01  3.242300e+04   \n",
       "max    5.171848e+06  1.000000e+00  5.570060e+05  5.700000e+01  4.369200e+04   \n",
       "\n",
       "        device_type      pagetype  \n",
       "count  4.655144e+07  4.655025e+07  \n",
       "mean   1.144113e+00  2.390146e+01  \n",
       "std    5.080278e-01  1.273987e+00  \n",
       "min    1.000000e+00  1.000000e+00  \n",
       "25%    1.000000e+00  2.400000e+01  \n",
       "50%    1.000000e+00  2.400000e+01  \n",
       "75%    1.000000e+00  2.400000e+01  \n",
       "max    3.000000e+00  3.700000e+01  "
      ]
     },
     "execution_count": 6,
     "metadata": {},
     "output_type": "execute_result"
    }
   ],
   "source": [
    "train.describe()"
   ]
  },
  {
   "cell_type": "markdown",
   "metadata": {},
   "source": [
    "### Parseamos Fechas y horas:"
   ]
  },
  {
   "cell_type": "code",
   "execution_count": 46,
   "metadata": {},
   "outputs": [],
   "source": [
    "#timestamp_local\n",
    "train['timestamp_local'] = pd.to_datetime(train['timestamp_local'])\n",
    "\n",
    "#date\n",
    "train['date'] = pd.to_datetime(train['date'])"
   ]
  },
  {
   "cell_type": "code",
   "execution_count": 171,
   "metadata": {},
   "outputs": [],
   "source": [
    "#timestamp_local\n",
    "test['timestamp_local'] = pd.to_datetime(test['timestamp_local'])\n",
    "\n",
    "#date\n",
    "test['date'] = pd.to_datetime(test['date'])"
   ]
  },
  {
   "cell_type": "code",
   "execution_count": 47,
   "metadata": {},
   "outputs": [
    {
     "name": "stdout",
     "output_type": "stream",
     "text": [
      "<class 'pandas.core.frame.DataFrame'>\n",
      "RangeIndex: 46551445 entries, 0 to 46551444\n",
      "Data columns (total 9 columns):\n",
      " #   Column           Dtype         \n",
      "---  ------           -----         \n",
      " 0   session_id       int64         \n",
      " 1   date             datetime64[ns]\n",
      " 2   timestamp_local  datetime64[ns]\n",
      " 3   add_to_cart      int64         \n",
      " 4   user_id          float64       \n",
      " 5   country          int64         \n",
      " 6   partnumber       int64         \n",
      " 7   device_type      int64         \n",
      " 8   pagetype         float64       \n",
      "dtypes: datetime64[ns](2), float64(2), int64(5)\n",
      "memory usage: 3.1 GB\n"
     ]
    }
   ],
   "source": [
    "train.info()"
   ]
  },
  {
   "cell_type": "markdown",
   "metadata": {},
   "source": [
    "## User_id"
   ]
  },
  {
   "cell_type": "code",
   "execution_count": 95,
   "metadata": {},
   "outputs": [
    {
     "name": "stdout",
     "output_type": "stream",
     "text": [
      "Porcentaje de valores NaN en user_id: 85.27063982654029 %\n"
     ]
    }
   ],
   "source": [
    "#Contar los valores NaN en la columna \"cod_section\"\n",
    "cantidad_nan = train['user_id'].isnull().sum()\n",
    "total_valores = len(train)\n",
    "\n",
    "#Calcular el porcentaje \n",
    "porcentaje_nan = (cantidad_nan / total_valores) * 100\n",
    "\n",
    "print(\"Porcentaje de valores NaN en user_id:\", porcentaje_nan, \"%\")"
   ]
  },
  {
   "cell_type": "code",
   "execution_count": 137,
   "metadata": {},
   "outputs": [
    {
     "data": {
      "text/plain": [
       "380035"
      ]
     },
     "execution_count": 137,
     "metadata": {},
     "output_type": "execute_result"
    }
   ],
   "source": [
    "#Hay 380 052 usuarios únicos\n",
    "train['user_id'].nunique()"
   ]
  },
  {
   "cell_type": "markdown",
   "metadata": {},
   "source": [
    "## Country"
   ]
  },
  {
   "cell_type": "code",
   "execution_count": null,
   "metadata": {},
   "outputs": [],
   "source": [
    "# cantidad_nan = train['country'].isnull().sum()\n",
    "# print(\"Cantidad de valores nulos:\", cantidad_nan)"
   ]
  },
  {
   "cell_type": "code",
   "execution_count": null,
   "metadata": {},
   "outputs": [
    {
     "data": {
      "text/plain": [
       "country\n",
       "29    13664727\n",
       "57    11946880\n",
       "34    10635284\n",
       "25    10304554\n",
       "Name: count, dtype: int64"
      ]
     },
     "execution_count": 101,
     "metadata": {},
     "output_type": "execute_result"
    }
   ],
   "source": [
    "#Parece que solo hay 4 paises\n",
    "train[\"country\"].value_counts()"
   ]
  },
  {
   "cell_type": "markdown",
   "metadata": {},
   "source": [
    "## partnumber       "
   ]
  },
  {
   "cell_type": "code",
   "execution_count": 103,
   "metadata": {},
   "outputs": [
    {
     "name": "stdout",
     "output_type": "stream",
     "text": [
      "Cantidad de valores nulos: 0\n"
     ]
    }
   ],
   "source": [
    "# cantidad_nan = train['partnumber'].isnull().sum()\n",
    "# print(\"Cantidad de valores nulos:\", cantidad_nan)"
   ]
  },
  {
   "cell_type": "code",
   "execution_count": 102,
   "metadata": {},
   "outputs": [
    {
     "data": {
      "text/plain": [
       "0           14327\n",
       "1           38422\n",
       "2           19763\n",
       "3           30253\n",
       "4            1592\n",
       "            ...  \n",
       "46551440    39901\n",
       "46551441    38638\n",
       "46551442    10883\n",
       "46551443     3769\n",
       "46551444    37323\n",
       "Name: partnumber, Length: 46551445, dtype: int64"
      ]
     },
     "execution_count": 102,
     "metadata": {},
     "output_type": "execute_result"
    }
   ],
   "source": [
    "train[\"partnumber\"]"
   ]
  },
  {
   "cell_type": "markdown",
   "metadata": {},
   "source": [
    "## device_type      "
   ]
  },
  {
   "cell_type": "code",
   "execution_count": 105,
   "metadata": {},
   "outputs": [
    {
     "data": {
      "text/plain": [
       "array([1, 3, 2], dtype=int64)"
      ]
     },
     "execution_count": 105,
     "metadata": {},
     "output_type": "execute_result"
    }
   ],
   "source": [
    "train[\"device_type\"].unique()"
   ]
  },
  {
   "cell_type": "markdown",
   "metadata": {},
   "source": [
    "## pagetype         "
   ]
  },
  {
   "cell_type": "code",
   "execution_count": null,
   "metadata": {},
   "outputs": [],
   "source": [
    "# cantidad_nan = train['pagetype'].isnull().sum()\n",
    "# print(\"Cantidad de valores nulos:\", cantidad_nan)\n",
    "# train = train.dropna(subset=['pagetype'])"
   ]
  },
  {
   "cell_type": "code",
   "execution_count": 172,
   "metadata": {},
   "outputs": [
    {
     "name": "stdout",
     "output_type": "stream",
     "text": [
      "Cantidad de valores nulos: 0\n"
     ]
    }
   ],
   "source": [
    "# cantidad_nan = test['pagetype'].isnull().sum()\n",
    "# print(\"Cantidad de valores nulos:\", cantidad_nan)\n",
    "# test = test.dropna(subset=['pagetype'])"
   ]
  },
  {
   "cell_type": "code",
   "execution_count": 113,
   "metadata": {},
   "outputs": [],
   "source": [
    "train['pagetype'] = train['pagetype'].apply(int)"
   ]
  },
  {
   "cell_type": "code",
   "execution_count": 173,
   "metadata": {},
   "outputs": [],
   "source": [
    "test['pagetype'] = test['pagetype'].apply(int)"
   ]
  },
  {
   "cell_type": "code",
   "execution_count": 114,
   "metadata": {},
   "outputs": [
    {
     "data": {
      "text/plain": [
       "array([24,  8,  6, 19,  1,  7, 17, 16, 25, 20, 23, 10,  9, 21,  5,  3, 29,\n",
       "       12, 14, 13, 26, 11, 22, 36, 15, 35, 33, 34,  2, 27, 37, 30, 31, 32,\n",
       "        4, 18, 28], dtype=int64)"
      ]
     },
     "execution_count": 114,
     "metadata": {},
     "output_type": "execute_result"
    }
   ],
   "source": [
    "train[\"pagetype\"].unique()"
   ]
  },
  {
   "cell_type": "code",
   "execution_count": 174,
   "metadata": {},
   "outputs": [],
   "source": [
    "# train.to_csv(\"data/processed/train_pro.csv\")\n",
    "# test.to_csv(\"data/processed/test_pro.csv\")"
   ]
  },
  {
   "cell_type": "markdown",
   "metadata": {},
   "source": [
    "# Dataset 2:  **Productos**"
   ]
  },
  {
   "cell_type": "code",
   "execution_count": 116,
   "metadata": {},
   "outputs": [
    {
     "data": {
      "text/html": [
       "<div>\n",
       "<style scoped>\n",
       "    .dataframe tbody tr th:only-of-type {\n",
       "        vertical-align: middle;\n",
       "    }\n",
       "\n",
       "    .dataframe tbody tr th {\n",
       "        vertical-align: top;\n",
       "    }\n",
       "\n",
       "    .dataframe thead th {\n",
       "        text-align: right;\n",
       "    }\n",
       "</style>\n",
       "<table border=\"1\" class=\"dataframe\">\n",
       "  <thead>\n",
       "    <tr style=\"text-align: right;\">\n",
       "      <th></th>\n",
       "      <th>discount</th>\n",
       "      <th>embedding</th>\n",
       "      <th>partnumber</th>\n",
       "      <th>color_id</th>\n",
       "      <th>cod_section</th>\n",
       "      <th>family</th>\n",
       "    </tr>\n",
       "  </thead>\n",
       "  <tbody>\n",
       "    <tr>\n",
       "      <th>0</th>\n",
       "      <td>0</td>\n",
       "      <td>[-0.13401361, -0.1200429, -0.016117405, -0.167...</td>\n",
       "      <td>32776</td>\n",
       "      <td>85</td>\n",
       "      <td>4.0</td>\n",
       "      <td>73</td>\n",
       "    </tr>\n",
       "    <tr>\n",
       "      <th>1</th>\n",
       "      <td>0</td>\n",
       "      <td>[-0.0949274, -0.107294075, -0.16559914, -0.174...</td>\n",
       "      <td>41431</td>\n",
       "      <td>135</td>\n",
       "      <td>4.0</td>\n",
       "      <td>73</td>\n",
       "    </tr>\n",
       "    <tr>\n",
       "      <th>2</th>\n",
       "      <td>0</td>\n",
       "      <td>[-0.12904441, -0.07724628, -0.09799071, -0.164...</td>\n",
       "      <td>39419</td>\n",
       "      <td>339</td>\n",
       "      <td>4.0</td>\n",
       "      <td>73</td>\n",
       "    </tr>\n",
       "    <tr>\n",
       "      <th>3</th>\n",
       "      <td>1</td>\n",
       "      <td>[-0.12783332, -0.133868, -0.10101265, -0.18888...</td>\n",
       "      <td>36087</td>\n",
       "      <td>135</td>\n",
       "      <td>4.0</td>\n",
       "      <td>73</td>\n",
       "    </tr>\n",
       "    <tr>\n",
       "      <th>4</th>\n",
       "      <td>1</td>\n",
       "      <td>[-0.14092924, -0.1258284, -0.10809927, -0.1765...</td>\n",
       "      <td>34132</td>\n",
       "      <td>3</td>\n",
       "      <td>4.0</td>\n",
       "      <td>73</td>\n",
       "    </tr>\n",
       "    <tr>\n",
       "      <th>...</th>\n",
       "      <td>...</td>\n",
       "      <td>...</td>\n",
       "      <td>...</td>\n",
       "      <td>...</td>\n",
       "      <td>...</td>\n",
       "      <td>...</td>\n",
       "    </tr>\n",
       "    <tr>\n",
       "      <th>43687</th>\n",
       "      <td>0</td>\n",
       "      <td>[-0.1725829, 0.780391, -0.16265817, -0.1397962...</td>\n",
       "      <td>234</td>\n",
       "      <td>368</td>\n",
       "      <td>2.0</td>\n",
       "      <td>192</td>\n",
       "    </tr>\n",
       "    <tr>\n",
       "      <th>43688</th>\n",
       "      <td>0</td>\n",
       "      <td>[-0.08114546, 0.7171631, 0.2157723, -0.1599884...</td>\n",
       "      <td>235</td>\n",
       "      <td>152</td>\n",
       "      <td>2.0</td>\n",
       "      <td>138</td>\n",
       "    </tr>\n",
       "    <tr>\n",
       "      <th>43689</th>\n",
       "      <td>0</td>\n",
       "      <td>[-0.1517721, 1.640085, -0.1506274, -0.06088442...</td>\n",
       "      <td>236</td>\n",
       "      <td>226</td>\n",
       "      <td>2.0</td>\n",
       "      <td>135</td>\n",
       "    </tr>\n",
       "    <tr>\n",
       "      <th>43690</th>\n",
       "      <td>0</td>\n",
       "      <td>[-0.078192495, 0.012600096, -0.085486665, 0.49...</td>\n",
       "      <td>237</td>\n",
       "      <td>122</td>\n",
       "      <td>2.0</td>\n",
       "      <td>10</td>\n",
       "    </tr>\n",
       "    <tr>\n",
       "      <th>43691</th>\n",
       "      <td>0</td>\n",
       "      <td>[-0.12523538, 0.058919854, -0.14703132, -0.185...</td>\n",
       "      <td>238</td>\n",
       "      <td>85</td>\n",
       "      <td>2.0</td>\n",
       "      <td>207</td>\n",
       "    </tr>\n",
       "  </tbody>\n",
       "</table>\n",
       "<p>43692 rows × 6 columns</p>\n",
       "</div>"
      ],
      "text/plain": [
       "      discount                                          embedding  partnumber  \\\n",
       "0            0  [-0.13401361, -0.1200429, -0.016117405, -0.167...       32776   \n",
       "1            0  [-0.0949274, -0.107294075, -0.16559914, -0.174...       41431   \n",
       "2            0  [-0.12904441, -0.07724628, -0.09799071, -0.164...       39419   \n",
       "3            1  [-0.12783332, -0.133868, -0.10101265, -0.18888...       36087   \n",
       "4            1  [-0.14092924, -0.1258284, -0.10809927, -0.1765...       34132   \n",
       "...        ...                                                ...         ...   \n",
       "43687        0  [-0.1725829, 0.780391, -0.16265817, -0.1397962...         234   \n",
       "43688        0  [-0.08114546, 0.7171631, 0.2157723, -0.1599884...         235   \n",
       "43689        0  [-0.1517721, 1.640085, -0.1506274, -0.06088442...         236   \n",
       "43690        0  [-0.078192495, 0.012600096, -0.085486665, 0.49...         237   \n",
       "43691        0  [-0.12523538, 0.058919854, -0.14703132, -0.185...         238   \n",
       "\n",
       "       color_id  cod_section  family  \n",
       "0            85          4.0      73  \n",
       "1           135          4.0      73  \n",
       "2           339          4.0      73  \n",
       "3           135          4.0      73  \n",
       "4             3          4.0      73  \n",
       "...         ...          ...     ...  \n",
       "43687       368          2.0     192  \n",
       "43688       152          2.0     138  \n",
       "43689       226          2.0     135  \n",
       "43690       122          2.0      10  \n",
       "43691        85          2.0     207  \n",
       "\n",
       "[43692 rows x 6 columns]"
      ]
     },
     "execution_count": 116,
     "metadata": {},
     "output_type": "execute_result"
    }
   ],
   "source": [
    "productos = pd.read_pickle(\"data/raw/products.pkl\")\n",
    "productos"
   ]
  },
  {
   "cell_type": "markdown",
   "metadata": {},
   "source": [
    "## **discount:** Boolean indicating if the product is on sale - *Tiene descuento*   \n",
    " (Hay en oferta 1378 productos)\n",
    "\n"
   ]
  },
  {
   "cell_type": "code",
   "execution_count": 118,
   "metadata": {},
   "outputs": [],
   "source": [
    "# cantidad_nan = productos ['discount'].isnull().sum()\n",
    "# print(\"Cantidad de valores nulos:\", cantidad_nan)"
   ]
  },
  {
   "cell_type": "code",
   "execution_count": 119,
   "metadata": {},
   "outputs": [
    {
     "data": {
      "text/plain": [
       "discount\n",
       "0    42314\n",
       "1     1378\n",
       "Name: count, dtype: int64"
      ]
     },
     "execution_count": 119,
     "metadata": {},
     "output_type": "execute_result"
    }
   ],
   "source": [
    "productos[\"discount\"].value_counts()"
   ]
  },
  {
   "cell_type": "code",
   "execution_count": null,
   "metadata": {},
   "outputs": [
    {
     "data": {
      "image/png": "[encoded data removed]",
      "text/plain": [
       "<Figure size 640x480 with 1 Axes>"
      ]
     },
     "metadata": {},
     "output_type": "display_data"
    }
   ],
   "source": [
    "# Obtener los conteos\n",
    "conteo_descuentos = productos[\"discount\"].value_counts()\n",
    "\n",
    "# Crear el gráfico de barras\n",
    "conteo_descuentos.plot(kind='bar')\n",
    "plt.title('Conteo de productos con y sin descuento')\n",
    "plt.ylabel('Cantidad');"
   ]
  },
  {
   "cell_type": "markdown",
   "metadata": {},
   "source": [
    "## **embedding:** Embedding of the product's flat image obtained from computer vision techniques - *Vectores de la imagen plana*\n",
    "\n",
    "(los puedo usar para recomendar prendas similares)"
   ]
  },
  {
   "cell_type": "code",
   "execution_count": 122,
   "metadata": {},
   "outputs": [
    {
     "name": "stdout",
     "output_type": "stream",
     "text": [
      "Cantidad de valores nulos: 0\n"
     ]
    }
   ],
   "source": [
    "cantidad_nan = productos ['embedding'].isnull().sum()\n",
    "print(\"Cantidad de valores nulos:\", cantidad_nan)\n",
    "productos = productos.dropna(subset=['embedding'])"
   ]
  },
  {
   "cell_type": "code",
   "execution_count": 123,
   "metadata": {},
   "outputs": [
    {
     "name": "stdout",
     "output_type": "stream",
     "text": [
      "0    [-0.13401361, -0.1200429, -0.016117405, -0.167...\n",
      "1    [-0.0949274, -0.107294075, -0.16559914, -0.174...\n",
      "Name: embedding, dtype: object\n"
     ]
    }
   ],
   "source": [
    "print(productos[\"embedding\"].head(2))"
   ]
  },
  {
   "cell_type": "markdown",
   "metadata": {},
   "source": [
    "## **partnumber:** Product identifier - *Identificador de producto*"
   ]
  },
  {
   "cell_type": "code",
   "execution_count": 76,
   "metadata": {},
   "outputs": [
    {
     "name": "stdout",
     "output_type": "stream",
     "text": [
      "Cantidad de valores nulos: 0\n"
     ]
    }
   ],
   "source": [
    "# cantidad_nan = productos ['partnumber'].isnull().sum()\n",
    "# print(\"Cantidad de valores nulos:\", cantidad_nan)"
   ]
  },
  {
   "cell_type": "code",
   "execution_count": 124,
   "metadata": {},
   "outputs": [
    {
     "data": {
      "text/plain": [
       "<bound method IndexOpsMixin.value_counts of 0        32776\n",
       "1        41431\n",
       "2        39419\n",
       "3        36087\n",
       "4        34132\n",
       "         ...  \n",
       "43687      234\n",
       "43688      235\n",
       "43689      236\n",
       "43690      237\n",
       "43691      238\n",
       "Name: partnumber, Length: 37522, dtype: int32>"
      ]
     },
     "execution_count": 124,
     "metadata": {},
     "output_type": "execute_result"
    }
   ],
   "source": [
    "productos[\"partnumber\"].value_counts"
   ]
  },
  {
   "cell_type": "markdown",
   "metadata": {},
   "source": [
    "## **color_id:** Product color identifier - *Identificador de color*\n"
   ]
  },
  {
   "cell_type": "code",
   "execution_count": 79,
   "metadata": {},
   "outputs": [],
   "source": [
    "# cantidad_nan = productos ['color_id'].isnull().sum()\n",
    "# print(\"Cantidad de valores nulos:\", cantidad_nan)"
   ]
  },
  {
   "cell_type": "code",
   "execution_count": 125,
   "metadata": {},
   "outputs": [
    {
     "data": {
      "text/plain": [
       "array([ 85, 135, 339,   3, 174, 307, 148, 414, 335,  20,  15, 455, 461,\n",
       "       153, 257, 298, 331,  53, 214, 321, 408, 254,  83, 130,  89, 306,\n",
       "       120, 262, 325, 137, 383,  64,  48, 416, 346, 397, 338, 312, 505,\n",
       "       371, 311,  81, 158,  86, 166, 433,  82, 213, 320, 317, 278, 144,\n",
       "       112, 380, 617, 440, 560, 289,   1, 407, 400, 347, 248, 226, 441,\n",
       "       600,  74, 421, 377,  37, 364, 619, 181,  75, 405, 472, 231, 310,\n",
       "       296, 284,  58, 391, 267, 206, 297, 175,   5, 422, 374, 236, 333,\n",
       "       368, 342, 430, 225, 227,  95, 170, 486, 188, 243, 115,  36,  62,\n",
       "       369, 142,  72, 352, 195, 287,  79, 286, 205, 509, 234, 299, 199,\n",
       "       457, 263, 428, 439, 215, 283, 132,  78,  52, 466, 389, 211, 218,\n",
       "       637,  49, 122,  17, 471,  39, 293, 238, 314, 292, 221, 155, 102,\n",
       "       521,  69, 157, 337, 288, 139,  91, 177, 313, 540, 178, 361, 261,\n",
       "       349, 343, 510, 508, 489, 209, 401,  96, 420, 635, 370, 279, 354,\n",
       "       201, 193, 230,   9,   6, 398,  29, 467, 632,  80, 216, 260,  51,\n",
       "        99, 192, 386,   7,   8, 146, 222,  73,  50, 251, 382, 128, 141,\n",
       "       255, 196, 113, 169, 456, 235, 411,  16, 304, 459,  46, 434, 237,\n",
       "        28, 329,  44, 359, 294, 291, 356, 426, 557, 118, 249,  24,  32,\n",
       "       129, 265, 450,  60, 127, 562, 372, 277, 344, 316, 272,  59, 229,\n",
       "       334, 210,  90, 448, 276,   2, 309,  12, 280, 633,  26,  42, 101,\n",
       "       443, 154, 462, 165, 621, 186, 453, 202, 117, 390, 290,  98, 208,\n",
       "        18,  61, 145, 395,  63, 271, 200, 616, 375, 121, 429, 126,  77,\n",
       "       167, 327, 228, 388, 392, 164,   4, 582, 123, 204, 442, 149,  94,\n",
       "       491, 138, 583, 217,  93, 258, 404, 119, 409, 322, 425,  65,  35,\n",
       "       151, 189, 345,  97, 308, 497,  45, 602,  25, 424, 191, 114, 412,\n",
       "       340, 223, 500,  87, 133, 274, 239, 100, 323,  70, 427, 107, 162,\n",
       "       194, 604, 415, 241, 156, 341, 396, 198, 543, 485, 106, 363, 367,\n",
       "       269, 315, 150,  54, 302,  55, 348, 613,  40, 160, 318, 109,  11,\n",
       "       631, 478, 615, 212, 468, 185, 622, 402, 300, 360,  31,  71, 350,\n",
       "       366, 124, 104,  38,  21, 365, 219, 116, 264, 373, 332, 476, 626,\n",
       "       451, 270, 176, 463, 623, 161, 437,  27, 475, 541, 452, 379, 403,\n",
       "       152, 572, 470, 636, 564, 480, 357, 618, 554, 573, 620, 233, 492,\n",
       "       282, 438, 544, 220, 638, 593, 406, 180,  23, 417,  47, 362, 465,\n",
       "        14, 326, 351,  10, 419, 444, 378, 140, 487, 503, 418, 301, 483,\n",
       "       499, 512, 275, 493, 134, 353, 168, 566,  33, 387, 105, 435, 285,\n",
       "       330, 111, 266, 303, 355, 464,  76, 423, 246, 384, 159,  34, 131,\n",
       "       136, 385, 458, 410, 203, 449, 399, 268, 103, 108, 273, 454, 469,\n",
       "       197,  84, 184,  30, 447, 281, 252, 240, 336,  66, 232, 295, 242,\n",
       "       381, 172, 473, 319,  68,  92, 436, 253, 147, 125, 445, 432, 446,\n",
       "        13, 247,  41, 259, 305, 394, 256,  43, 328, 460,  57, 590, 501,\n",
       "       494, 585, 607, 580, 578, 504, 547, 490, 183, 567, 477, 534, 187,\n",
       "       539, 542, 577, 481, 538, 514, 611, 479, 612, 565, 431, 594, 597,\n",
       "       614, 571, 551, 522, 546, 598, 606, 535, 502, 525, 517, 520, 596,\n",
       "       561, 173, 587, 523, 376, 599, 588, 207, 570, 474, 591, 603, 563,\n",
       "       574, 589, 592, 608, 324, 516, 532, 506, 507, 552, 526, 553, 519,\n",
       "       530, 393, 555, 171, 558, 482, 537,  19, 182, 533, 548, 488, 524,\n",
       "       529, 518, 495, 556, 511, 190, 110, 245,  88, 545, 550, 527, 484,\n",
       "       559, 531, 536])"
      ]
     },
     "execution_count": 125,
     "metadata": {},
     "output_type": "execute_result"
    }
   ],
   "source": [
    "productos[\"color_id\"].unique()"
   ]
  },
  {
   "cell_type": "markdown",
   "metadata": {},
   "source": [
    "## **cod_section:** Section to which the product belongs - *Sección del producto*\n"
   ]
  },
  {
   "cell_type": "code",
   "execution_count": 126,
   "metadata": {},
   "outputs": [
    {
     "data": {
      "text/plain": [
       "array([ 4.,  1.,  3., nan,  2.])"
      ]
     },
     "execution_count": 126,
     "metadata": {},
     "output_type": "execute_result"
    }
   ],
   "source": [
    "#Podriamos eliminar los nan y pasar a int\n",
    "productos[\"cod_section\"].unique()"
   ]
  },
  {
   "cell_type": "code",
   "execution_count": 128,
   "metadata": {},
   "outputs": [
    {
     "name": "stdout",
     "output_type": "stream",
     "text": [
      "Cantidad de valores nulos: 0\n"
     ]
    }
   ],
   "source": [
    "# cantidad_nan = productos ['cod_section'].isnull().sum()\n",
    "# print(\"Cantidad de valores nulos:\", cantidad_nan)\n",
    "# productos = productos.dropna(subset=['cod_section'])"
   ]
  },
  {
   "cell_type": "code",
   "execution_count": 129,
   "metadata": {},
   "outputs": [],
   "source": [
    "productos['cod_section'] = productos['cod_section'].apply(int)"
   ]
  },
  {
   "cell_type": "code",
   "execution_count": 131,
   "metadata": {},
   "outputs": [
    {
     "data": {
      "text/plain": [
       "array([4, 1, 3, 2], dtype=int64)"
      ]
     },
     "execution_count": 131,
     "metadata": {},
     "output_type": "execute_result"
    }
   ],
   "source": [
    "productos['cod_section'].unique()"
   ]
  },
  {
   "cell_type": "markdown",
   "metadata": {},
   "source": [
    "## **family:** Product family to which the product belongs - *Familia del producto*"
   ]
  },
  {
   "cell_type": "markdown",
   "metadata": {},
   "source": [
    "Hay 212 familias"
   ]
  },
  {
   "cell_type": "code",
   "execution_count": 132,
   "metadata": {},
   "outputs": [
    {
     "data": {
      "text/plain": [
       "family\n",
       "73     3866\n",
       "156    3155\n",
       "51     2818\n",
       "53     1746\n",
       "153    1350\n",
       "       ... \n",
       "91        2\n",
       "145       2\n",
       "98        1\n",
       "216       1\n",
       "214       1\n",
       "Name: count, Length: 212, dtype: int64"
      ]
     },
     "execution_count": 132,
     "metadata": {},
     "output_type": "execute_result"
    }
   ],
   "source": [
    "productos[\"family\"].value_counts()"
   ]
  },
  {
   "cell_type": "code",
   "execution_count": 133,
   "metadata": {},
   "outputs": [],
   "source": [
    "#Guardamos Productos en \n",
    "# productos.to_csv(\"data/processed/productos.csv\")"
   ]
  },
  {
   "cell_type": "markdown",
   "metadata": {},
   "source": [
    "# Task 1: Responda las siguientes preguntas y desarrolle dos funciones sobre los conjuntos de datos de entrenamiento, clientes y productos:"
   ]
  },
  {
   "cell_type": "markdown",
   "metadata": {},
   "source": [
    "#### **P1:** ¿Qué producto (partnumber) con color_id igual a 3 pertenece a la familia (family) con el código más bajo que tenga descuento?"
   ]
  },
  {
   "cell_type": "code",
   "execution_count": 86,
   "metadata": {},
   "outputs": [],
   "source": [
    "def encontrar_producto_mas_barato_por_familia(df):\n",
    "    \"\"\"\n",
    "    Encuentra el producto con el color_id 3, descuento y la familia más baja.\n",
    "\n",
    "    Args:\n",
    "        df (pd.DataFrame): DataFrame de productos.\n",
    "\n",
    "    Returns:\n",
    "        pd.Series: Una serie con la información del producto buscado.\n",
    "    \"\"\"\n",
    "\n",
    "    # Filtrar por color y descuento\n",
    "    productos_filtrados = df[(df['color_id'] == 3) & (df['discount'] == True)] \n",
    "\n",
    "    # Agrupar por familia y obtener la primera familia (asumiendo orden ascendente)\n",
    "    familia_minima = productos_filtrados.groupby('family')['family'].first() \n",
    "\n",
    "    # Obtener la familia con el código más bajo\n",
    "    familia_con_menor_codigo = familia_minima.iloc[0] \n",
    "\n",
    "    # Obtener el producto con el partnumber\n",
    "    producto_buscado = productos_filtrados[productos_filtrados['family'] == familia_con_menor_codigo]\n",
    "\n",
    "    return producto_buscado"
   ]
  },
  {
   "cell_type": "code",
   "execution_count": 139,
   "metadata": {},
   "outputs": [
    {
     "data": {
      "text/html": [
       "<div>\n",
       "<style scoped>\n",
       "    .dataframe tbody tr th:only-of-type {\n",
       "        vertical-align: middle;\n",
       "    }\n",
       "\n",
       "    .dataframe tbody tr th {\n",
       "        vertical-align: top;\n",
       "    }\n",
       "\n",
       "    .dataframe thead th {\n",
       "        text-align: right;\n",
       "    }\n",
       "</style>\n",
       "<table border=\"1\" class=\"dataframe\">\n",
       "  <thead>\n",
       "    <tr style=\"text-align: right;\">\n",
       "      <th></th>\n",
       "      <th>discount</th>\n",
       "      <th>embedding</th>\n",
       "      <th>partnumber</th>\n",
       "      <th>color_id</th>\n",
       "      <th>cod_section</th>\n",
       "      <th>family</th>\n",
       "    </tr>\n",
       "  </thead>\n",
       "  <tbody>\n",
       "    <tr>\n",
       "      <th>19413</th>\n",
       "      <td>1</td>\n",
       "      <td>[-0.16633523, -0.13765946, 0.31306392, -0.1556...</td>\n",
       "      <td>17265</td>\n",
       "      <td>3</td>\n",
       "      <td>4</td>\n",
       "      <td>1</td>\n",
       "    </tr>\n",
       "  </tbody>\n",
       "</table>\n",
       "</div>"
      ],
      "text/plain": [
       "      discount                                          embedding  partnumber  \\\n",
       "19413        1  [-0.16633523, -0.13765946, 0.31306392, -0.1556...       17265   \n",
       "\n",
       "       color_id  cod_section  family  \n",
       "19413         3            4       1  "
      ]
     },
     "execution_count": 139,
     "metadata": {},
     "output_type": "execute_result"
    }
   ],
   "source": [
    "encontrar_producto_mas_barato_por_familia(productos) #Parece que si que puntua algo"
   ]
  },
  {
   "cell_type": "markdown",
   "metadata": {},
   "source": [
    "#### **P2:** En el país donde la mayoría de los usuarios han realizado compras por un total inferior a 500 (M), ¿cuál es el usuario que tiene la frecuencia de compra más baja (F), la compra más reciente (R más alto) y el ID de usuario más bajo? Siga el orden dado de las variables como prioridad de clasificación."
   ]
  },
  {
   "cell_type": "code",
   "execution_count": 31,
   "metadata": {},
   "outputs": [
    {
     "data": {
      "text/plain": [
       "Index(['session_id', 'date', 'timestamp_local', 'add_to_cart', 'user_id',\n",
       "       'country', 'partnumber', 'device_type', 'pagetype'],\n",
       "      dtype='object')"
      ]
     },
     "execution_count": 31,
     "metadata": {},
     "output_type": "execute_result"
    }
   ],
   "source": [
    "train.columns"
   ]
  },
  {
   "cell_type": "code",
   "execution_count": 30,
   "metadata": {},
   "outputs": [
    {
     "data": {
      "text/plain": [
       "Index(['discount', 'embedding', 'partnumber', 'color_id', 'cod_section',\n",
       "       'family'],\n",
       "      dtype='object')"
      ]
     },
     "execution_count": 30,
     "metadata": {},
     "output_type": "execute_result"
    }
   ],
   "source": [
    "productos.columns"
   ]
  },
  {
   "cell_type": "markdown",
   "metadata": {},
   "source": [
    "#### **P3:** Entre los productos que se agregaron al carrito al menos una vez, ¿cuántas veces se visita un producto en promedio antes de que se agregue al carrito? Dé la respuesta con 2 decimales."
   ]
  },
  {
   "cell_type": "code",
   "execution_count": 140,
   "metadata": {},
   "outputs": [
    {
     "name": "stdout",
     "output_type": "stream",
     "text": [
      "Promedio de visitas antes de agregar al carrito: 93.3\n"
     ]
    }
   ],
   "source": [
    "# Filtrar las interacciones donde se agregó el producto al carrito\n",
    "df_agregado_al_carrito = train[train['add_to_cart'] == 1]\n",
    "\n",
    "# Agrupar por producto y contar las visitas antes de la adición\n",
    "visitas_antes_de_agregar = df_agregado_al_carrito.groupby('partnumber').size() - 1\n",
    "\n",
    "# Calcular el promedio de visitas\n",
    "promedio_visitas = visitas_antes_de_agregar.mean()\n",
    "\n",
    "print(\"Promedio de visitas antes de agregar al carrito:\", round(promedio_visitas, 2)) #Parece que no puntua"
   ]
  },
  {
   "cell_type": "code",
   "execution_count": 143,
   "metadata": {},
   "outputs": [
    {
     "data": {
      "image/png": "[encoded data removed]",
      "text/plain": [
       "<Figure size 640x480 with 1 Axes>"
      ]
     },
     "metadata": {},
     "output_type": "display_data"
    }
   ],
   "source": [
    "#Pequeña Visualización\n",
    "\n",
    "plt.hist(visitas_antes_de_agregar, bins=20)\n",
    "plt.xlabel('Número de visitas antes de agregar al carrito')\n",
    "plt.ylabel('Cantidad de productos')\n",
    "plt.title('Distribución de visitas antes de agregar al carrito')\n",
    "plt.show()\n"
   ]
  },
  {
   "cell_type": "markdown",
   "metadata": {},
   "source": [
    "#### P4: ¿Qué dispositivo (device_type) utilizan con más frecuencia los usuarios para realizar compras (add_to_cart = 1) de productos con descuento (discount = 1)?"
   ]
  },
  {
   "cell_type": "code",
   "execution_count": 147,
   "metadata": {},
   "outputs": [
    {
     "name": "stdout",
     "output_type": "stream",
     "text": [
      "El dispositivo más utilizado para comprar productos con descuento es: 1\n"
     ]
    }
   ],
   "source": [
    "# Fusionar los DataFrames por 'partnumber'\n",
    "df_merged = pd.merge(train, productos, on='partnumber', how='left')\n",
    "\n",
    "# Filtrar por productos con descuento y agregados al carrito\n",
    "compras_con_descuento = df_merged[(df_merged['discount'] == True) & (df_merged['add_to_cart'] == 1)]\n",
    "\n",
    "# Agrupar por dispositivo y contar las ocurrencias\n",
    "conteo_por_dispositivo = compras_con_descuento['device_type'].value_counts()\n",
    "\n",
    "# Obtener el dispositivo más utilizado\n",
    "dispositivo_mas_usado = conteo_por_dispositivo.index[0]\n",
    "\n",
    "print(\"El dispositivo más utilizado para comprar productos con descuento es:\", dispositivo_mas_usado) #Está perfecta"
   ]
  },
  {
   "cell_type": "code",
   "execution_count": 158,
   "metadata": {},
   "outputs": [
    {
     "data": {
      "text/plain": [
       "device_type\n",
       "1    42977960\n",
       "3     3136360\n",
       "2      435928\n",
       "Name: count, dtype: int64"
      ]
     },
     "execution_count": 158,
     "metadata": {},
     "output_type": "execute_result"
    }
   ],
   "source": [
    "train[\"device_type\"].value_counts()"
   ]
  },
  {
   "cell_type": "markdown",
   "metadata": {},
   "source": [
    "#### P5: Entre los usuarios con frecuencia de compra (F) en el top 3 dentro de su país de compra, ¿quién ha interactuado con más productos (partnumber) en sesiones realizadas desde un dispositivo con identificador 3 (device_type = 3)?\n"
   ]
  },
  {
   "cell_type": "markdown",
   "metadata": {},
   "source": [
    "#### P6: Para las interacciones que ocurrieron fuera del país de residencia del usuario, ¿cuántos identificadores de familia únicos hay? Tenga en cuenta cualquier país registrado para cada usuario, ya que puede haber más de un país por usuario.\n"
   ]
  },
  {
   "cell_type": "code",
   "execution_count": null,
   "metadata": {},
   "outputs": [],
   "source": [
    "# import pandas as pd\n",
    "\n",
    "# # Suponiendo que tienes los DataFrames:\n",
    "# # - 'usuarios': contiene información de usuarios (user_id, country, R, F, M)\n",
    "# # - 'productos': contiene información de productos (discount, embedding, partnumber, color_id, cod_section, family)\n",
    "# # - 'interacciones': contiene información de interacciones (session_id, date, timestamp_local, user_id, country, partnumber, device_type, pagetype, add_to_cart)\n",
    "\n",
    "# # Fusionar usuarios y productos por user_id\n",
    "# df_usuario_producto = pd.merge(usuarios, productos, on='user_id', how='left')\n",
    "\n",
    "# # Fusionar el resultado con interacciones por partnumber\n",
    "# df_completo = pd.merge(df_usuario_producto, interacciones, on='partnumber', how='left')\n",
    "\n",
    "# # Crear una columna para indicar si la interacción fue en otro país\n",
    "# df_completo['otro_pais'] = df_completo['country_x'] != df_completo['country_y']\n",
    "\n",
    "# # Filtrar las interacciones en otro país\n",
    "# interacciones_otro_pais = df_completo[df_completo['otro_pais']]\n",
    "\n",
    "# # Contar los identificadores de familia únicos\n",
    "# familias_unicas = interacciones_otro_pais['family'].nunique()\n",
    "\n",
    "# print(\"Número de familias únicas en interacciones fuera del país de residencia:\", familias_unicas)"
   ]
  },
  {
   "cell_type": "code",
   "execution_count": 157,
   "metadata": {},
   "outputs": [
    {
     "data": {
      "text/plain": [
       "pagetype\n",
       "24    46256324\n",
       "8       129640\n",
       "6       113491\n",
       "19       19534\n",
       "16       15359\n",
       "7         7959\n",
       "1         3652\n",
       "17        2270\n",
       "25         417\n",
       "23         295\n",
       "20         280\n",
       "10         236\n",
       "3          192\n",
       "5          165\n",
       "21         137\n",
       "12          63\n",
       "13          54\n",
       "26          49\n",
       "14          33\n",
       "9           28\n",
       "11          27\n",
       "22          13\n",
       "15          10\n",
       "2            5\n",
       "34           2\n",
       "31           2\n",
       "30           1\n",
       "18           1\n",
       "4            1\n",
       "32           1\n",
       "29           1\n",
       "37           1\n",
       "27           1\n",
       "33           1\n",
       "35           1\n",
       "36           1\n",
       "28           1\n",
       "Name: count, dtype: int64"
      ]
     },
     "execution_count": 157,
     "metadata": {},
     "output_type": "execute_result"
    }
   ],
   "source": [
    "train[\"pagetype\"].value_counts()"
   ]
  },
  {
   "cell_type": "markdown",
   "metadata": {},
   "source": [
    "#### P7: Entre las interacciones de los primeros 7 días de junio, ¿cuál es el tipo de página (pagetype) más frecuente donde se agrega cada familia al carrito? Devuélvalo en el siguiente formato: {'('family'): int('most_frequent_pagetype')}. En caso de empate, devuelva el pagetype más pequeño."
   ]
  },
  {
   "cell_type": "code",
   "execution_count": 154,
   "metadata": {},
   "outputs": [
    {
     "ename": "MemoryError",
     "evalue": "Unable to allocate 1.08 GiB for an array with shape (6, 24262753) and data type int64",
     "output_type": "error",
     "traceback": [
      "\u001b[1;31m---------------------------------------------------------------------------\u001b[0m",
      "\u001b[1;31mMemoryError\u001b[0m                               Traceback (most recent call last)",
      "Cell \u001b[1;32mIn[154], line 2\u001b[0m\n\u001b[0;32m      1\u001b[0m \u001b[38;5;66;03m# Filtrar las interacciones de los primeros 7 días de junio\u001b[39;00m\n\u001b[1;32m----> 2\u001b[0m df_junio \u001b[38;5;241m=\u001b[39m \u001b[43mdf_merged\u001b[49m\u001b[43m[\u001b[49m\u001b[43m(\u001b[49m\u001b[43mdf_merged\u001b[49m\u001b[43m[\u001b[49m\u001b[38;5;124;43m'\u001b[39;49m\u001b[38;5;124;43mdate\u001b[39;49m\u001b[38;5;124;43m'\u001b[39;49m\u001b[43m]\u001b[49m\u001b[38;5;241;43m.\u001b[39;49m\u001b[43mdt\u001b[49m\u001b[38;5;241;43m.\u001b[39;49m\u001b[43mmonth\u001b[49m\u001b[43m \u001b[49m\u001b[38;5;241;43m==\u001b[39;49m\u001b[43m \u001b[49m\u001b[38;5;241;43m6\u001b[39;49m\u001b[43m)\u001b[49m\u001b[43m \u001b[49m\u001b[38;5;241;43m&\u001b[39;49m\u001b[43m \u001b[49m\u001b[43m(\u001b[49m\u001b[43mdf_merged\u001b[49m\u001b[43m[\u001b[49m\u001b[38;5;124;43m'\u001b[39;49m\u001b[38;5;124;43mdate\u001b[39;49m\u001b[38;5;124;43m'\u001b[39;49m\u001b[43m]\u001b[49m\u001b[38;5;241;43m.\u001b[39;49m\u001b[43mdt\u001b[49m\u001b[38;5;241;43m.\u001b[39;49m\u001b[43mday\u001b[49m\u001b[43m \u001b[49m\u001b[38;5;241;43m<\u001b[39;49m\u001b[38;5;241;43m=\u001b[39;49m\u001b[43m \u001b[49m\u001b[38;5;241;43m7\u001b[39;49m\u001b[43m)\u001b[49m\u001b[43m]\u001b[49m\n\u001b[0;32m      4\u001b[0m \u001b[38;5;66;03m# Filtrar las interacciones donde se agregó al carrito\u001b[39;00m\n\u001b[0;32m      5\u001b[0m df_junio_agregado \u001b[38;5;241m=\u001b[39m df_junio[df_junio[\u001b[38;5;124m'\u001b[39m\u001b[38;5;124madd_to_cart\u001b[39m\u001b[38;5;124m'\u001b[39m] \u001b[38;5;241m==\u001b[39m \u001b[38;5;241m1\u001b[39m]\n",
      "File \u001b[1;32mc:\\Users\\Jjaavviieerroperro\\AppData\\Local\\Programs\\Python\\Python312\\Lib\\site-packages\\pandas\\core\\frame.py:4093\u001b[0m, in \u001b[0;36mDataFrame.__getitem__\u001b[1;34m(self, key)\u001b[0m\n\u001b[0;32m   4091\u001b[0m \u001b[38;5;66;03m# Do we have a (boolean) 1d indexer?\u001b[39;00m\n\u001b[0;32m   4092\u001b[0m \u001b[38;5;28;01mif\u001b[39;00m com\u001b[38;5;241m.\u001b[39mis_bool_indexer(key):\n\u001b[1;32m-> 4093\u001b[0m     \u001b[38;5;28;01mreturn\u001b[39;00m \u001b[38;5;28;43mself\u001b[39;49m\u001b[38;5;241;43m.\u001b[39;49m\u001b[43m_getitem_bool_array\u001b[49m\u001b[43m(\u001b[49m\u001b[43mkey\u001b[49m\u001b[43m)\u001b[49m\n\u001b[0;32m   4095\u001b[0m \u001b[38;5;66;03m# We are left with two options: a single key, and a collection of keys,\u001b[39;00m\n\u001b[0;32m   4096\u001b[0m \u001b[38;5;66;03m# We interpret tuples as collections only for non-MultiIndex\u001b[39;00m\n\u001b[0;32m   4097\u001b[0m is_single_key \u001b[38;5;241m=\u001b[39m \u001b[38;5;28misinstance\u001b[39m(key, \u001b[38;5;28mtuple\u001b[39m) \u001b[38;5;129;01mor\u001b[39;00m \u001b[38;5;129;01mnot\u001b[39;00m is_list_like(key)\n",
      "File \u001b[1;32mc:\\Users\\Jjaavviieerroperro\\AppData\\Local\\Programs\\Python\\Python312\\Lib\\site-packages\\pandas\\core\\frame.py:4155\u001b[0m, in \u001b[0;36mDataFrame._getitem_bool_array\u001b[1;34m(self, key)\u001b[0m\n\u001b[0;32m   4152\u001b[0m     \u001b[38;5;28;01mreturn\u001b[39;00m \u001b[38;5;28mself\u001b[39m\u001b[38;5;241m.\u001b[39mcopy(deep\u001b[38;5;241m=\u001b[39m\u001b[38;5;28;01mNone\u001b[39;00m)\n\u001b[0;32m   4154\u001b[0m indexer \u001b[38;5;241m=\u001b[39m key\u001b[38;5;241m.\u001b[39mnonzero()[\u001b[38;5;241m0\u001b[39m]\n\u001b[1;32m-> 4155\u001b[0m \u001b[38;5;28;01mreturn\u001b[39;00m \u001b[38;5;28;43mself\u001b[39;49m\u001b[38;5;241;43m.\u001b[39;49m\u001b[43m_take_with_is_copy\u001b[49m\u001b[43m(\u001b[49m\u001b[43mindexer\u001b[49m\u001b[43m,\u001b[49m\u001b[43m \u001b[49m\u001b[43maxis\u001b[49m\u001b[38;5;241;43m=\u001b[39;49m\u001b[38;5;241;43m0\u001b[39;49m\u001b[43m)\u001b[49m\n",
      "File \u001b[1;32mc:\\Users\\Jjaavviieerroperro\\AppData\\Local\\Programs\\Python\\Python312\\Lib\\site-packages\\pandas\\core\\generic.py:4153\u001b[0m, in \u001b[0;36mNDFrame._take_with_is_copy\u001b[1;34m(self, indices, axis)\u001b[0m\n\u001b[0;32m   4142\u001b[0m \u001b[38;5;129m@final\u001b[39m\n\u001b[0;32m   4143\u001b[0m \u001b[38;5;28;01mdef\u001b[39;00m \u001b[38;5;21m_take_with_is_copy\u001b[39m(\u001b[38;5;28mself\u001b[39m, indices, axis: Axis \u001b[38;5;241m=\u001b[39m \u001b[38;5;241m0\u001b[39m) \u001b[38;5;241m-\u001b[39m\u001b[38;5;241m>\u001b[39m Self:\n\u001b[0;32m   4144\u001b[0m \u001b[38;5;250m    \u001b[39m\u001b[38;5;124;03m\"\"\"\u001b[39;00m\n\u001b[0;32m   4145\u001b[0m \u001b[38;5;124;03m    Internal version of the `take` method that sets the `_is_copy`\u001b[39;00m\n\u001b[0;32m   4146\u001b[0m \u001b[38;5;124;03m    attribute to keep track of the parent dataframe (using in indexing\u001b[39;00m\n\u001b[1;32m   (...)\u001b[0m\n\u001b[0;32m   4151\u001b[0m \u001b[38;5;124;03m    See the docstring of `take` for full explanation of the parameters.\u001b[39;00m\n\u001b[0;32m   4152\u001b[0m \u001b[38;5;124;03m    \"\"\"\u001b[39;00m\n\u001b[1;32m-> 4153\u001b[0m     result \u001b[38;5;241m=\u001b[39m \u001b[38;5;28;43mself\u001b[39;49m\u001b[38;5;241;43m.\u001b[39;49m\u001b[43mtake\u001b[49m\u001b[43m(\u001b[49m\u001b[43mindices\u001b[49m\u001b[38;5;241;43m=\u001b[39;49m\u001b[43mindices\u001b[49m\u001b[43m,\u001b[49m\u001b[43m \u001b[49m\u001b[43maxis\u001b[49m\u001b[38;5;241;43m=\u001b[39;49m\u001b[43maxis\u001b[49m\u001b[43m)\u001b[49m\n\u001b[0;32m   4154\u001b[0m     \u001b[38;5;66;03m# Maybe set copy if we didn't actually change the index.\u001b[39;00m\n\u001b[0;32m   4155\u001b[0m     \u001b[38;5;28;01mif\u001b[39;00m \u001b[38;5;28mself\u001b[39m\u001b[38;5;241m.\u001b[39mndim \u001b[38;5;241m==\u001b[39m \u001b[38;5;241m2\u001b[39m \u001b[38;5;129;01mand\u001b[39;00m \u001b[38;5;129;01mnot\u001b[39;00m result\u001b[38;5;241m.\u001b[39m_get_axis(axis)\u001b[38;5;241m.\u001b[39mequals(\u001b[38;5;28mself\u001b[39m\u001b[38;5;241m.\u001b[39m_get_axis(axis)):\n",
      "File \u001b[1;32mc:\\Users\\Jjaavviieerroperro\\AppData\\Local\\Programs\\Python\\Python312\\Lib\\site-packages\\pandas\\core\\generic.py:4133\u001b[0m, in \u001b[0;36mNDFrame.take\u001b[1;34m(self, indices, axis, **kwargs)\u001b[0m\n\u001b[0;32m   4128\u001b[0m     \u001b[38;5;66;03m# We can get here with a slice via DataFrame.__getitem__\u001b[39;00m\n\u001b[0;32m   4129\u001b[0m     indices \u001b[38;5;241m=\u001b[39m np\u001b[38;5;241m.\u001b[39marange(\n\u001b[0;32m   4130\u001b[0m         indices\u001b[38;5;241m.\u001b[39mstart, indices\u001b[38;5;241m.\u001b[39mstop, indices\u001b[38;5;241m.\u001b[39mstep, dtype\u001b[38;5;241m=\u001b[39mnp\u001b[38;5;241m.\u001b[39mintp\n\u001b[0;32m   4131\u001b[0m     )\n\u001b[1;32m-> 4133\u001b[0m new_data \u001b[38;5;241m=\u001b[39m \u001b[38;5;28;43mself\u001b[39;49m\u001b[38;5;241;43m.\u001b[39;49m\u001b[43m_mgr\u001b[49m\u001b[38;5;241;43m.\u001b[39;49m\u001b[43mtake\u001b[49m\u001b[43m(\u001b[49m\n\u001b[0;32m   4134\u001b[0m \u001b[43m    \u001b[49m\u001b[43mindices\u001b[49m\u001b[43m,\u001b[49m\n\u001b[0;32m   4135\u001b[0m \u001b[43m    \u001b[49m\u001b[43maxis\u001b[49m\u001b[38;5;241;43m=\u001b[39;49m\u001b[38;5;28;43mself\u001b[39;49m\u001b[38;5;241;43m.\u001b[39;49m\u001b[43m_get_block_manager_axis\u001b[49m\u001b[43m(\u001b[49m\u001b[43maxis\u001b[49m\u001b[43m)\u001b[49m\u001b[43m,\u001b[49m\n\u001b[0;32m   4136\u001b[0m \u001b[43m    \u001b[49m\u001b[43mverify\u001b[49m\u001b[38;5;241;43m=\u001b[39;49m\u001b[38;5;28;43;01mTrue\u001b[39;49;00m\u001b[43m,\u001b[49m\n\u001b[0;32m   4137\u001b[0m \u001b[43m\u001b[49m\u001b[43m)\u001b[49m\n\u001b[0;32m   4138\u001b[0m \u001b[38;5;28;01mreturn\u001b[39;00m \u001b[38;5;28mself\u001b[39m\u001b[38;5;241m.\u001b[39m_constructor_from_mgr(new_data, axes\u001b[38;5;241m=\u001b[39mnew_data\u001b[38;5;241m.\u001b[39maxes)\u001b[38;5;241m.\u001b[39m__finalize__(\n\u001b[0;32m   4139\u001b[0m     \u001b[38;5;28mself\u001b[39m, method\u001b[38;5;241m=\u001b[39m\u001b[38;5;124m\"\u001b[39m\u001b[38;5;124mtake\u001b[39m\u001b[38;5;124m\"\u001b[39m\n\u001b[0;32m   4140\u001b[0m )\n",
      "File \u001b[1;32mc:\\Users\\Jjaavviieerroperro\\AppData\\Local\\Programs\\Python\\Python312\\Lib\\site-packages\\pandas\\core\\internals\\managers.py:894\u001b[0m, in \u001b[0;36mBaseBlockManager.take\u001b[1;34m(self, indexer, axis, verify)\u001b[0m\n\u001b[0;32m    891\u001b[0m indexer \u001b[38;5;241m=\u001b[39m maybe_convert_indices(indexer, n, verify\u001b[38;5;241m=\u001b[39mverify)\n\u001b[0;32m    893\u001b[0m new_labels \u001b[38;5;241m=\u001b[39m \u001b[38;5;28mself\u001b[39m\u001b[38;5;241m.\u001b[39maxes[axis]\u001b[38;5;241m.\u001b[39mtake(indexer)\n\u001b[1;32m--> 894\u001b[0m \u001b[38;5;28;01mreturn\u001b[39;00m \u001b[38;5;28;43mself\u001b[39;49m\u001b[38;5;241;43m.\u001b[39;49m\u001b[43mreindex_indexer\u001b[49m\u001b[43m(\u001b[49m\n\u001b[0;32m    895\u001b[0m \u001b[43m    \u001b[49m\u001b[43mnew_axis\u001b[49m\u001b[38;5;241;43m=\u001b[39;49m\u001b[43mnew_labels\u001b[49m\u001b[43m,\u001b[49m\n\u001b[0;32m    896\u001b[0m \u001b[43m    \u001b[49m\u001b[43mindexer\u001b[49m\u001b[38;5;241;43m=\u001b[39;49m\u001b[43mindexer\u001b[49m\u001b[43m,\u001b[49m\n\u001b[0;32m    897\u001b[0m \u001b[43m    \u001b[49m\u001b[43maxis\u001b[49m\u001b[38;5;241;43m=\u001b[39;49m\u001b[43maxis\u001b[49m\u001b[43m,\u001b[49m\n\u001b[0;32m    898\u001b[0m \u001b[43m    \u001b[49m\u001b[43mallow_dups\u001b[49m\u001b[38;5;241;43m=\u001b[39;49m\u001b[38;5;28;43;01mTrue\u001b[39;49;00m\u001b[43m,\u001b[49m\n\u001b[0;32m    899\u001b[0m \u001b[43m    \u001b[49m\u001b[43mcopy\u001b[49m\u001b[38;5;241;43m=\u001b[39;49m\u001b[38;5;28;43;01mNone\u001b[39;49;00m\u001b[43m,\u001b[49m\n\u001b[0;32m    900\u001b[0m \u001b[43m\u001b[49m\u001b[43m)\u001b[49m\n",
      "File \u001b[1;32mc:\\Users\\Jjaavviieerroperro\\AppData\\Local\\Programs\\Python\\Python312\\Lib\\site-packages\\pandas\\core\\internals\\managers.py:688\u001b[0m, in \u001b[0;36mBaseBlockManager.reindex_indexer\u001b[1;34m(self, new_axis, indexer, axis, fill_value, allow_dups, copy, only_slice, use_na_proxy)\u001b[0m\n\u001b[0;32m    680\u001b[0m     new_blocks \u001b[38;5;241m=\u001b[39m \u001b[38;5;28mself\u001b[39m\u001b[38;5;241m.\u001b[39m_slice_take_blocks_ax0(\n\u001b[0;32m    681\u001b[0m         indexer,\n\u001b[0;32m    682\u001b[0m         fill_value\u001b[38;5;241m=\u001b[39mfill_value,\n\u001b[0;32m    683\u001b[0m         only_slice\u001b[38;5;241m=\u001b[39monly_slice,\n\u001b[0;32m    684\u001b[0m         use_na_proxy\u001b[38;5;241m=\u001b[39muse_na_proxy,\n\u001b[0;32m    685\u001b[0m     )\n\u001b[0;32m    686\u001b[0m \u001b[38;5;28;01melse\u001b[39;00m:\n\u001b[0;32m    687\u001b[0m     new_blocks \u001b[38;5;241m=\u001b[39m [\n\u001b[1;32m--> 688\u001b[0m         \u001b[43mblk\u001b[49m\u001b[38;5;241;43m.\u001b[39;49m\u001b[43mtake_nd\u001b[49m\u001b[43m(\u001b[49m\n\u001b[0;32m    689\u001b[0m \u001b[43m            \u001b[49m\u001b[43mindexer\u001b[49m\u001b[43m,\u001b[49m\n\u001b[0;32m    690\u001b[0m \u001b[43m            \u001b[49m\u001b[43maxis\u001b[49m\u001b[38;5;241;43m=\u001b[39;49m\u001b[38;5;241;43m1\u001b[39;49m\u001b[43m,\u001b[49m\n\u001b[0;32m    691\u001b[0m \u001b[43m            \u001b[49m\u001b[43mfill_value\u001b[49m\u001b[38;5;241;43m=\u001b[39;49m\u001b[43m(\u001b[49m\n\u001b[0;32m    692\u001b[0m \u001b[43m                \u001b[49m\u001b[43mfill_value\u001b[49m\u001b[43m \u001b[49m\u001b[38;5;28;43;01mif\u001b[39;49;00m\u001b[43m \u001b[49m\u001b[43mfill_value\u001b[49m\u001b[43m \u001b[49m\u001b[38;5;129;43;01mis\u001b[39;49;00m\u001b[43m \u001b[49m\u001b[38;5;129;43;01mnot\u001b[39;49;00m\u001b[43m \u001b[49m\u001b[38;5;28;43;01mNone\u001b[39;49;00m\u001b[43m \u001b[49m\u001b[38;5;28;43;01melse\u001b[39;49;00m\u001b[43m \u001b[49m\u001b[43mblk\u001b[49m\u001b[38;5;241;43m.\u001b[39;49m\u001b[43mfill_value\u001b[49m\n\u001b[0;32m    693\u001b[0m \u001b[43m            \u001b[49m\u001b[43m)\u001b[49m\u001b[43m,\u001b[49m\n\u001b[0;32m    694\u001b[0m \u001b[43m        \u001b[49m\u001b[43m)\u001b[49m\n\u001b[0;32m    695\u001b[0m         \u001b[38;5;28;01mfor\u001b[39;00m blk \u001b[38;5;129;01min\u001b[39;00m \u001b[38;5;28mself\u001b[39m\u001b[38;5;241m.\u001b[39mblocks\n\u001b[0;32m    696\u001b[0m     ]\n\u001b[0;32m    698\u001b[0m new_axes \u001b[38;5;241m=\u001b[39m \u001b[38;5;28mlist\u001b[39m(\u001b[38;5;28mself\u001b[39m\u001b[38;5;241m.\u001b[39maxes)\n\u001b[0;32m    699\u001b[0m new_axes[axis] \u001b[38;5;241m=\u001b[39m new_axis\n",
      "File \u001b[1;32mc:\\Users\\Jjaavviieerroperro\\AppData\\Local\\Programs\\Python\\Python312\\Lib\\site-packages\\pandas\\core\\internals\\blocks.py:1307\u001b[0m, in \u001b[0;36mBlock.take_nd\u001b[1;34m(self, indexer, axis, new_mgr_locs, fill_value)\u001b[0m\n\u001b[0;32m   1304\u001b[0m     allow_fill \u001b[38;5;241m=\u001b[39m \u001b[38;5;28;01mTrue\u001b[39;00m\n\u001b[0;32m   1306\u001b[0m \u001b[38;5;66;03m# Note: algos.take_nd has upcast logic similar to coerce_to_target_dtype\u001b[39;00m\n\u001b[1;32m-> 1307\u001b[0m new_values \u001b[38;5;241m=\u001b[39m \u001b[43malgos\u001b[49m\u001b[38;5;241;43m.\u001b[39;49m\u001b[43mtake_nd\u001b[49m\u001b[43m(\u001b[49m\n\u001b[0;32m   1308\u001b[0m \u001b[43m    \u001b[49m\u001b[43mvalues\u001b[49m\u001b[43m,\u001b[49m\u001b[43m \u001b[49m\u001b[43mindexer\u001b[49m\u001b[43m,\u001b[49m\u001b[43m \u001b[49m\u001b[43maxis\u001b[49m\u001b[38;5;241;43m=\u001b[39;49m\u001b[43maxis\u001b[49m\u001b[43m,\u001b[49m\u001b[43m \u001b[49m\u001b[43mallow_fill\u001b[49m\u001b[38;5;241;43m=\u001b[39;49m\u001b[43mallow_fill\u001b[49m\u001b[43m,\u001b[49m\u001b[43m \u001b[49m\u001b[43mfill_value\u001b[49m\u001b[38;5;241;43m=\u001b[39;49m\u001b[43mfill_value\u001b[49m\n\u001b[0;32m   1309\u001b[0m \u001b[43m\u001b[49m\u001b[43m)\u001b[49m\n\u001b[0;32m   1311\u001b[0m \u001b[38;5;66;03m# Called from three places in managers, all of which satisfy\u001b[39;00m\n\u001b[0;32m   1312\u001b[0m \u001b[38;5;66;03m#  these assertions\u001b[39;00m\n\u001b[0;32m   1313\u001b[0m \u001b[38;5;28;01mif\u001b[39;00m \u001b[38;5;28misinstance\u001b[39m(\u001b[38;5;28mself\u001b[39m, ExtensionBlock):\n\u001b[0;32m   1314\u001b[0m     \u001b[38;5;66;03m# NB: in this case, the 'axis' kwarg will be ignored in the\u001b[39;00m\n\u001b[0;32m   1315\u001b[0m     \u001b[38;5;66;03m#  algos.take_nd call above.\u001b[39;00m\n",
      "File \u001b[1;32mc:\\Users\\Jjaavviieerroperro\\AppData\\Local\\Programs\\Python\\Python312\\Lib\\site-packages\\pandas\\core\\array_algos\\take.py:117\u001b[0m, in \u001b[0;36mtake_nd\u001b[1;34m(arr, indexer, axis, fill_value, allow_fill)\u001b[0m\n\u001b[0;32m    114\u001b[0m     \u001b[38;5;28;01mreturn\u001b[39;00m arr\u001b[38;5;241m.\u001b[39mtake(indexer, fill_value\u001b[38;5;241m=\u001b[39mfill_value, allow_fill\u001b[38;5;241m=\u001b[39mallow_fill)\n\u001b[0;32m    116\u001b[0m arr \u001b[38;5;241m=\u001b[39m np\u001b[38;5;241m.\u001b[39masarray(arr)\n\u001b[1;32m--> 117\u001b[0m \u001b[38;5;28;01mreturn\u001b[39;00m \u001b[43m_take_nd_ndarray\u001b[49m\u001b[43m(\u001b[49m\u001b[43marr\u001b[49m\u001b[43m,\u001b[49m\u001b[43m \u001b[49m\u001b[43mindexer\u001b[49m\u001b[43m,\u001b[49m\u001b[43m \u001b[49m\u001b[43maxis\u001b[49m\u001b[43m,\u001b[49m\u001b[43m \u001b[49m\u001b[43mfill_value\u001b[49m\u001b[43m,\u001b[49m\u001b[43m \u001b[49m\u001b[43mallow_fill\u001b[49m\u001b[43m)\u001b[49m\n",
      "File \u001b[1;32mc:\\Users\\Jjaavviieerroperro\\AppData\\Local\\Programs\\Python\\Python312\\Lib\\site-packages\\pandas\\core\\array_algos\\take.py:157\u001b[0m, in \u001b[0;36m_take_nd_ndarray\u001b[1;34m(arr, indexer, axis, fill_value, allow_fill)\u001b[0m\n\u001b[0;32m    155\u001b[0m     out \u001b[38;5;241m=\u001b[39m np\u001b[38;5;241m.\u001b[39mempty(out_shape, dtype\u001b[38;5;241m=\u001b[39mdtype, order\u001b[38;5;241m=\u001b[39m\u001b[38;5;124m\"\u001b[39m\u001b[38;5;124mF\u001b[39m\u001b[38;5;124m\"\u001b[39m)\n\u001b[0;32m    156\u001b[0m \u001b[38;5;28;01melse\u001b[39;00m:\n\u001b[1;32m--> 157\u001b[0m     out \u001b[38;5;241m=\u001b[39m \u001b[43mnp\u001b[49m\u001b[38;5;241;43m.\u001b[39;49m\u001b[43mempty\u001b[49m\u001b[43m(\u001b[49m\u001b[43mout_shape\u001b[49m\u001b[43m,\u001b[49m\u001b[43m \u001b[49m\u001b[43mdtype\u001b[49m\u001b[38;5;241;43m=\u001b[39;49m\u001b[43mdtype\u001b[49m\u001b[43m)\u001b[49m\n\u001b[0;32m    159\u001b[0m func \u001b[38;5;241m=\u001b[39m _get_take_nd_function(\n\u001b[0;32m    160\u001b[0m     arr\u001b[38;5;241m.\u001b[39mndim, arr\u001b[38;5;241m.\u001b[39mdtype, out\u001b[38;5;241m.\u001b[39mdtype, axis\u001b[38;5;241m=\u001b[39maxis, mask_info\u001b[38;5;241m=\u001b[39mmask_info\n\u001b[0;32m    161\u001b[0m )\n\u001b[0;32m    162\u001b[0m func(arr, indexer, out, fill_value)\n",
      "\u001b[1;31mMemoryError\u001b[0m: Unable to allocate 1.08 GiB for an array with shape (6, 24262753) and data type int64"
     ]
    }
   ],
   "source": [
    "# Filtrar las interacciones de los primeros 7 días de junio\n",
    "df_junio = df_merged[(df_merged['date'].dt.month == 6) & (df_merged['date'].dt.day <= 7)]\n",
    "\n",
    "# Filtrar las interacciones donde se agregó al carrito\n",
    "df_junio_agregado = df_junio[df_junio['add_to_cart'] == 1]\n",
    "\n",
    "# Agrupar por familia y pagetype, y contar las ocurrencias\n",
    "conteo_por_familia_y_pagetype = df_junio_agregado.groupby(['family', 'pagetype']).size().reset_index(name='count')\n",
    "\n",
    "# Encontrar el pagetype más frecuente para cada familia\n",
    "pagetype_mas_frecuente = conteo_por_familia_y_pagetype.loc[conteo_por_familia_y_pagetype.groupby('family')['count'].idxmax()]\n",
    "\n",
    "# Formatear el resultado\n",
    "resultado = pagetype_mas_frecuente.set_index('family')['pagetype'].to_dict()\n",
    "\n",
    "print(resultado)"
   ]
  },
  {
   "cell_type": "markdown",
   "metadata": {},
   "source": [
    "# Task 3"
   ]
  },
  {
   "cell_type": "markdown",
   "metadata": {},
   "source": [
    "### Primer Intento"
   ]
  },
  {
   "cell_type": "code",
   "execution_count": 5,
   "metadata": {},
   "outputs": [],
   "source": [
    "import numpy as np\n",
    "from sklearn.metrics.pairwise import cosine_similarity"
   ]
  },
  {
   "cell_type": "code",
   "execution_count": 4,
   "metadata": {},
   "outputs": [],
   "source": [
    "from sklearn.model_selection import train_test_split\n",
    "\n",
    "import pandas as pd\n"
   ]
  },
  {
   "cell_type": "code",
   "execution_count": 6,
   "metadata": {},
   "outputs": [],
   "source": [
    "columns_to_use = ['session_id', 'partnumber', 'add_to_cart']\n",
    "train_data = pd.read_csv('data/processed/train_pro.csv', usecols=columns_to_use)"
   ]
  },
  {
   "cell_type": "code",
   "execution_count": 7,
   "metadata": {},
   "outputs": [],
   "source": [
    "# Cargar los datos y aplicar el modelo\n",
    "test_data = pd.read_csv('data/processed/test_pro.csv')"
   ]
  },
  {
   "cell_type": "code",
   "execution_count": 8,
   "metadata": {},
   "outputs": [],
   "source": [
    "# Cargar el archivo de productos\n",
    "file_path = 'data/processed/productos.csv'\n",
    "products = pd.read_csv(file_path)"
   ]
  },
  {
   "cell_type": "code",
   "execution_count": 9,
   "metadata": {},
   "outputs": [],
   "source": [
    "import pandas as pd\n",
    "from sklearn.ensemble import RandomForestClassifier\n",
    "from sklearn.preprocessing import LabelEncoder\n",
    "import itertools"
   ]
  },
  {
   "cell_type": "code",
   "execution_count": null,
   "metadata": {},
   "outputs": [],
   "source": []
  },
  {
   "cell_type": "code",
   "execution_count": 109,
   "metadata": {},
   "outputs": [
    {
     "data": {
      "text/plain": [
       "Index(['session_id', 'timestamp_local', 'user_id', 'partnumber'], dtype='object')"
      ]
     },
     "execution_count": 109,
     "metadata": {},
     "output_type": "execute_result"
    }
   ],
   "source": [
    "train_data.columns"
   ]
  },
  {
   "cell_type": "code",
   "execution_count": 110,
   "metadata": {},
   "outputs": [
    {
     "data": {
      "text/plain": [
       "Index(['Unnamed: 0', 'session_id', 'date', 'timestamp_local', 'user_id',\n",
       "       'country', 'partnumber', 'device_type', 'pagetype'],\n",
       "      dtype='object')"
      ]
     },
     "execution_count": 110,
     "metadata": {},
     "output_type": "execute_result"
    }
   ],
   "source": [
    "test_data.columns"
   ]
  },
  {
   "cell_type": "code",
   "execution_count": 104,
   "metadata": {},
   "outputs": [
    {
     "name": "stdout",
     "output_type": "stream",
     "text": [
      "<class 'pandas.core.frame.DataFrame'>\n",
      "RangeIndex: 46550248 entries, 0 to 46550247\n",
      "Data columns (total 4 columns):\n",
      " #   Column           Dtype  \n",
      "---  ------           -----  \n",
      " 0   session_id       int64  \n",
      " 1   timestamp_local  object \n",
      " 2   user_id          float64\n",
      " 3   partnumber       int64  \n",
      "dtypes: float64(1), int64(2), object(1)\n",
      "memory usage: 1.4+ GB\n"
     ]
    }
   ],
   "source": [
    "train_data.info()"
   ]
  },
  {
   "cell_type": "code",
   "execution_count": 10,
   "metadata": {},
   "outputs": [],
   "source": [
    "X = train_data[['session_id', 'partnumber']]  # Usamos solo estas dos características\n",
    "y = train_data['add_to_cart']  # Variable objetivo (si el producto fue añadido al carrito o no)"
   ]
  },
  {
   "cell_type": "code",
   "execution_count": 11,
   "metadata": {},
   "outputs": [],
   "source": [
    "X_train, X_test, y_train, y_test = train_test_split(X, y, test_size=0.2, random_state=42)"
   ]
  },
  {
   "cell_type": "code",
   "execution_count": 12,
   "metadata": {},
   "outputs": [],
   "source": [
    "import lightgbm as lgb"
   ]
  },
  {
   "cell_type": "code",
   "execution_count": 13,
   "metadata": {},
   "outputs": [
    {
     "name": "stdout",
     "output_type": "stream",
     "text": [
      "[LightGBM] [Info] Number of positive: 2196514, number of negative: 35043684\n",
      "[LightGBM] [Info] Auto-choosing row-wise multi-threading, the overhead of testing was 0.169788 seconds.\n",
      "You can set `force_row_wise=true` to remove the overhead.\n",
      "And if memory is not enough, you can set `force_col_wise=true`.\n",
      "[LightGBM] [Info] Total Bins 510\n",
      "[LightGBM] [Info] Number of data points in the train set: 37240198, number of used features: 2\n",
      "[LightGBM] [Info] [binary:BoostFromScore]: pavg=0.058982 -> initscore=-2.769724\n",
      "[LightGBM] [Info] Start training from score -2.769724\n"
     ]
    },
    {
     "data": {
      "text/html": [
       "<style>#sk-container-id-1 {\n",
       "  /* Definition of color scheme common for light and dark mode */\n",
       "  --sklearn-color-text: black;\n",
       "  --sklearn-color-line: gray;\n",
       "  /* Definition of color scheme for unfitted estimators */\n",
       "  --sklearn-color-unfitted-level-0: #fff5e6;\n",
       "  --sklearn-color-unfitted-level-1: #f6e4d2;\n",
       "  --sklearn-color-unfitted-level-2: #ffe0b3;\n",
       "  --sklearn-color-unfitted-level-3: chocolate;\n",
       "  /* Definition of color scheme for fitted estimators */\n",
       "  --sklearn-color-fitted-level-0: #f0f8ff;\n",
       "  --sklearn-color-fitted-level-1: #d4ebff;\n",
       "  --sklearn-color-fitted-level-2: #b3dbfd;\n",
       "  --sklearn-color-fitted-level-3: cornflowerblue;\n",
       "\n",
       "  /* Specific color for light theme */\n",
       "  --sklearn-color-text-on-default-background: var(--sg-text-color, var(--theme-code-foreground, var(--jp-content-font-color1, black)));\n",
       "  --sklearn-color-background: var(--sg-background-color, var(--theme-background, var(--jp-layout-color0, white)));\n",
       "  --sklearn-color-border-box: var(--sg-text-color, var(--theme-code-foreground, var(--jp-content-font-color1, black)));\n",
       "  --sklearn-color-icon: #696969;\n",
       "\n",
       "  @media (prefers-color-scheme: dark) {\n",
       "    /* Redefinition of color scheme for dark theme */\n",
       "    --sklearn-color-text-on-default-background: var(--sg-text-color, var(--theme-code-foreground, var(--jp-content-font-color1, white)));\n",
       "    --sklearn-color-background: var(--sg-background-color, var(--theme-background, var(--jp-layout-color0, #111)));\n",
       "    --sklearn-color-border-box: var(--sg-text-color, var(--theme-code-foreground, var(--jp-content-font-color1, white)));\n",
       "    --sklearn-color-icon: #878787;\n",
       "  }\n",
       "}\n",
       "\n",
       "#sk-container-id-1 {\n",
       "  color: var(--sklearn-color-text);\n",
       "}\n",
       "\n",
       "#sk-container-id-1 pre {\n",
       "  padding: 0;\n",
       "}\n",
       "\n",
       "#sk-container-id-1 input.sk-hidden--visually {\n",
       "  border: 0;\n",
       "  clip: rect(1px 1px 1px 1px);\n",
       "  clip: rect(1px, 1px, 1px, 1px);\n",
       "  height: 1px;\n",
       "  margin: -1px;\n",
       "  overflow: hidden;\n",
       "  padding: 0;\n",
       "  position: absolute;\n",
       "  width: 1px;\n",
       "}\n",
       "\n",
       "#sk-container-id-1 div.sk-dashed-wrapped {\n",
       "  border: 1px dashed var(--sklearn-color-line);\n",
       "  margin: 0 0.4em 0.5em 0.4em;\n",
       "  box-sizing: border-box;\n",
       "  padding-bottom: 0.4em;\n",
       "  background-color: var(--sklearn-color-background);\n",
       "}\n",
       "\n",
       "#sk-container-id-1 div.sk-container {\n",
       "  /* jupyter's `normalize.less` sets `[hidden] { display: none; }`\n",
       "     but bootstrap.min.css set `[hidden] { display: none !important; }`\n",
       "     so we also need the `!important` here to be able to override the\n",
       "     default hidden behavior on the sphinx rendered scikit-learn.org.\n",
       "     See: https://github.com/scikit-learn/scikit-learn/issues/21755 */\n",
       "  display: inline-block !important;\n",
       "  position: relative;\n",
       "}\n",
       "\n",
       "#sk-container-id-1 div.sk-text-repr-fallback {\n",
       "  display: none;\n",
       "}\n",
       "\n",
       "div.sk-parallel-item,\n",
       "div.sk-serial,\n",
       "div.sk-item {\n",
       "  /* draw centered vertical line to link estimators */\n",
       "  background-image: linear-gradient(var(--sklearn-color-text-on-default-background), var(--sklearn-color-text-on-default-background));\n",
       "  background-size: 2px 100%;\n",
       "  background-repeat: no-repeat;\n",
       "  background-position: center center;\n",
       "}\n",
       "\n",
       "/* Parallel-specific style estimator block */\n",
       "\n",
       "#sk-container-id-1 div.sk-parallel-item::after {\n",
       "  content: \"\";\n",
       "  width: 100%;\n",
       "  border-bottom: 2px solid var(--sklearn-color-text-on-default-background);\n",
       "  flex-grow: 1;\n",
       "}\n",
       "\n",
       "#sk-container-id-1 div.sk-parallel {\n",
       "  display: flex;\n",
       "  align-items: stretch;\n",
       "  justify-content: center;\n",
       "  background-color: var(--sklearn-color-background);\n",
       "  position: relative;\n",
       "}\n",
       "\n",
       "#sk-container-id-1 div.sk-parallel-item {\n",
       "  display: flex;\n",
       "  flex-direction: column;\n",
       "}\n",
       "\n",
       "#sk-container-id-1 div.sk-parallel-item:first-child::after {\n",
       "  align-self: flex-end;\n",
       "  width: 50%;\n",
       "}\n",
       "\n",
       "#sk-container-id-1 div.sk-parallel-item:last-child::after {\n",
       "  align-self: flex-start;\n",
       "  width: 50%;\n",
       "}\n",
       "\n",
       "#sk-container-id-1 div.sk-parallel-item:only-child::after {\n",
       "  width: 0;\n",
       "}\n",
       "\n",
       "/* Serial-specific style estimator block */\n",
       "\n",
       "#sk-container-id-1 div.sk-serial {\n",
       "  display: flex;\n",
       "  flex-direction: column;\n",
       "  align-items: center;\n",
       "  background-color: var(--sklearn-color-background);\n",
       "  padding-right: 1em;\n",
       "  padding-left: 1em;\n",
       "}\n",
       "\n",
       "\n",
       "/* Toggleable style: style used for estimator/Pipeline/ColumnTransformer box that is\n",
       "clickable and can be expanded/collapsed.\n",
       "- Pipeline and ColumnTransformer use this feature and define the default style\n",
       "- Estimators will overwrite some part of the style using the `sk-estimator` class\n",
       "*/\n",
       "\n",
       "/* Pipeline and ColumnTransformer style (default) */\n",
       "\n",
       "#sk-container-id-1 div.sk-toggleable {\n",
       "  /* Default theme specific background. It is overwritten whether we have a\n",
       "  specific estimator or a Pipeline/ColumnTransformer */\n",
       "  background-color: var(--sklearn-color-background);\n",
       "}\n",
       "\n",
       "/* Toggleable label */\n",
       "#sk-container-id-1 label.sk-toggleable__label {\n",
       "  cursor: pointer;\n",
       "  display: block;\n",
       "  width: 100%;\n",
       "  margin-bottom: 0;\n",
       "  padding: 0.5em;\n",
       "  box-sizing: border-box;\n",
       "  text-align: center;\n",
       "}\n",
       "\n",
       "#sk-container-id-1 label.sk-toggleable__label-arrow:before {\n",
       "  /* Arrow on the left of the label */\n",
       "  content: \"▸\";\n",
       "  float: left;\n",
       "  margin-right: 0.25em;\n",
       "  color: var(--sklearn-color-icon);\n",
       "}\n",
       "\n",
       "#sk-container-id-1 label.sk-toggleable__label-arrow:hover:before {\n",
       "  color: var(--sklearn-color-text);\n",
       "}\n",
       "\n",
       "/* Toggleable content - dropdown */\n",
       "\n",
       "#sk-container-id-1 div.sk-toggleable__content {\n",
       "  max-height: 0;\n",
       "  max-width: 0;\n",
       "  overflow: hidden;\n",
       "  text-align: left;\n",
       "  /* unfitted */\n",
       "  background-color: var(--sklearn-color-unfitted-level-0);\n",
       "}\n",
       "\n",
       "#sk-container-id-1 div.sk-toggleable__content.fitted {\n",
       "  /* fitted */\n",
       "  background-color: var(--sklearn-color-fitted-level-0);\n",
       "}\n",
       "\n",
       "#sk-container-id-1 div.sk-toggleable__content pre {\n",
       "  margin: 0.2em;\n",
       "  border-radius: 0.25em;\n",
       "  color: var(--sklearn-color-text);\n",
       "  /* unfitted */\n",
       "  background-color: var(--sklearn-color-unfitted-level-0);\n",
       "}\n",
       "\n",
       "#sk-container-id-1 div.sk-toggleable__content.fitted pre {\n",
       "  /* unfitted */\n",
       "  background-color: var(--sklearn-color-fitted-level-0);\n",
       "}\n",
       "\n",
       "#sk-container-id-1 input.sk-toggleable__control:checked~div.sk-toggleable__content {\n",
       "  /* Expand drop-down */\n",
       "  max-height: 200px;\n",
       "  max-width: 100%;\n",
       "  overflow: auto;\n",
       "}\n",
       "\n",
       "#sk-container-id-1 input.sk-toggleable__control:checked~label.sk-toggleable__label-arrow:before {\n",
       "  content: \"▾\";\n",
       "}\n",
       "\n",
       "/* Pipeline/ColumnTransformer-specific style */\n",
       "\n",
       "#sk-container-id-1 div.sk-label input.sk-toggleable__control:checked~label.sk-toggleable__label {\n",
       "  color: var(--sklearn-color-text);\n",
       "  background-color: var(--sklearn-color-unfitted-level-2);\n",
       "}\n",
       "\n",
       "#sk-container-id-1 div.sk-label.fitted input.sk-toggleable__control:checked~label.sk-toggleable__label {\n",
       "  background-color: var(--sklearn-color-fitted-level-2);\n",
       "}\n",
       "\n",
       "/* Estimator-specific style */\n",
       "\n",
       "/* Colorize estimator box */\n",
       "#sk-container-id-1 div.sk-estimator input.sk-toggleable__control:checked~label.sk-toggleable__label {\n",
       "  /* unfitted */\n",
       "  background-color: var(--sklearn-color-unfitted-level-2);\n",
       "}\n",
       "\n",
       "#sk-container-id-1 div.sk-estimator.fitted input.sk-toggleable__control:checked~label.sk-toggleable__label {\n",
       "  /* fitted */\n",
       "  background-color: var(--sklearn-color-fitted-level-2);\n",
       "}\n",
       "\n",
       "#sk-container-id-1 div.sk-label label.sk-toggleable__label,\n",
       "#sk-container-id-1 div.sk-label label {\n",
       "  /* The background is the default theme color */\n",
       "  color: var(--sklearn-color-text-on-default-background);\n",
       "}\n",
       "\n",
       "/* On hover, darken the color of the background */\n",
       "#sk-container-id-1 div.sk-label:hover label.sk-toggleable__label {\n",
       "  color: var(--sklearn-color-text);\n",
       "  background-color: var(--sklearn-color-unfitted-level-2);\n",
       "}\n",
       "\n",
       "/* Label box, darken color on hover, fitted */\n",
       "#sk-container-id-1 div.sk-label.fitted:hover label.sk-toggleable__label.fitted {\n",
       "  color: var(--sklearn-color-text);\n",
       "  background-color: var(--sklearn-color-fitted-level-2);\n",
       "}\n",
       "\n",
       "/* Estimator label */\n",
       "\n",
       "#sk-container-id-1 div.sk-label label {\n",
       "  font-family: monospace;\n",
       "  font-weight: bold;\n",
       "  display: inline-block;\n",
       "  line-height: 1.2em;\n",
       "}\n",
       "\n",
       "#sk-container-id-1 div.sk-label-container {\n",
       "  text-align: center;\n",
       "}\n",
       "\n",
       "/* Estimator-specific */\n",
       "#sk-container-id-1 div.sk-estimator {\n",
       "  font-family: monospace;\n",
       "  border: 1px dotted var(--sklearn-color-border-box);\n",
       "  border-radius: 0.25em;\n",
       "  box-sizing: border-box;\n",
       "  margin-bottom: 0.5em;\n",
       "  /* unfitted */\n",
       "  background-color: var(--sklearn-color-unfitted-level-0);\n",
       "}\n",
       "\n",
       "#sk-container-id-1 div.sk-estimator.fitted {\n",
       "  /* fitted */\n",
       "  background-color: var(--sklearn-color-fitted-level-0);\n",
       "}\n",
       "\n",
       "/* on hover */\n",
       "#sk-container-id-1 div.sk-estimator:hover {\n",
       "  /* unfitted */\n",
       "  background-color: var(--sklearn-color-unfitted-level-2);\n",
       "}\n",
       "\n",
       "#sk-container-id-1 div.sk-estimator.fitted:hover {\n",
       "  /* fitted */\n",
       "  background-color: var(--sklearn-color-fitted-level-2);\n",
       "}\n",
       "\n",
       "/* Specification for estimator info (e.g. \"i\" and \"?\") */\n",
       "\n",
       "/* Common style for \"i\" and \"?\" */\n",
       "\n",
       ".sk-estimator-doc-link,\n",
       "a:link.sk-estimator-doc-link,\n",
       "a:visited.sk-estimator-doc-link {\n",
       "  float: right;\n",
       "  font-size: smaller;\n",
       "  line-height: 1em;\n",
       "  font-family: monospace;\n",
       "  background-color: var(--sklearn-color-background);\n",
       "  border-radius: 1em;\n",
       "  height: 1em;\n",
       "  width: 1em;\n",
       "  text-decoration: none !important;\n",
       "  margin-left: 1ex;\n",
       "  /* unfitted */\n",
       "  border: var(--sklearn-color-unfitted-level-1) 1pt solid;\n",
       "  color: var(--sklearn-color-unfitted-level-1);\n",
       "}\n",
       "\n",
       ".sk-estimator-doc-link.fitted,\n",
       "a:link.sk-estimator-doc-link.fitted,\n",
       "a:visited.sk-estimator-doc-link.fitted {\n",
       "  /* fitted */\n",
       "  border: var(--sklearn-color-fitted-level-1) 1pt solid;\n",
       "  color: var(--sklearn-color-fitted-level-1);\n",
       "}\n",
       "\n",
       "/* On hover */\n",
       "div.sk-estimator:hover .sk-estimator-doc-link:hover,\n",
       ".sk-estimator-doc-link:hover,\n",
       "div.sk-label-container:hover .sk-estimator-doc-link:hover,\n",
       ".sk-estimator-doc-link:hover {\n",
       "  /* unfitted */\n",
       "  background-color: var(--sklearn-color-unfitted-level-3);\n",
       "  color: var(--sklearn-color-background);\n",
       "  text-decoration: none;\n",
       "}\n",
       "\n",
       "div.sk-estimator.fitted:hover .sk-estimator-doc-link.fitted:hover,\n",
       ".sk-estimator-doc-link.fitted:hover,\n",
       "div.sk-label-container:hover .sk-estimator-doc-link.fitted:hover,\n",
       ".sk-estimator-doc-link.fitted:hover {\n",
       "  /* fitted */\n",
       "  background-color: var(--sklearn-color-fitted-level-3);\n",
       "  color: var(--sklearn-color-background);\n",
       "  text-decoration: none;\n",
       "}\n",
       "\n",
       "/* Span, style for the box shown on hovering the info icon */\n",
       ".sk-estimator-doc-link span {\n",
       "  display: none;\n",
       "  z-index: 9999;\n",
       "  position: relative;\n",
       "  font-weight: normal;\n",
       "  right: .2ex;\n",
       "  padding: .5ex;\n",
       "  margin: .5ex;\n",
       "  width: min-content;\n",
       "  min-width: 20ex;\n",
       "  max-width: 50ex;\n",
       "  color: var(--sklearn-color-text);\n",
       "  box-shadow: 2pt 2pt 4pt #999;\n",
       "  /* unfitted */\n",
       "  background: var(--sklearn-color-unfitted-level-0);\n",
       "  border: .5pt solid var(--sklearn-color-unfitted-level-3);\n",
       "}\n",
       "\n",
       ".sk-estimator-doc-link.fitted span {\n",
       "  /* fitted */\n",
       "  background: var(--sklearn-color-fitted-level-0);\n",
       "  border: var(--sklearn-color-fitted-level-3);\n",
       "}\n",
       "\n",
       ".sk-estimator-doc-link:hover span {\n",
       "  display: block;\n",
       "}\n",
       "\n",
       "/* \"?\"-specific style due to the `<a>` HTML tag */\n",
       "\n",
       "#sk-container-id-1 a.estimator_doc_link {\n",
       "  float: right;\n",
       "  font-size: 1rem;\n",
       "  line-height: 1em;\n",
       "  font-family: monospace;\n",
       "  background-color: var(--sklearn-color-background);\n",
       "  border-radius: 1rem;\n",
       "  height: 1rem;\n",
       "  width: 1rem;\n",
       "  text-decoration: none;\n",
       "  /* unfitted */\n",
       "  color: var(--sklearn-color-unfitted-level-1);\n",
       "  border: var(--sklearn-color-unfitted-level-1) 1pt solid;\n",
       "}\n",
       "\n",
       "#sk-container-id-1 a.estimator_doc_link.fitted {\n",
       "  /* fitted */\n",
       "  border: var(--sklearn-color-fitted-level-1) 1pt solid;\n",
       "  color: var(--sklearn-color-fitted-level-1);\n",
       "}\n",
       "\n",
       "/* On hover */\n",
       "#sk-container-id-1 a.estimator_doc_link:hover {\n",
       "  /* unfitted */\n",
       "  background-color: var(--sklearn-color-unfitted-level-3);\n",
       "  color: var(--sklearn-color-background);\n",
       "  text-decoration: none;\n",
       "}\n",
       "\n",
       "#sk-container-id-1 a.estimator_doc_link.fitted:hover {\n",
       "  /* fitted */\n",
       "  background-color: var(--sklearn-color-fitted-level-3);\n",
       "}\n",
       "</style><div id=\"sk-container-id-1\" class=\"sk-top-container\"><div class=\"sk-text-repr-fallback\"><pre>LGBMClassifier()</pre><b>In a Jupyter environment, please rerun this cell to show the HTML representation or trust the notebook. <br />On GitHub, the HTML representation is unable to render, please try loading this page with nbviewer.org.</b></div><div class=\"sk-container\" hidden><div class=\"sk-item\"><div class=\"sk-estimator fitted sk-toggleable\"><input class=\"sk-toggleable__control sk-hidden--visually\" id=\"sk-estimator-id-1\" type=\"checkbox\" checked><label for=\"sk-estimator-id-1\" class=\"sk-toggleable__label fitted sk-toggleable__label-arrow fitted\">&nbsp;LGBMClassifier<span class=\"sk-estimator-doc-link fitted\">i<span>Fitted</span></span></label><div class=\"sk-toggleable__content fitted\"><pre>LGBMClassifier()</pre></div> </div></div></div></div>"
      ],
      "text/plain": [
       "LGBMClassifier()"
      ]
     },
     "execution_count": 13,
     "metadata": {},
     "output_type": "execute_result"
    }
   ],
   "source": [
    "model = lgb.LGBMClassifier()  # Para clasificación\n",
    "model.fit(X_train, y_train)"
   ]
  },
  {
   "cell_type": "code",
   "execution_count": 16,
   "metadata": {},
   "outputs": [],
   "source": [
    "# # Entrenar el modelo RandomForestClassifier\n",
    "# rf_model = RandomForestClassifier(n_estimators=100, random_state=42)\n",
    "# rf_model.fit(X_train, y_train)"
   ]
  },
  {
   "cell_type": "code",
   "execution_count": 17,
   "metadata": {},
   "outputs": [
    {
     "data": {
      "text/plain": [
       "['models/random_LGBMClassifier.pkl']"
      ]
     },
     "execution_count": 17,
     "metadata": {},
     "output_type": "execute_result"
    }
   ],
   "source": [
    "import joblib\n",
    "\n",
    "# Guardar el modelo entrenado\n",
    "joblib.dump(model, 'models/random_LGBMClassifier.pkl')\n"
   ]
  },
  {
   "cell_type": "code",
   "execution_count": 25,
   "metadata": {},
   "outputs": [
    {
     "name": "stdout",
     "output_type": "stream",
     "text": [
      "Empty DataFrame\n",
      "Columns: [session_id, add_to_cart, partnumber]\n",
      "Index: []\n"
     ]
    }
   ],
   "source": [
    "# Verifica si las sesiones existen en el DataFrame\n",
    "target_sessions = [746, 1364, 1377]\n",
    "\n",
    "existing_sessions = train_data['session_id'].isin(target_sessions)\n",
    "print(train_data[existing_sessions])  # Muestra las filas donde session_id está en target_sessions\n"
   ]
  },
  {
   "cell_type": "code",
   "execution_count": 31,
   "metadata": {},
   "outputs": [
    {
     "data": {
      "text/plain": [
       "741319"
      ]
     },
     "execution_count": 31,
     "metadata": {},
     "output_type": "execute_result"
    }
   ],
   "source": [
    "train_data[\"session_id\"][35679]"
   ]
  },
  {
   "cell_type": "code",
   "execution_count": 22,
   "metadata": {},
   "outputs": [
    {
     "name": "stdout",
     "output_type": "stream",
     "text": [
      "(0, 2)\n",
      "Empty DataFrame\n",
      "Columns: [session_id, partnumber]\n",
      "Index: []\n",
      "(0, 2)\n",
      "Empty DataFrame\n",
      "Columns: [session_id, partnumber]\n",
      "Index: []\n",
      "(0, 2)\n",
      "Empty DataFrame\n",
      "Columns: [session_id, partnumber]\n",
      "Index: []\n",
      "{}\n"
     ]
    }
   ],
   "source": [
    "import pandas as pd\n",
    "import itertools\n",
    "\n",
    "# Filtra los datos para los tres targets (sesiones específicas)\n",
    "target_sessions = [746, 1364, 1377]\n",
    "train_data_filtered = train_data[train_data['session_id'].isin(target_sessions)]\n",
    "\n",
    "# Predecir por cada session_id por separado\n",
    "recommendations = {}\n",
    "\n",
    "for session_id in target_sessions:\n",
    "    # Filtra los datos para la sesión actual\n",
    "    session_data = train_data_filtered[train_data_filtered['session_id'] == session_id]\n",
    "\n",
    "    # Selecciona solo los productos únicos en esa sesión\n",
    "    unique_products = session_data['partnumber'].unique()\n",
    "\n",
    "    # Crear un DataFrame de combinaciones de session_id y partnumber (productos)\n",
    "    session_product_combinations = pd.DataFrame(list(itertools.product([session_id], unique_products)), \n",
    "                                                columns=['session_id', 'partnumber'])\n",
    "\n",
    "    # Verificar las dimensiones del DataFrame\n",
    "    print(session_product_combinations.shape)\n",
    "    print(session_product_combinations.head())\n",
    "    \n",
    "    # Asegúrate de que no estás añadiendo columnas no necesarias (como 'user_id', 'country', etc.)\n",
    "    # Realiza las predicciones\n",
    "    if session_product_combinations.shape[0] > 0:  # Verifica que haya filas\n",
    "        predictions = model.predict_proba(session_product_combinations)[:, 1]  # Probabilidad de clase 1 (añadir al carrito)\n",
    "    \n",
    "        # Añadir las predicciones al DataFrame\n",
    "        session_product_combinations['predicted_add_to_cart'] = predictions\n",
    "\n",
    "        # Ordenar por la probabilidad de añadir al carrito (de mayor a menor)\n",
    "        session_product_combinations = session_product_combinations.sort_values(by='predicted_add_to_cart', ascending=False)\n",
    "\n",
    "        # Seleccionar los 5 productos más recomendados para esta sesión\n",
    "        top_5_products = session_product_combinations.head(5)\n",
    "\n",
    "        # Guardar los productos recomendados para esta sesión\n",
    "        recommendations[session_id] = top_5_products['partnumber'].tolist()\n",
    "\n",
    "# Mostrar las recomendaciones\n",
    "print(recommendations)\n"
   ]
  },
  {
   "cell_type": "code",
   "execution_count": 33,
   "metadata": {},
   "outputs": [
    {
     "ename": "NameError",
     "evalue": "name 'json_data' is not defined",
     "output_type": "error",
     "traceback": [
      "\u001b[1;31m---------------------------------------------------------------------------\u001b[0m",
      "\u001b[1;31mNameError\u001b[0m                                 Traceback (most recent call last)",
      "Cell \u001b[1;32mIn[33], line 3\u001b[0m\n\u001b[0;32m      1\u001b[0m \u001b[38;5;66;03m# Asumiendo que tienes un conjunto de test_ids en 'test_data' y las predicciones están en 'predictions'\u001b[39;00m\n\u001b[0;32m      2\u001b[0m test_ids \u001b[38;5;241m=\u001b[39m test_data[\u001b[38;5;124m'\u001b[39m\u001b[38;5;124msession_id\u001b[39m\u001b[38;5;124m'\u001b[39m]\n\u001b[1;32m----> 3\u001b[0m predicted_ids \u001b[38;5;241m=\u001b[39m \u001b[38;5;28mlist\u001b[39m(\u001b[43mjson_data\u001b[49m[\u001b[38;5;124m'\u001b[39m\u001b[38;5;124mtarget\u001b[39m\u001b[38;5;124m'\u001b[39m]\u001b[38;5;241m.\u001b[39mkeys())  \u001b[38;5;66;03m# 'json_data' es el diccionario del JSON cargado\u001b[39;00m\n\u001b[0;32m      5\u001b[0m missing_ids \u001b[38;5;241m=\u001b[39m [session_id \u001b[38;5;28;01mfor\u001b[39;00m session_id \u001b[38;5;129;01min\u001b[39;00m test_ids \u001b[38;5;28;01mif\u001b[39;00m session_id \u001b[38;5;129;01mnot\u001b[39;00m \u001b[38;5;129;01min\u001b[39;00m predicted_ids]\n\u001b[0;32m      7\u001b[0m \u001b[38;5;28;01mif\u001b[39;00m missing_ids:\n",
      "\u001b[1;31mNameError\u001b[0m: name 'json_data' is not defined"
     ]
    }
   ],
   "source": [
    "# Asumiendo que tienes un conjunto de test_ids en 'test_data' y las predicciones están en 'predictions'\n",
    "test_ids = test_data['session_id']\n",
    "predicted_ids = list(json_data['target'].keys())  # 'json_data' es el diccionario del JSON cargado\n",
    "\n",
    "missing_ids = [session_id for session_id in test_ids if session_id not in predicted_ids]\n",
    "\n",
    "if missing_ids:\n",
    "    print(f\"Faltan los siguientes session_ids en las predicciones: {missing_ids}\")\n",
    "else:\n",
    "    print(\"Todos los session_ids están presentes en las predicciones.\")\n"
   ]
  },
  {
   "cell_type": "code",
   "execution_count": 32,
   "metadata": {},
   "outputs": [
    {
     "ename": "NameError",
     "evalue": "name 'test_ids' is not defined",
     "output_type": "error",
     "traceback": [
      "\u001b[1;31m---------------------------------------------------------------------------\u001b[0m",
      "\u001b[1;31mNameError\u001b[0m                                 Traceback (most recent call last)",
      "Cell \u001b[1;32mIn[32], line 2\u001b[0m\n\u001b[0;32m      1\u001b[0m \u001b[38;5;66;03m# Asignar valores por defecto (si es necesario) para los session_id que no tienen predicciones\u001b[39;00m\n\u001b[1;32m----> 2\u001b[0m \u001b[38;5;28;01mfor\u001b[39;00m session_id \u001b[38;5;129;01min\u001b[39;00m \u001b[43mtest_ids\u001b[49m:\n\u001b[0;32m      3\u001b[0m     \u001b[38;5;28;01mif\u001b[39;00m session_id \u001b[38;5;129;01mnot\u001b[39;00m \u001b[38;5;129;01min\u001b[39;00m json_data[\u001b[38;5;124m'\u001b[39m\u001b[38;5;124mtarget\u001b[39m\u001b[38;5;124m'\u001b[39m]:\n\u001b[0;32m      4\u001b[0m         json_data[\u001b[38;5;124m'\u001b[39m\u001b[38;5;124mtarget\u001b[39m\u001b[38;5;124m'\u001b[39m][session_id] \u001b[38;5;241m=\u001b[39m [\u001b[38;5;241m0\u001b[39m] \u001b[38;5;241m*\u001b[39m \u001b[38;5;241m5\u001b[39m  \u001b[38;5;66;03m# Suponiendo que debes poner una lista de 5 predicciones con 0\u001b[39;00m\n",
      "\u001b[1;31mNameError\u001b[0m: name 'test_ids' is not defined"
     ]
    }
   ],
   "source": [
    "# Asignar valores por defecto (si es necesario) para los session_id que no tienen predicciones\n",
    "for session_id in test_ids:\n",
    "    if session_id not in json_data['target']:\n",
    "        json_data['target'][session_id] = [0] * 5  # Suponiendo que debes poner una lista de 5 predicciones con 0\n"
   ]
  }
 ],
 "metadata": {
  "kernelspec": {
   "display_name": "Python 3",
   "language": "python",
   "name": "python3"
  },
  "language_info": {
   "codemirror_mode": {
    "name": "ipython",
    "version": 3
   },
   "file_extension": ".py",
   "mimetype": "text/x-python",
   "name": "python",
   "nbconvert_exporter": "python",
   "pygments_lexer": "ipython3",
   "version": "3.12.5"
  }
 },
 "nbformat": 4,
 "nbformat_minor": 2
}
