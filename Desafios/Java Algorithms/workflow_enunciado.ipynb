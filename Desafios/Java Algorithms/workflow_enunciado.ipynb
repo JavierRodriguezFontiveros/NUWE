{
 "cells": [
  {
   "cell_type": "markdown",
   "metadata": {},
   "source": [
    "# Algoritmos Java 1\n",
    "### Resumen del reto:\n",
    "\n",
    "Debes implementar cuatro algoritmos de ordenamiento en Java con sus archivos correspondientes:  \n",
    "\n",
    "1. El método ***Bubble Sort*** se considera el algoritmo de ordenamiento más simple. Funciona intercambiando repetidamente elementos adyacentes si están en el orden incorrecto. Tiene una complejidad temporal de O(N^2).\n",
    "\n",
    "2. ***Heap Sort*** es una técnica de ordenación basada en comparaciones basada en montículos binarios. Funciona buscando el elemento mínimo y colocándolo al principio. Repita el mismo proceso mientras empuja su valor a la siguiente posición mínima.\n",
    "\n",
    "3. ***Merge Sort*** es un algoritmo de ordenamiento que funciona dividiendo una matriz en submatrices más pequeñas, ordenando cada submatriz y luego fusionando las submatrices ordenadas nuevamente. Suele ser recursivo.\n",
    "\n",
    "4. ***Quick Sort*** es un algoritmo de ordenamiento basado en el algoritmo Divide and Conquer. Funciona eligiendo un elemento como pivote y dividiendo la matriz dada alrededor del pivote, colocando el pivote en su posición correcta en la matriz ordenada.\n",
    "\n",
    "✅ **Bubble Sort** → O (N²)            📌 BubbleSort.java     \n",
    "✅ **Heap Sort** → O (N log N)             📌 HeapSort.java     \n",
    "✅ **Merge Sort** → O (N log N)    📌 MergeSort.java     \n",
    "✅ **Quick Sort** → O (N log N)       📌 QuickSort.java        \n",
    "     \n",
    "\"\"  Se trata de un proyecto ***Maven***, ejecutar pruebas con mvn test para validar tus implementaciones.  \"\"  \n",
    "\n",
    "\n",
    "\n"
   ]
  }
 ],
 "metadata": {
  "language_info": {
   "name": "python"
  }
 },
 "nbformat": 4,
 "nbformat_minor": 2
}
