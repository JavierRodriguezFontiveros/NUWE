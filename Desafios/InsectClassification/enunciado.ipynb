{
 "cells": [
  {
   "cell_type": "markdown",
   "metadata": {},
   "source": [
    "# Dataset"
   ]
  },
  {
   "cell_type": "markdown",
   "metadata": {},
   "source": [
    "1. Variables **continuas** de sensores que indican las condiciones ambientales.   \n",
    "- Sensor_alpha   \n",
    "- Sensor_beta   \n",
    "- Sensor_gamma   \n",
    "\n",
    "\n",
    "2. Variables de **tiempo** en las que se tomaron las lecturas del sensor.\n",
    "- Hour\n",
    "- Minutes   \n",
    "\n",
    "\n",
    "3. Variable **categórica** que indica la clasificación del insecto, presente solo en el conjunto de entrenamiento.\n",
    "- Insect"
   ]
  }
 ],
 "metadata": {
  "language_info": {
   "name": "python"
  }
 },
 "nbformat": 4,
 "nbformat_minor": 2
}
