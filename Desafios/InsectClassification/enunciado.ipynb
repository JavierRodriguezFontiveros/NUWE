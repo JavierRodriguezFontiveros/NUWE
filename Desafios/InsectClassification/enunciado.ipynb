{
 "cells": [
  {
   "cell_type": "markdown",
   "metadata": {},
   "source": [
    "# Investigar lo del .sh (importante)"
   ]
  },
  {
   "cell_type": "markdown",
   "metadata": {},
   "source": [
    "# Dataset"
   ]
  },
  {
   "cell_type": "markdown",
   "metadata": {},
   "source": [
    "1. Variables **continuas** de sensores que indican las condiciones ambientales.   \n",
    "- Sensor_alpha   \n",
    "- Sensor_beta   \n",
    "- Sensor_gamma   \n",
    "\n",
    "\n",
    "2. Variables de **tiempo** en las que se tomaron las lecturas del sensor.\n",
    "- Hour\n",
    "- Minutes   \n",
    "\n",
    "\n",
    "3. Variable **categórica** que indica la clasificación del insecto, presente solo en el conjunto de entrenamiento.\n",
    "- Insect"
   ]
  },
  {
   "cell_type": "markdown",
   "metadata": {},
   "source": [
    "# Hipótesis"
   ]
  },
  {
   "cell_type": "markdown",
   "metadata": {},
   "source": [
    "📌 Preguntas para aclarar antes de avanzar:   \n",
    "- ¿Cuántas categorías de insectos hay? (Balance de clases)    \n",
    "- ¿Existen valores faltantes en los datos?   \n",
    "* ¿Se espera optimizar algún métrico en particular (precisión, recall, F1-score)?    \n",
    "* ¿El dataset tiene muchos registros o es pequeño?    "
   ]
  },
  {
   "cell_type": "markdown",
   "metadata": {},
   "source": [
    "# Workflow 🔍"
   ]
  },
  {
   "cell_type": "markdown",
   "metadata": {},
   "source": [
    "1️⃣ Preprocesamiento (data_processing.py)    \n",
    "\n",
    "* Cargar train.csv y test.csv.    \n",
    "* Manejar valores nulos, normalizar datos, codificar variables si es necesario.     \n",
    "* Generar conjuntos X_train, y_train y X_test. \n",
    "\n",
    "\n",
    "2️⃣ Entrenamiento (model_training.py)    \n",
    "\n",
    "* Cargar los datos preprocesados.    \n",
    "* Seleccionar un modelo de clasificación (árboles de decisión, RandomForest, XGBoost, etc.).    \n",
    "* Ajustar hiperparámetros y entrenar el modelo.    \n",
    "* Guardar el modelo en models/model.pkl.    \n",
    "\n",
    "\n",
    "3️⃣ Predicción (model_prediction.py)    \n",
    "\n",
    "* Cargar el modelo entrenado.     \n",
    "* Aplicarlo sobre X_test.    \n",
    "* Guardar las predicciones en predictions/predictions.json con el formato correcto.    \n",
    "\n",
    "\n",
    "4️⃣ Utilidades (utils.py)   \n",
    "\n",
    "* Funciones auxiliares como lectura/escritura de archivos, métricas de evaluación, logging, etc.   "
   ]
  },
  {
   "cell_type": "markdown",
   "metadata": {},
   "source": [
    "# Estrategia de modelado 🛠️"
   ]
  },
  {
   "cell_type": "markdown",
   "metadata": {},
   "source": [
    "\n",
    "1️⃣ Análisis exploratorio breve:    \n",
    "\n",
    "* Revisar la distribución de clases.    \n",
    "* Identificar correlaciones entre sensores y categorías.    \n",
    "* Evaluar si la variable de tiempo influye en la clasificación.  \n",
    "\n",
    "\n",
    "2️⃣ Selección del modelo:   \n",
    "\n",
    "* Modelos candidatos:     \n",
    "* Árboles de decisión (rápidos, interpretables).    \n",
    "* Random Forest (robusto, maneja bien datos no lineales).    \n",
    "* XGBoost o LightGBM (pueden mejorar precisión).    \n",
    "* Redes neuronales (si el dataset es grande).    \n",
    "\n",
    "\n",
    "3️⃣ Evaluación del modelo:    \n",
    "\n",
    "* Dividir train.csv en train/validation para pruebas internas.    \n",
    "* Medir rendimiento con accuracy, F1-score, confusion matrix.    \n",
    "\n",
    "\n",
    "4️⃣ Guardado del modelo:    \n",
    "\n",
    "* Almacenar en models/model.pkl para reutilización en predicciones. \n",
    "\n",
    "\n",
    "5️⃣ Predicción en test.csv:   \n",
    "\n",
    "* Cargar test.csv, aplicar modelo y generar predictions.json.   "
   ]
  }
 ],
 "metadata": {
  "kernelspec": {
   "display_name": "Python 3",
   "language": "python",
   "name": "python3"
  },
  "language_info": {
   "name": "python",
   "version": "3.12.5"
  }
 },
 "nbformat": 4,
 "nbformat_minor": 2
}
