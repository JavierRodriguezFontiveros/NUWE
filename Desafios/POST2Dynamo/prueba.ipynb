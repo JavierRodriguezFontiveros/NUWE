{
 "cells": [
  {
   "cell_type": "code",
   "execution_count": 3,
   "metadata": {},
   "outputs": [
    {
     "name": "stdout",
     "output_type": "stream",
     "text": [
      "Status Code: 200\n",
      "Error: La respuesta no es un JSON válido.\n"
     ]
    }
   ],
   "source": [
    "import requests\n",
    "import json\n",
    "\n",
    "# URL del endpoint de API Gateway (asumiendo que Localstack se está ejecutando localmente)\n",
    "url = \"http://localhost:4566/restapis/iaqmznqpwr/prod/_user_/eventos\"\n",
    "\n",
    "# Datos a enviar en el cuerpo de la solicitud\n",
    "data = {\n",
    "    \"eventId\": \"12345\",\n",
    "    \"category\": \"Music\"\n",
    "}\n",
    "\n",
    "# Realizamos la solicitud POST\n",
    "response = requests.post(url, json=data)\n",
    "\n",
    "# Mostrar el código de estado\n",
    "print(f\"Status Code: {response.status_code}\")\n",
    "\n",
    "# Verificar si la respuesta es válida antes de intentar convertirla a JSON\n",
    "if response.status_code == 200:\n",
    "    try:\n",
    "        print(f\"Response Body: {response.json()}\")\n",
    "    except json.JSONDecodeError:\n",
    "        print(\"Error: La respuesta no es un JSON válido.\")\n",
    "else:\n",
    "    print(f\"Error: La solicitud no fue exitosa. Código de estado: {response.status_code}\")\n"
   ]
  },
  {
   "cell_type": "code",
   "execution_count": null,
   "metadata": {},
   "outputs": [],
   "source": [
    "import boto3\n",
    "from botocore.exceptions import ClientError\n",
    "\n",
    "# Crear cliente de DynamoDB (asegurándonos de usar Localstack)\n",
    "dynamodb = boto3.resource('dynamodb', region_name='us-east-1', endpoint_url='http://localhost:4566')\n",
    "\n",
    "# Acceder a la tabla de eventos\n",
    "table = dynamodb.Table('EVENTOS')\n",
    "\n",
    "# Realizar una consulta en DynamoDB\n",
    "try:\n",
    "    response = table.get_item(\n",
    "        Key={\n",
    "            'eventId': '12345'  # ID del evento que se insertó en la solicitud POST\n",
    "        }\n",
    "    )\n",
    "    if 'Item' in response:\n",
    "        print(\"Evento encontrado:\", response['Item'])\n",
    "    else:\n",
    "        print(\"No se encontró el evento.\")\n",
    "except ClientError as e:\n",
    "    print(\"Error al consultar DynamoDB:\", e.response['Error']['Message'])\n"
   ]
  }
 ],
 "metadata": {
  "kernelspec": {
   "display_name": "Python 3",
   "language": "python",
   "name": "python3"
  },
  "language_info": {
   "codemirror_mode": {
    "name": "ipython",
    "version": 3
   },
   "file_extension": ".py",
   "mimetype": "text/x-python",
   "name": "python",
   "nbconvert_exporter": "python",
   "pygments_lexer": "ipython3",
   "version": "3.12.5"
  }
 },
 "nbformat": 4,
 "nbformat_minor": 2
}
