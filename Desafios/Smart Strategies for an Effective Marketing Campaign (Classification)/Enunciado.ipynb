{
 "cells": [
  {
   "cell_type": "code",
   "execution_count": 2,
   "metadata": {},
   "outputs": [],
   "source": [
    "#Bibliotecas básicas\n",
    "import pandas as pd\n",
    "import numpy as np"
   ]
  },
  {
   "cell_type": "markdown",
   "metadata": {},
   "source": [
    "# 📈 Estrategias inteligentes para una campaña de marketing efectiva 🚀"
   ]
  },
  {
   "cell_type": "markdown",
   "metadata": {},
   "source": [
    "Subcategoría ➡️ Científico de datos (Clasificación)"
   ]
  },
  {
   "cell_type": "markdown",
   "metadata": {},
   "source": [
    "## 🗂️ Conjunto de datos"
   ]
  },
  {
   "cell_type": "markdown",
   "metadata": {},
   "source": [
    "            (user_id relacional entre ambos)"
   ]
  },
  {
   "cell_type": "markdown",
   "metadata": {},
   "source": [
    "&nbsp;"
   ]
  },
  {
   "cell_type": "markdown",
   "metadata": {},
   "source": [
    "# 1. user_data.csv- **Datos del usuario**"
   ]
  },
  {
   "cell_type": "markdown",
   "metadata": {},
   "source": [
    "Este conjunto incluye información demográfica y de comportamiento del usuario. Cada fila corresponde a un usuario único.\n",
    "\n",
    "1. **user_id:** El identificador único del usuario.\n",
    "\n",
    "2. **age:** La edad del usuario.\n",
    "\n",
    "3. **abandoned_cart:** Si el usuario ha abandonado un carrito de compras sin realizar ninguna compra (Booleano).\n",
    "\n",
    "4. **user_category:** Categoría de usuario basada en su historial:   \n",
    "- usuario_nuevo   \n",
    "- usuario_recurrente   \n",
    "- suscriptor_premium   \n"
   ]
  },
  {
   "cell_type": "markdown",
   "metadata": {},
   "source": [
    "&nbsp;"
   ]
  },
  {
   "cell_type": "markdown",
   "metadata": {},
   "source": [
    "# 2. session_data.csv- **Datos de la sesión**"
   ]
  },
  {
   "cell_type": "markdown",
   "metadata": {},
   "source": [
    "1. **user_id:** El identificador de usuario único para el usuario.\n",
    "\n",
    "2. **session_id:** El identificador de sesión único.\n",
    "\n",
    "3. **timestamp:** La fecha y hora en que comenzó la sesión.\n",
    "\n",
    "4. **device_type:** Tipo de dispositivo utilizado:   \n",
    "- móvil  \n",
    "- tableta   \n",
    "- computadora de escritorio\n",
    "\n",
    "5. **browser:** El navegador web utilizado durante la sesión.\n",
    "\n",
    "6. **operating_system:** El sistema operativo del dispositivo.\n",
    "\n",
    "7. **ip_address:** La dirección IP del dispositivo del usuario.\n",
    "\n",
    "8. **country**: El país desde el que se originó la sesión.\n",
    "\n",
    "9. **search_query:** Términos de búsqueda que el usuario ingresó en el sitio web.\n",
    "\n",
    "10. **page_views:** Número de páginas vistas durante la sesión.\n",
    "\n",
    "11. **session_duration:** La duración total de la sesión en segundos."
   ]
  },
  {
   "cell_type": "markdown",
   "metadata": {},
   "source": [
    "### 📊 Tratamiento de datos\n",
    "- manejar los valores faltantes (asegurár que el conjunto completo)   \n",
    "- Se anima a los participantes a utilizar técnicas de ingeniería de características para derivar nuevas características y transformar las existentes, mejorando así el poder predictivo del modelo."
   ]
  },
  {
   "cell_type": "markdown",
   "metadata": {},
   "source": [
    "### 🤖 Modelo\n",
    "\n",
    "Usar un algoritmo de clasificacion (libertad de elegir):\n",
    "- Árbol de decisiones, un bosque aleatorio o un conjunto más sofisticado o un modelo de aprendizaje profundo, seleccione el que crea que tendrá el mejor rendimiento para esta tarea de clasificación."
   ]
  },
  {
   "cell_type": "markdown",
   "metadata": {},
   "source": [
    "### 📂 Estructura del repositorio\n",
    "- Train y test ya dividdo\n"
   ]
  },
  {
   "cell_type": "markdown",
   "metadata": {},
   "source": [
    "# 🎯 Tareas\n"
   ]
  },
  {
   "cell_type": "markdown",
   "metadata": {},
   "source": [
    "**Tarea 1:** Calcular y asignar la **marketing_target** \"columna\" a cada usuario.   \n",
    "\n",
    "Esta columna debe reflejar el nivel de interacción previsto del usuario con la campaña de marketing, con valores asignados de la siguiente manera:   \n",
    "\n",
    "- (1) Para bajo compromiso\n",
    "- (2) Para compromiso medio\n",
    "- (3) Para un alto nivel de compromiso\n",
    "\n",
    "Asegúrese de que sus predicciones sean lo más precisas posible para facilitar una interacción eficaz con los usuarios."
   ]
  },
  {
   "cell_type": "markdown",
   "metadata": {},
   "source": [
    "## 📤 Envío\n",
    "Obtener un archivo en formato json cuyo nombre sea predictions.json"
   ]
  },
  {
   "cell_type": "code",
   "execution_count": null,
   "metadata": {},
   "outputs": [],
   "source": [
    "{\n",
    "    \"target\": {\n",
    "        \"297\": 1,\n",
    "        \"11\": 3,\n",
    "        \"67\": 3,\n",
    "        \"54\": 3,\n",
    "        \"156\": 2,\n",
    "        \"290\": 2,\n",
    "        \"193\": 3,\n",
    "        ...\n",
    "  }\n",
    "}"
   ]
  },
  {
   "cell_type": "markdown",
   "metadata": {},
   "source": [
    "## 📊 Evaluación ( 900 puntos )\n"
   ]
  },
  {
   "cell_type": "markdown",
   "metadata": {},
   "source": [
    "Esta práctica se evaluará automáticamente mediante la métrica F1 Score.    \n",
    "\n",
    "**Cuanto más cercano a 1 esté su puntaje F1 mejor.**\n"
   ]
  },
  {
   "cell_type": "markdown",
   "metadata": {},
   "source": [
    "&nbsp;"
   ]
  },
  {
   "cell_type": "markdown",
   "metadata": {},
   "source": [
    "&nbsp;"
   ]
  },
  {
   "cell_type": "markdown",
   "metadata": {},
   "source": [
    "# 🚀 Procedimiento 🚀"
   ]
  },
  {
   "cell_type": "markdown",
   "metadata": {},
   "source": [
    "## 1️⃣ Primer dataset: 📂"
   ]
  },
  {
   "cell_type": "markdown",
   "metadata": {},
   "source": [
    "0. **user_id:**    \n",
    "\n",
    "-Cantidad de sesiones por usuario:   \n",
    "df['user_session_count'] = df.groupby('user_id')['session_id'].transform('count')\n",
    "\n",
    "-Frecuencia de visitas por usuario:    \n",
    "df['user_visit_frequency'] = df.groupby('user_id')['timestamp'].transform('count')\n",
    "\n",
    "\n",
    "1. **age:**  \n",
    "   \n",
    "-Dividir en rangos de edad:\n",
    "- Niños (0-12)\n",
    "- Jóvenes (13-24)\n",
    "- Adultos jóvenes (25-34)\n",
    "- Adultos medios (35-44)\n",
    "- Adultos mayores (45-60)\n",
    "- Personas mayores (>60)\n",
    "\n",
    "-Comprobar que no haya edades raras\n",
    "\n",
    "\n",
    "2. **abandoned_cart:**  \n",
    "\n",
    "-Combinar con edad por ejemplo:\n",
    "df['age_abandoned'] = df['age'] * df['abandoned_cart']   \n",
    "df['user_category_abandoned'] = df['user_category'] + \"_\" + df['abandoned_cart'].astype(str)\n",
    "\n",
    "-Crear una métrica que indique la tasa de abandono por cada grupo (nuevos, recurrentes, premium).   \n",
    "Esto te puede dar una idea de cómo cada tipo de usuario tiende a comportarse.\n",
    "\n",
    "3. **user_category:**   \n",
    "\n",
    "-Edad promedio por categoría de usuario:   \n",
    "df['user_category_age_mean'] = df.groupby('user_category')['age'].transform('mean')    \n",
    "\n",
    "-Número de compras por tipo de usuario:   \n",
    "df['user_category_purchase_count'] = df.groupby('user_category')['user_category'].transform('count')\n"
   ]
  },
  {
   "cell_type": "markdown",
   "metadata": {},
   "source": [
    "&nbsp;"
   ]
  },
  {
   "cell_type": "markdown",
   "metadata": {},
   "source": [
    "&nbsp;"
   ]
  },
  {
   "cell_type": "markdown",
   "metadata": {},
   "source": [
    "## 2️⃣ Segundo Dataset: 📂"
   ]
  },
  {
   "cell_type": "markdown",
   "metadata": {},
   "source": [
    "0. **user_id:**    \n",
    "\n",
    "-Cantidad de sesiones por usuario:   \n",
    "df['user_session_count'] = df.groupby('user_id')['session_id'].transform('count')\n",
    "\n",
    "-Frecuencia de visitas por usuario:    \n",
    "df['user_visit_frequency'] = df.groupby('user_id')['timestamp'].transform('count')   \n",
    "\n",
    "\n",
    "1. **session_id:**    \n",
    "\n",
    "-Duración media de sesión por usuario:    \n",
    "df['avg_session_duration_per_user'] = df.groupby('user_id')['session_duration'].transform('mean')\n",
    "\n",
    "\n",
    "2. **time_stamp:**    \n",
    "Es uno de los puntos más interesantes, ya que las fechas y horas pueden revelar patrones importantes,   \n",
    "como los horarios de mayor tráfico o la duración de la sesión   \n",
    "\n",
    "-Hora del dia:   \n",
    "df['session_hour'] = df['timestamp'].dt.hour\n",
    "\n",
    "-Día de la semana:   \n",
    "df['session_day_of_week'] = df['timestamp'].dt.dayofweek\n",
    " \n",
    "-Fecha:    \n",
    "df['session_date'] = df['timestamp'].dt.date   \n",
    "\n",
    "-Sesiones largas o sesines cortas:   \n",
    "mean_duration = df['session_duration'].mean()\n",
    "df['long_session'] = df['session_duration'] > mean_duration\n",
    "\n",
    " \n",
    "3. **device_type:**   \n",
    "\n",
    "-Frecuencia de uso de cada dispositivo:    \n",
    "device_freq = df['device_type'].value_counts()\n",
    "df['device_type_count'] = df['device_type'].map(device_freq)\n",
    "\n",
    "4. **browser:**\n",
    "\n",
    "-Codificación One-Hot:   \n",
    "df = pd.get_dummies(df, columns=['browser'], drop_first=True)\n",
    "\n",
    "-Frecuencia de uso de cada navegador:   \n",
    "browser_freq = df['browser'].value_counts()\n",
    "df['browser_count'] = df['browser'].map(browser_freq)\n",
    "\n",
    "\n",
    "5. **operating_systen:**\n",
    "\n",
    "-Codificación One-Hot:   \n",
    "df = pd.get_dummies(df, columns=['browser'], drop_first=True)\n",
    "\n",
    "-Frecuencia:   \n",
    "browser_freq = df['browser'].value_counts()\n",
    "df['browser_count'] = df['browser'].map(browser_freq)\n",
    "\n",
    "\n",
    "6. **ip_address:**\n",
    "\n",
    "-Validar que la \"ip_address\" coincide con el \"country\".    \n",
    "\n",
    "-Número de sesiones por IP: Puedes identificar si varias sesiones provienen de la misma IP,   \n",
    " lo que podría indicar un único usuario o un grupo de usuarios.\n",
    "\n",
    "7. **country:**\n",
    "\n",
    "-Frecuencia de países:    \n",
    "country_freq = df['country'].value_counts()    \n",
    "df['country_count'] = df['country'].map(country_freq)\n",
    "\n",
    "\n",
    "8. **search_query:**   \n",
    "El término de búsqueda puede ser un factor muy importante, ya que puede indicar la intención del usuario.   \n",
    "\n",
    "-Longitud de la búsqueda:   \n",
    "df['search_query_length'] = df['search_query'].apply(len)\n",
    "\n",
    "-Frecuencia de términos de búsqueda:    \n",
    "from sklearn.feature_extraction.text import CountVectorizer     \n",
    "vectorizer = CountVectorizer()    \n",
    "X = vectorizer.fit_transform(df['search_query'])    \n",
    "search_terms_df = pd.DataFrame(X.toarray(), columns=vectorizer.get_feature_names_out())    \n",
    "df = pd.concat([df, search_terms_df], axis=1)\n",
    "\n",
    "\n",
    "9. **page_views:**    \n",
    "métrica directa del comportamiento del usuario.   \n",
    "\n",
    "-Categorías de páginas vistas:    \n",
    "df['page_view_category'] = pd.cut(df['page_views'], bins=[0, 5, 15, 50, 200], labels=['Muy bajo', 'Bajo', 'Alto', 'Muy alto'])     \n",
    "\n",
    "-Promedio de páginas vistas por usuario:    \n",
    "df['avg_page_views_per_user'] = df.groupby('user_id')['page_views'].transform('mean')    \n",
    "\n",
    "\n",
    "10. **session_duration:**\n",
    "Puede ser útil para entender si una sesión fue exitosa o no.\n",
    "\n",
    "-Duración categórica:    \n",
    "df['session_duration_category'] = pd.cut(df['session_duration'], bins=[0, 300, 600, 1800, 3600], labels=['Corta', 'Media', 'Larga', 'Muy larga'])    \n",
    "\n",
    "-Duración normalizada:   \n",
    "from sklearn.preprocessing import StandardScaler    \n",
    "scaler = StandardScaler()    \n",
    "df['session_duration_scaled'] = scaler.fit_transform(df[['session_duration']])\n",
    "\n",
    "\n",
    " \n",
    "\n",
    "\n",
    "\n",
    "\n",
    "\n"
   ]
  },
  {
   "cell_type": "markdown",
   "metadata": {},
   "source": [
    "&nbsp;"
   ]
  },
  {
   "cell_type": "markdown",
   "metadata": {},
   "source": [
    "## ¿Como tratar los valores faltantes? 🚀"
   ]
  },
  {
   "cell_type": "markdown",
   "metadata": {},
   "source": [
    "### Variables Numéricas: \n",
    "(como age, session_duration, page_views...)\n",
    "\n",
    "1. Rellenar con la media o la mediana:\n",
    "- Si hay distribución simétrica, puedes rellenar con la **media**.  \n",
    "- Si hay distribución sesgada (ejemplo:session_duration), usar la **mediana**\n",
    "\n",
    "(Hacer visualizaciones previamente para determinar la distribución)\n",
    "\n",
    "2. Usar K-Means o KNN Imputation\n"
   ]
  },
  {
   "cell_type": "markdown",
   "metadata": {},
   "source": [
    "### Variables Categóricas   \n",
    "(como user_category, device_type, country)   \n",
    "1. Rellenar con la categoría más frecuente ( la moda )\n"
   ]
  },
  {
   "cell_type": "markdown",
   "metadata": {},
   "source": [
    "### Variables Temporales    \n",
    "(como timestamp)   \n",
    "1. Rellenar con valores previos o siguientes (Forward/Backward Fill)   \n",
    "\n",
    "ejemplo:   \n",
    "df['timestamp'].fillna(method='ffill', inplace=True)  # Forward fill   \n",
    "df['timestamp'].fillna(method='bfill', inplace=True)  # Backward fill\n"
   ]
  },
  {
   "cell_type": "markdown",
   "metadata": {},
   "source": [
    "# Revisar con visualizaciones posteriores si los nuevos datos tienen sentido\n",
    "(eliminando outlayers o lo que haga falta)"
   ]
  },
  {
   "cell_type": "markdown",
   "metadata": {},
   "source": [
    "&nbsp;"
   ]
  },
  {
   "cell_type": "markdown",
   "metadata": {},
   "source": [
    "&nbsp;"
   ]
  },
  {
   "cell_type": "markdown",
   "metadata": {},
   "source": [
    "# Modelo Machine Learning: 🤖"
   ]
  }
 ],
 "metadata": {
  "kernelspec": {
   "display_name": "Python 3",
   "language": "python",
   "name": "python3"
  },
  "language_info": {
   "codemirror_mode": {
    "name": "ipython",
    "version": 3
   },
   "file_extension": ".py",
   "mimetype": "text/x-python",
   "name": "python",
   "nbconvert_exporter": "python",
   "pygments_lexer": "ipython3",
   "version": "3.12.5"
  }
 },
 "nbformat": 4,
 "nbformat_minor": 2
}
