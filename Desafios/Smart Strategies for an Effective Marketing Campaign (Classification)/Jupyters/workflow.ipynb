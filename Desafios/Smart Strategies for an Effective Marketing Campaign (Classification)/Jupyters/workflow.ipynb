{
 "cells": [
  {
   "cell_type": "markdown",
   "metadata": {},
   "source": [
    "# Bibliotecas"
   ]
  },
  {
   "cell_type": "code",
   "execution_count": 1,
   "metadata": {},
   "outputs": [],
   "source": [
    "import pandas as pd"
   ]
  },
  {
   "cell_type": "markdown",
   "metadata": {},
   "source": [
    "# Lectura de Datasets"
   ]
  },
  {
   "cell_type": "code",
   "execution_count": 2,
   "metadata": {},
   "outputs": [],
   "source": [
    "#Train\n",
    "session_train = pd.read_csv(\"train/session_train.csv\")\n",
    "user_train = pd.read_csv(\"train/user_train.csv\", sep=\";\")\n",
    "\n",
    "#Test\n",
    "session_test = pd.read_csv(\"test/session_test.csv\")\n",
    "user_test = pd.read_csv(\"test/user_test.csv\", sep=\";\")"
   ]
  },
  {
   "cell_type": "code",
   "execution_count": 3,
   "metadata": {},
   "outputs": [],
   "source": [
    "#Train\n",
    "df_1_train = session_train.copy()\n",
    "df_2_train = user_train.copy()\n",
    "\n",
    "#Test\n",
    "df_1_test = session_test.copy()\n",
    "df_2_test = user_test.copy()"
   ]
  },
  {
   "cell_type": "markdown",
   "metadata": {},
   "source": [
    "# Session_train ✅✅✅"
   ]
  },
  {
   "cell_type": "code",
   "execution_count": 4,
   "metadata": {},
   "outputs": [
    {
     "data": {
      "text/html": [
       "<div>\n",
       "<style scoped>\n",
       "    .dataframe tbody tr th:only-of-type {\n",
       "        vertical-align: middle;\n",
       "    }\n",
       "\n",
       "    .dataframe tbody tr th {\n",
       "        vertical-align: top;\n",
       "    }\n",
       "\n",
       "    .dataframe thead th {\n",
       "        text-align: right;\n",
       "    }\n",
       "</style>\n",
       "<table border=\"1\" class=\"dataframe\">\n",
       "  <thead>\n",
       "    <tr style=\"text-align: right;\">\n",
       "      <th></th>\n",
       "      <th>user_id</th>\n",
       "      <th>session_id</th>\n",
       "      <th>timestamp</th>\n",
       "      <th>device_type</th>\n",
       "      <th>browser</th>\n",
       "      <th>operating_system</th>\n",
       "      <th>ip_address</th>\n",
       "      <th>country</th>\n",
       "      <th>search_query</th>\n",
       "      <th>page_views</th>\n",
       "      <th>session_duration</th>\n",
       "    </tr>\n",
       "  </thead>\n",
       "  <tbody>\n",
       "    <tr>\n",
       "      <th>0</th>\n",
       "      <td>64ec8ab8-a6f5-491f-8c1a-e6cd28f4471b</td>\n",
       "      <td>0b98d388-87f7-4202-b2ab-b63cb7aea9bc</td>\n",
       "      <td>2023-09-06 18:10:01</td>\n",
       "      <td>mobile</td>\n",
       "      <td>Firefox</td>\n",
       "      <td>iOS</td>\n",
       "      <td>17.236.24.58</td>\n",
       "      <td>Saudi Arabia</td>\n",
       "      <td>Left myself writer decision plan few.</td>\n",
       "      <td>8</td>\n",
       "      <td>54</td>\n",
       "    </tr>\n",
       "    <tr>\n",
       "      <th>1</th>\n",
       "      <td>64ec8ab8-a6f5-491f-8c1a-e6cd28f4471b</td>\n",
       "      <td>fb626371-21a7-453b-a9ff-67a7a53ac19c</td>\n",
       "      <td>2023-04-02 23:09:10</td>\n",
       "      <td>desktop</td>\n",
       "      <td>Edge</td>\n",
       "      <td>Linux</td>\n",
       "      <td>92.110.53.157</td>\n",
       "      <td>Eritrea</td>\n",
       "      <td>Prevent state action sure save.</td>\n",
       "      <td>9</td>\n",
       "      <td>255</td>\n",
       "    </tr>\n",
       "    <tr>\n",
       "      <th>2</th>\n",
       "      <td>64ec8ab8-a6f5-491f-8c1a-e6cd28f4471b</td>\n",
       "      <td>b51b4fa7-a79a-44fc-bf41-3b6079d676fb</td>\n",
       "      <td>2023-08-09 08:07:32</td>\n",
       "      <td>mobile</td>\n",
       "      <td>Firefox</td>\n",
       "      <td>Windows</td>\n",
       "      <td>110.203.61.8</td>\n",
       "      <td>Mali</td>\n",
       "      <td>Hear write edge you skill newspaper.</td>\n",
       "      <td>3</td>\n",
       "      <td>296</td>\n",
       "    </tr>\n",
       "    <tr>\n",
       "      <th>3</th>\n",
       "      <td>64ec8ab8-a6f5-491f-8c1a-e6cd28f4471b</td>\n",
       "      <td>41ca9c65-c0f4-47fa-ad36-6652e3bc59a6</td>\n",
       "      <td>2023-08-13 11:20:40</td>\n",
       "      <td>tablet</td>\n",
       "      <td>Edge</td>\n",
       "      <td>iOS</td>\n",
       "      <td>190.106.161.28</td>\n",
       "      <td>Barbados</td>\n",
       "      <td>Thing standard teach same arrive.</td>\n",
       "      <td>8</td>\n",
       "      <td>217</td>\n",
       "    </tr>\n",
       "    <tr>\n",
       "      <th>4</th>\n",
       "      <td>64ec8ab8-a6f5-491f-8c1a-e6cd28f4471b</td>\n",
       "      <td>5f90aa6e-2395-4eba-919a-cc27c9fa1eac</td>\n",
       "      <td>2023-03-23 13:34:47</td>\n",
       "      <td>desktop</td>\n",
       "      <td>Edge</td>\n",
       "      <td>iOS</td>\n",
       "      <td>33.69.13.184</td>\n",
       "      <td>San Marino</td>\n",
       "      <td>Choice hear stand avoid clear material nothing.</td>\n",
       "      <td>9</td>\n",
       "      <td>229</td>\n",
       "    </tr>\n",
       "  </tbody>\n",
       "</table>\n",
       "</div>"
      ],
      "text/plain": [
       "                                user_id                            session_id  \\\n",
       "0  64ec8ab8-a6f5-491f-8c1a-e6cd28f4471b  0b98d388-87f7-4202-b2ab-b63cb7aea9bc   \n",
       "1  64ec8ab8-a6f5-491f-8c1a-e6cd28f4471b  fb626371-21a7-453b-a9ff-67a7a53ac19c   \n",
       "2  64ec8ab8-a6f5-491f-8c1a-e6cd28f4471b  b51b4fa7-a79a-44fc-bf41-3b6079d676fb   \n",
       "3  64ec8ab8-a6f5-491f-8c1a-e6cd28f4471b  41ca9c65-c0f4-47fa-ad36-6652e3bc59a6   \n",
       "4  64ec8ab8-a6f5-491f-8c1a-e6cd28f4471b  5f90aa6e-2395-4eba-919a-cc27c9fa1eac   \n",
       "\n",
       "             timestamp device_type  browser operating_system      ip_address  \\\n",
       "0  2023-09-06 18:10:01      mobile  Firefox              iOS    17.236.24.58   \n",
       "1  2023-04-02 23:09:10     desktop     Edge            Linux   92.110.53.157   \n",
       "2  2023-08-09 08:07:32      mobile  Firefox          Windows    110.203.61.8   \n",
       "3  2023-08-13 11:20:40      tablet     Edge              iOS  190.106.161.28   \n",
       "4  2023-03-23 13:34:47     desktop     Edge              iOS    33.69.13.184   \n",
       "\n",
       "        country                                     search_query  page_views  \\\n",
       "0  Saudi Arabia            Left myself writer decision plan few.           8   \n",
       "1       Eritrea                  Prevent state action sure save.           9   \n",
       "2          Mali             Hear write edge you skill newspaper.           3   \n",
       "3      Barbados                Thing standard teach same arrive.           8   \n",
       "4    San Marino  Choice hear stand avoid clear material nothing.           9   \n",
       "\n",
       "   session_duration  \n",
       "0                54  \n",
       "1               255  \n",
       "2               296  \n",
       "3               217  \n",
       "4               229  "
      ]
     },
     "execution_count": 4,
     "metadata": {},
     "output_type": "execute_result"
    }
   ],
   "source": [
    "df_1_train.head()"
   ]
  },
  {
   "cell_type": "code",
   "execution_count": 5,
   "metadata": {},
   "outputs": [
    {
     "data": {
      "text/html": [
       "<div>\n",
       "<style scoped>\n",
       "    .dataframe tbody tr th:only-of-type {\n",
       "        vertical-align: middle;\n",
       "    }\n",
       "\n",
       "    .dataframe tbody tr th {\n",
       "        vertical-align: top;\n",
       "    }\n",
       "\n",
       "    .dataframe thead th {\n",
       "        text-align: right;\n",
       "    }\n",
       "</style>\n",
       "<table border=\"1\" class=\"dataframe\">\n",
       "  <thead>\n",
       "    <tr style=\"text-align: right;\">\n",
       "      <th></th>\n",
       "      <th>user_id</th>\n",
       "      <th>session_id</th>\n",
       "      <th>timestamp</th>\n",
       "      <th>device_type</th>\n",
       "      <th>browser</th>\n",
       "      <th>operating_system</th>\n",
       "      <th>ip_address</th>\n",
       "      <th>country</th>\n",
       "      <th>search_query</th>\n",
       "      <th>page_views</th>\n",
       "      <th>session_duration</th>\n",
       "    </tr>\n",
       "  </thead>\n",
       "  <tbody>\n",
       "    <tr>\n",
       "      <th>6872</th>\n",
       "      <td>cb014f4d-6638-42d0-8fdf-f657d63d6910</td>\n",
       "      <td>b9ec1d68-2358-49dc-9ce0-50e41bb55044</td>\n",
       "      <td>2023-03-25 14:06:21</td>\n",
       "      <td>desktop</td>\n",
       "      <td>Chrome</td>\n",
       "      <td>Android</td>\n",
       "      <td>59.96.40.159</td>\n",
       "      <td>Costa Rica</td>\n",
       "      <td>Fire vote test later.</td>\n",
       "      <td>5</td>\n",
       "      <td>121</td>\n",
       "    </tr>\n",
       "    <tr>\n",
       "      <th>6873</th>\n",
       "      <td>cb014f4d-6638-42d0-8fdf-f657d63d6910</td>\n",
       "      <td>8ae31be6-04a8-4ecf-b376-9720ada302fc</td>\n",
       "      <td>2023-04-03 01:56:51</td>\n",
       "      <td>tablet</td>\n",
       "      <td>Safari</td>\n",
       "      <td>iOS</td>\n",
       "      <td>165.75.68.151</td>\n",
       "      <td>Saint Martin</td>\n",
       "      <td>Wind reduce cold modern another push get.</td>\n",
       "      <td>5</td>\n",
       "      <td>27</td>\n",
       "    </tr>\n",
       "    <tr>\n",
       "      <th>6874</th>\n",
       "      <td>cb014f4d-6638-42d0-8fdf-f657d63d6910</td>\n",
       "      <td>30a173eb-6b62-4772-83c7-fa05c969644e</td>\n",
       "      <td>2023-09-22 09:10:34</td>\n",
       "      <td>tablet</td>\n",
       "      <td>Safari</td>\n",
       "      <td>Linux</td>\n",
       "      <td>205.56.230.2</td>\n",
       "      <td>Guinea-Bissau</td>\n",
       "      <td>Nation about alone heavy special rise.</td>\n",
       "      <td>10</td>\n",
       "      <td>183</td>\n",
       "    </tr>\n",
       "    <tr>\n",
       "      <th>6875</th>\n",
       "      <td>cb014f4d-6638-42d0-8fdf-f657d63d6910</td>\n",
       "      <td>a9905f44-6d29-4623-83d6-42b9e1baf1f6</td>\n",
       "      <td>2023-03-17 19:56:31</td>\n",
       "      <td>tablet</td>\n",
       "      <td>Safari</td>\n",
       "      <td>Android</td>\n",
       "      <td>130.253.133.85</td>\n",
       "      <td>Vanuatu</td>\n",
       "      <td>Task education source Mrs.</td>\n",
       "      <td>3</td>\n",
       "      <td>159</td>\n",
       "    </tr>\n",
       "    <tr>\n",
       "      <th>6876</th>\n",
       "      <td>cb014f4d-6638-42d0-8fdf-f657d63d6910</td>\n",
       "      <td>9e6bf192-d142-4e1b-92c4-fb9b099d2c76</td>\n",
       "      <td>2023-10-25 13:30:44</td>\n",
       "      <td>mobile</td>\n",
       "      <td>Firefox</td>\n",
       "      <td>Linux</td>\n",
       "      <td>116.45.231.217</td>\n",
       "      <td>Lithuania</td>\n",
       "      <td>Reach mother ten add citizen example.</td>\n",
       "      <td>4</td>\n",
       "      <td>291</td>\n",
       "    </tr>\n",
       "  </tbody>\n",
       "</table>\n",
       "</div>"
      ],
      "text/plain": [
       "                                   user_id  \\\n",
       "6872  cb014f4d-6638-42d0-8fdf-f657d63d6910   \n",
       "6873  cb014f4d-6638-42d0-8fdf-f657d63d6910   \n",
       "6874  cb014f4d-6638-42d0-8fdf-f657d63d6910   \n",
       "6875  cb014f4d-6638-42d0-8fdf-f657d63d6910   \n",
       "6876  cb014f4d-6638-42d0-8fdf-f657d63d6910   \n",
       "\n",
       "                                session_id            timestamp device_type  \\\n",
       "6872  b9ec1d68-2358-49dc-9ce0-50e41bb55044  2023-03-25 14:06:21     desktop   \n",
       "6873  8ae31be6-04a8-4ecf-b376-9720ada302fc  2023-04-03 01:56:51      tablet   \n",
       "6874  30a173eb-6b62-4772-83c7-fa05c969644e  2023-09-22 09:10:34      tablet   \n",
       "6875  a9905f44-6d29-4623-83d6-42b9e1baf1f6  2023-03-17 19:56:31      tablet   \n",
       "6876  9e6bf192-d142-4e1b-92c4-fb9b099d2c76  2023-10-25 13:30:44      mobile   \n",
       "\n",
       "      browser operating_system      ip_address        country  \\\n",
       "6872   Chrome          Android    59.96.40.159     Costa Rica   \n",
       "6873   Safari              iOS   165.75.68.151   Saint Martin   \n",
       "6874   Safari            Linux    205.56.230.2  Guinea-Bissau   \n",
       "6875   Safari          Android  130.253.133.85        Vanuatu   \n",
       "6876  Firefox            Linux  116.45.231.217      Lithuania   \n",
       "\n",
       "                                   search_query  page_views  session_duration  \n",
       "6872                      Fire vote test later.           5               121  \n",
       "6873  Wind reduce cold modern another push get.           5                27  \n",
       "6874     Nation about alone heavy special rise.          10               183  \n",
       "6875                 Task education source Mrs.           3               159  \n",
       "6876      Reach mother ten add citizen example.           4               291  "
      ]
     },
     "execution_count": 5,
     "metadata": {},
     "output_type": "execute_result"
    }
   ],
   "source": [
    "df_1_train.tail()"
   ]
  },
  {
   "cell_type": "code",
   "execution_count": 6,
   "metadata": {},
   "outputs": [
    {
     "name": "stdout",
     "output_type": "stream",
     "text": [
      "<class 'pandas.core.frame.DataFrame'>\n",
      "RangeIndex: 6877 entries, 0 to 6876\n",
      "Data columns (total 11 columns):\n",
      " #   Column            Non-Null Count  Dtype \n",
      "---  ------            --------------  ----- \n",
      " 0   user_id           6877 non-null   object\n",
      " 1   session_id        6877 non-null   object\n",
      " 2   timestamp         6877 non-null   object\n",
      " 3   device_type       6877 non-null   object\n",
      " 4   browser           6877 non-null   object\n",
      " 5   operating_system  6877 non-null   object\n",
      " 6   ip_address        6877 non-null   object\n",
      " 7   country           6877 non-null   object\n",
      " 8   search_query      6877 non-null   object\n",
      " 9   page_views        6877 non-null   int64 \n",
      " 10  session_duration  6877 non-null   int64 \n",
      "dtypes: int64(2), object(9)\n",
      "memory usage: 591.1+ KB\n"
     ]
    }
   ],
   "source": [
    "df_1_train.info()"
   ]
  },
  {
   "cell_type": "code",
   "execution_count": 7,
   "metadata": {},
   "outputs": [
    {
     "data": {
      "text/plain": [
       "Index(['user_id', 'session_id', 'timestamp', 'device_type', 'browser',\n",
       "       'operating_system', 'ip_address', 'country', 'search_query',\n",
       "       'page_views', 'session_duration'],\n",
       "      dtype='object')"
      ]
     },
     "execution_count": 7,
     "metadata": {},
     "output_type": "execute_result"
    }
   ],
   "source": [
    "df_1_train.columns"
   ]
  },
  {
   "cell_type": "markdown",
   "metadata": {},
   "source": [
    "### 1.user_id ✅"
   ]
  },
  {
   "cell_type": "code",
   "execution_count": 8,
   "metadata": {},
   "outputs": [
    {
     "data": {
      "text/plain": [
       "user_id\n",
       "cb014f4d-6638-42d0-8fdf-f657d63d6910    15\n",
       "71951fbc-b899-4a05-a556-8647d0b6d0f7    15\n",
       "22715def-509b-4ebf-bb39-9ad6bb08421d    15\n",
       "f5e1932a-d4fb-4f5f-94f5-63ca7e1987e0    15\n",
       "e9aef5b0-dc81-4405-9c87-331f960b7ca5    15\n",
       "                                        ..\n",
       "82f981b9-6b10-4a78-854e-0a8ec57b1d4e     5\n",
       "bc86ef5c-0109-4623-94e3-459f2e0eb22a     5\n",
       "3ebbb8a2-652d-4478-9913-c6a3ed6c8f0a     5\n",
       "138ec367-f1e3-4a28-9130-8e8f97f501c4     5\n",
       "9bd04f6e-c071-4812-8ea6-bcd677753a41     5\n",
       "Name: count, Length: 700, dtype: int64"
      ]
     },
     "execution_count": 8,
     "metadata": {},
     "output_type": "execute_result"
    }
   ],
   "source": [
    "#Hay usuarios únicos o repiten? (si que hay usuarios que repiten)\n",
    "df_1_train[\"user_id\"].value_counts()"
   ]
  },
  {
   "cell_type": "markdown",
   "metadata": {},
   "source": [
    "### 2.session_id ✅"
   ]
  },
  {
   "cell_type": "code",
   "execution_count": 9,
   "metadata": {},
   "outputs": [
    {
     "data": {
      "text/plain": [
       "0       0b98d388-87f7-4202-b2ab-b63cb7aea9bc\n",
       "1       fb626371-21a7-453b-a9ff-67a7a53ac19c\n",
       "2       b51b4fa7-a79a-44fc-bf41-3b6079d676fb\n",
       "3       41ca9c65-c0f4-47fa-ad36-6652e3bc59a6\n",
       "4       5f90aa6e-2395-4eba-919a-cc27c9fa1eac\n",
       "                        ...                 \n",
       "6872    b9ec1d68-2358-49dc-9ce0-50e41bb55044\n",
       "6873    8ae31be6-04a8-4ecf-b376-9720ada302fc\n",
       "6874    30a173eb-6b62-4772-83c7-fa05c969644e\n",
       "6875    a9905f44-6d29-4623-83d6-42b9e1baf1f6\n",
       "6876    9e6bf192-d142-4e1b-92c4-fb9b099d2c76\n",
       "Name: session_id, Length: 6877, dtype: object"
      ]
     },
     "execution_count": 9,
     "metadata": {},
     "output_type": "execute_result"
    }
   ],
   "source": [
    "df_1_train[\"session_id\"]"
   ]
  },
  {
   "cell_type": "code",
   "execution_count": 10,
   "metadata": {},
   "outputs": [
    {
     "data": {
      "text/plain": [
       "0"
      ]
     },
     "execution_count": 10,
     "metadata": {},
     "output_type": "execute_result"
    }
   ],
   "source": [
    "#Contar duplicados en session_id (no hay)\n",
    "df_1_train[\"session_id\"].duplicated().sum()"
   ]
  },
  {
   "cell_type": "code",
   "execution_count": 11,
   "metadata": {},
   "outputs": [
    {
     "data": {
      "text/html": [
       "<div>\n",
       "<style scoped>\n",
       "    .dataframe tbody tr th:only-of-type {\n",
       "        vertical-align: middle;\n",
       "    }\n",
       "\n",
       "    .dataframe tbody tr th {\n",
       "        vertical-align: top;\n",
       "    }\n",
       "\n",
       "    .dataframe thead th {\n",
       "        text-align: right;\n",
       "    }\n",
       "</style>\n",
       "<table border=\"1\" class=\"dataframe\">\n",
       "  <thead>\n",
       "    <tr style=\"text-align: right;\">\n",
       "      <th></th>\n",
       "      <th>user_id</th>\n",
       "      <th>session_id</th>\n",
       "      <th>timestamp</th>\n",
       "      <th>device_type</th>\n",
       "      <th>browser</th>\n",
       "      <th>operating_system</th>\n",
       "      <th>ip_address</th>\n",
       "      <th>country</th>\n",
       "      <th>search_query</th>\n",
       "      <th>page_views</th>\n",
       "      <th>session_duration</th>\n",
       "    </tr>\n",
       "  </thead>\n",
       "  <tbody>\n",
       "  </tbody>\n",
       "</table>\n",
       "</div>"
      ],
      "text/plain": [
       "Empty DataFrame\n",
       "Columns: [user_id, session_id, timestamp, device_type, browser, operating_system, ip_address, country, search_query, page_views, session_duration]\n",
       "Index: []"
      ]
     },
     "execution_count": 11,
     "metadata": {},
     "output_type": "execute_result"
    }
   ],
   "source": [
    "#Comprobar si hay formatos raros (no hay)\n",
    "import re\n",
    "\n",
    "#Expresión regular para UUID\n",
    "uuid_pattern = re.compile(r\"^[a-f0-9]{8}-[a-f0-9]{4}-[a-f0-9]{4}-[a-f0-9]{4}-[a-f0-9]{12}$\")\n",
    "\n",
    "#Comprobar cuántos session_id no cumplen el formato\n",
    "df_1_train[~df_1_train[\"session_id\"].astype(str).str.match(uuid_pattern)]\n"
   ]
  },
  {
   "cell_type": "markdown",
   "metadata": {},
   "source": [
    "### 3.timestamp ✅"
   ]
  },
  {
   "cell_type": "code",
   "execution_count": 12,
   "metadata": {},
   "outputs": [
    {
     "data": {
      "text/plain": [
       "0       2023-09-06 18:10:01\n",
       "1       2023-04-02 23:09:10\n",
       "2       2023-08-09 08:07:32\n",
       "3       2023-08-13 11:20:40\n",
       "4       2023-03-23 13:34:47\n",
       "               ...         \n",
       "6872    2023-03-25 14:06:21\n",
       "6873    2023-04-03 01:56:51\n",
       "6874    2023-09-22 09:10:34\n",
       "6875    2023-03-17 19:56:31\n",
       "6876    2023-10-25 13:30:44\n",
       "Name: timestamp, Length: 6877, dtype: object"
      ]
     },
     "execution_count": 12,
     "metadata": {},
     "output_type": "execute_result"
    }
   ],
   "source": [
    "df_1_train[\"timestamp\"]"
   ]
  },
  {
   "cell_type": "code",
   "execution_count": 13,
   "metadata": {},
   "outputs": [],
   "source": [
    "#Parsear las fechas\n",
    "df_1_train[\"timestamp\"] = pd.to_datetime(df_1_train[\"timestamp\"])\n",
    "df_1_test[\"timestamp\"] = pd.to_datetime(df_1_train[\"timestamp\"])"
   ]
  },
  {
   "cell_type": "code",
   "execution_count": 14,
   "metadata": {},
   "outputs": [
    {
     "name": "stdout",
     "output_type": "stream",
     "text": [
      "2023-01-01 04:26:09 2023-10-28 06:51:17\n",
      "2023-01-01 05:01:47 2023-10-28 05:43:51\n"
     ]
    }
   ],
   "source": [
    "#Rango de fechas\n",
    "print(df_1_train[\"timestamp\"].min(), df_1_train[\"timestamp\"].max())\n",
    "print(df_1_test[\"timestamp\"].min(), df_1_test[\"timestamp\"].max())"
   ]
  },
  {
   "cell_type": "markdown",
   "metadata": {},
   "source": [
    "### 4.device_type ✅"
   ]
  },
  {
   "cell_type": "code",
   "execution_count": 15,
   "metadata": {},
   "outputs": [
    {
     "data": {
      "text/plain": [
       "array(['mobile', 'desktop', 'tablet'], dtype=object)"
      ]
     },
     "execution_count": 15,
     "metadata": {},
     "output_type": "execute_result"
    }
   ],
   "source": [
    "#¿Qué tipos hay?\n",
    "df_1_train[\"device_type\"].unique()"
   ]
  },
  {
   "cell_type": "markdown",
   "metadata": {},
   "source": [
    "mobile = 1\n",
    "desktop = 2\n",
    "tablet = 3"
   ]
  },
  {
   "cell_type": "code",
   "execution_count": 16,
   "metadata": {},
   "outputs": [],
   "source": [
    "#Crear un diccionario de mapeo\n",
    "device_type_map = {'mobile': 1, 'desktop': 2, 'tablet': 3}\n",
    "\n",
    "# Aplicar el mapeo en la columna 'device_type'\n",
    "df_1_train['device_type'] = df_1_train['device_type'].map(device_type_map)\n",
    "df_1_test['device_type'] = df_1_test['device_type'].map(device_type_map)"
   ]
  },
  {
   "cell_type": "code",
   "execution_count": 17,
   "metadata": {},
   "outputs": [
    {
     "data": {
      "text/plain": [
       "device_type\n",
       "3    2345\n",
       "1    2279\n",
       "2    2253\n",
       "Name: count, dtype: int64"
      ]
     },
     "execution_count": 17,
     "metadata": {},
     "output_type": "execute_result"
    }
   ],
   "source": [
    "#¿Cuantos tipos hay?\n",
    "df_1_train[\"device_type\"].value_counts()"
   ]
  },
  {
   "cell_type": "markdown",
   "metadata": {},
   "source": [
    "### 5.browser ✅"
   ]
  },
  {
   "cell_type": "code",
   "execution_count": 18,
   "metadata": {},
   "outputs": [
    {
     "data": {
      "text/plain": [
       "browser\n",
       "Edge       1782\n",
       "Chrome     1728\n",
       "Safari     1693\n",
       "Firefox    1674\n",
       "Name: count, dtype: int64"
      ]
     },
     "execution_count": 18,
     "metadata": {},
     "output_type": "execute_result"
    }
   ],
   "source": [
    "#df_1_train[\"browser\"].unique()\n",
    "df_1_train[\"browser\"].value_counts()"
   ]
  },
  {
   "cell_type": "code",
   "execution_count": 19,
   "metadata": {},
   "outputs": [],
   "source": [
    "#Crear un diccionario de mapeo\n",
    "device_type_map = {'Edge': 1, 'Chrome': 2, 'Safari': 3,'Firefox':4}\n",
    "\n",
    "# Aplicar el mapeo en la columna 'device_type'\n",
    "df_1_train['browser'] = df_1_train['browser'].map(device_type_map)\n",
    "df_1_test['browser'] = df_1_test['browser'].map(device_type_map)"
   ]
  },
  {
   "cell_type": "markdown",
   "metadata": {},
   "source": [
    "### 6.operating_system✅"
   ]
  },
  {
   "cell_type": "code",
   "execution_count": 20,
   "metadata": {},
   "outputs": [
    {
     "data": {
      "text/plain": [
       "operating_system\n",
       "iOS        1429\n",
       "macOS      1384\n",
       "Windows    1367\n",
       "Android    1360\n",
       "Linux      1337\n",
       "Name: count, dtype: int64"
      ]
     },
     "execution_count": 20,
     "metadata": {},
     "output_type": "execute_result"
    }
   ],
   "source": [
    "df_1_train[\"operating_system\"].value_counts()"
   ]
  },
  {
   "cell_type": "code",
   "execution_count": 21,
   "metadata": {},
   "outputs": [],
   "source": [
    "#Crear un diccionario de mapeo\n",
    "device_type_map = {'iOS': 1, 'macOS': 2, 'Windows': 3,'Android':4,'Linux':5}\n",
    "\n",
    "# Aplicar el mapeo en la columna 'device_type'\n",
    "df_1_train['operating_system'] = df_1_train['operating_system'].map(device_type_map)\n",
    "df_1_test['operating_system'] = df_1_test['operating_system'].map(device_type_map)"
   ]
  },
  {
   "cell_type": "markdown",
   "metadata": {},
   "source": [
    "### 7.ip_address✅"
   ]
  },
  {
   "cell_type": "code",
   "execution_count": 22,
   "metadata": {},
   "outputs": [
    {
     "data": {
      "text/plain": [
       "0      17.236.24.58\n",
       "1     92.110.53.157\n",
       "2      110.203.61.8\n",
       "3    190.106.161.28\n",
       "4      33.69.13.184\n",
       "Name: ip_address, dtype: object"
      ]
     },
     "execution_count": 22,
     "metadata": {},
     "output_type": "execute_result"
    }
   ],
   "source": [
    "df_1_train[\"ip_address\"].head()"
   ]
  },
  {
   "cell_type": "code",
   "execution_count": 23,
   "metadata": {},
   "outputs": [
    {
     "data": {
      "text/plain": [
       "Series([], Name: count, dtype: int64)"
      ]
     },
     "execution_count": 23,
     "metadata": {},
     "output_type": "execute_result"
    }
   ],
   "source": [
    "#Detección de fraude (No hay)\n",
    "ip_counts = df_1_train[\"ip_address\"].value_counts()\n",
    "ip_counts[ip_counts > 2]  "
   ]
  },
  {
   "cell_type": "markdown",
   "metadata": {},
   "source": [
    "### 8.country ✅"
   ]
  },
  {
   "cell_type": "code",
   "execution_count": 24,
   "metadata": {},
   "outputs": [
    {
     "data": {
      "text/plain": [
       "country\n",
       "Korea            57\n",
       "Congo            53\n",
       "Taiwan           46\n",
       "Faroe Islands    41\n",
       "Anguilla         40\n",
       "                 ..\n",
       "Guadeloupe       19\n",
       "Colombia         18\n",
       "Switzerland      17\n",
       "Saint Lucia      17\n",
       "Malaysia         15\n",
       "Name: count, Length: 243, dtype: int64"
      ]
     },
     "execution_count": 24,
     "metadata": {},
     "output_type": "execute_result"
    }
   ],
   "source": [
    "df_1_train[\"country\"].value_counts()"
   ]
  },
  {
   "cell_type": "markdown",
   "metadata": {},
   "source": [
    "### 9.search_query ✅"
   ]
  },
  {
   "cell_type": "code",
   "execution_count": 25,
   "metadata": {},
   "outputs": [
    {
     "data": {
      "text/plain": [
       "0                 Left myself writer decision plan few.\n",
       "1                       Prevent state action sure save.\n",
       "2                  Hear write edge you skill newspaper.\n",
       "3                     Thing standard teach same arrive.\n",
       "4       Choice hear stand avoid clear material nothing.\n",
       "                             ...                       \n",
       "6872                              Fire vote test later.\n",
       "6873          Wind reduce cold modern another push get.\n",
       "6874             Nation about alone heavy special rise.\n",
       "6875                         Task education source Mrs.\n",
       "6876              Reach mother ten add citizen example.\n",
       "Name: search_query, Length: 6877, dtype: object"
      ]
     },
     "execution_count": 25,
     "metadata": {},
     "output_type": "execute_result"
    }
   ],
   "source": [
    "df_1_train[\"search_query\"]"
   ]
  },
  {
   "cell_type": "code",
   "execution_count": 26,
   "metadata": {},
   "outputs": [
    {
     "name": "stdout",
     "output_type": "stream",
     "text": [
      "[('inside', 60), ('issue', 58), ('they', 57), ('safe', 57), ('sometimes', 56)]\n"
     ]
    }
   ],
   "source": [
    "#5 palabras más repetidas:\n",
    "from collections import Counter\n",
    "\n",
    "#Concatenamos todas las búsquedas en una sola cadena y contamos.\n",
    "\n",
    "all_queries = ' '.join(df_1_train[\"search_query\"].dropna())\n",
    "words = re.findall(r'\\w+', all_queries.lower())\n",
    "\n",
    "word_counts = Counter(words)\n",
    "\n",
    "print(word_counts.most_common(5))  "
   ]
  },
  {
   "cell_type": "markdown",
   "metadata": {},
   "source": [
    "### 10.page_views ✅"
   ]
  },
  {
   "cell_type": "code",
   "execution_count": 27,
   "metadata": {},
   "outputs": [
    {
     "data": {
      "text/plain": [
       "page_views\n",
       "8     917\n",
       "6     876\n",
       "9     872\n",
       "4     859\n",
       "10    854\n",
       "7     848\n",
       "3     829\n",
       "5     822\n",
       "Name: count, dtype: int64"
      ]
     },
     "execution_count": 27,
     "metadata": {},
     "output_type": "execute_result"
    }
   ],
   "source": [
    "df_1_train[\"page_views\"].value_counts()"
   ]
  },
  {
   "cell_type": "markdown",
   "metadata": {},
   "source": [
    "### 11.session_duration ✅"
   ]
  },
  {
   "cell_type": "code",
   "execution_count": 28,
   "metadata": {},
   "outputs": [
    {
     "data": {
      "text/plain": [
       "0        54\n",
       "1       255\n",
       "2       296\n",
       "3       217\n",
       "4       229\n",
       "       ... \n",
       "6872    121\n",
       "6873     27\n",
       "6874    183\n",
       "6875    159\n",
       "6876    291\n",
       "Name: session_duration, Length: 6877, dtype: int64"
      ]
     },
     "execution_count": 28,
     "metadata": {},
     "output_type": "execute_result"
    }
   ],
   "source": [
    "df_1_train[\"session_duration\"]"
   ]
  },
  {
   "cell_type": "code",
   "execution_count": 29,
   "metadata": {},
   "outputs": [
    {
     "name": "stdout",
     "output_type": "stream",
     "text": [
      "<class 'pandas.core.frame.DataFrame'>\n",
      "RangeIndex: 6877 entries, 0 to 6876\n",
      "Data columns (total 11 columns):\n",
      " #   Column            Non-Null Count  Dtype         \n",
      "---  ------            --------------  -----         \n",
      " 0   user_id           6877 non-null   object        \n",
      " 1   session_id        6877 non-null   object        \n",
      " 2   timestamp         6877 non-null   datetime64[ns]\n",
      " 3   device_type       6877 non-null   int64         \n",
      " 4   browser           6877 non-null   int64         \n",
      " 5   operating_system  6877 non-null   int64         \n",
      " 6   ip_address        6877 non-null   object        \n",
      " 7   country           6877 non-null   object        \n",
      " 8   search_query      6877 non-null   object        \n",
      " 9   page_views        6877 non-null   int64         \n",
      " 10  session_duration  6877 non-null   int64         \n",
      "dtypes: datetime64[ns](1), int64(5), object(5)\n",
      "memory usage: 591.1+ KB\n"
     ]
    }
   ],
   "source": [
    "df_1_train.info()"
   ]
  },
  {
   "cell_type": "markdown",
   "metadata": {},
   "source": [
    "# User_train 🚀🚀🚀"
   ]
  },
  {
   "cell_type": "code",
   "execution_count": 30,
   "metadata": {},
   "outputs": [
    {
     "data": {
      "text/html": [
       "<div>\n",
       "<style scoped>\n",
       "    .dataframe tbody tr th:only-of-type {\n",
       "        vertical-align: middle;\n",
       "    }\n",
       "\n",
       "    .dataframe tbody tr th {\n",
       "        vertical-align: top;\n",
       "    }\n",
       "\n",
       "    .dataframe thead th {\n",
       "        text-align: right;\n",
       "    }\n",
       "</style>\n",
       "<table border=\"1\" class=\"dataframe\">\n",
       "  <thead>\n",
       "    <tr style=\"text-align: right;\">\n",
       "      <th></th>\n",
       "      <th>user_id</th>\n",
       "      <th>age</th>\n",
       "      <th>abandoned_cart</th>\n",
       "      <th>user_category</th>\n",
       "      <th>marketing_target</th>\n",
       "    </tr>\n",
       "  </thead>\n",
       "  <tbody>\n",
       "    <tr>\n",
       "      <th>0</th>\n",
       "      <td>a806c313-9bc3-4c1b-bdc4-24e9b0cdec8e</td>\n",
       "      <td>28</td>\n",
       "      <td>False</td>\n",
       "      <td>premium_subscriber</td>\n",
       "      <td>1</td>\n",
       "    </tr>\n",
       "    <tr>\n",
       "      <th>1</th>\n",
       "      <td>c93cb31f-dab2-4d8f-b8de-ec5466b764c1</td>\n",
       "      <td>54</td>\n",
       "      <td>False</td>\n",
       "      <td>premium_subscriber</td>\n",
       "      <td>1</td>\n",
       "    </tr>\n",
       "    <tr>\n",
       "      <th>2</th>\n",
       "      <td>262c06e0-96d7-45bc-bbff-060bae8a6f52</td>\n",
       "      <td>23</td>\n",
       "      <td>True</td>\n",
       "      <td>premium_subscriber</td>\n",
       "      <td>1</td>\n",
       "    </tr>\n",
       "    <tr>\n",
       "      <th>3</th>\n",
       "      <td>3eb387fe-6afc-4e23-9e3c-26457d97e446</td>\n",
       "      <td>53</td>\n",
       "      <td>False</td>\n",
       "      <td>recurring_user</td>\n",
       "      <td>1</td>\n",
       "    </tr>\n",
       "    <tr>\n",
       "      <th>4</th>\n",
       "      <td>65596ffc-3bf1-4d45-8589-37bfce2f4d72</td>\n",
       "      <td>62</td>\n",
       "      <td>False</td>\n",
       "      <td>recurring_user</td>\n",
       "      <td>1</td>\n",
       "    </tr>\n",
       "  </tbody>\n",
       "</table>\n",
       "</div>"
      ],
      "text/plain": [
       "                                user_id  age  abandoned_cart  \\\n",
       "0  a806c313-9bc3-4c1b-bdc4-24e9b0cdec8e   28           False   \n",
       "1  c93cb31f-dab2-4d8f-b8de-ec5466b764c1   54           False   \n",
       "2  262c06e0-96d7-45bc-bbff-060bae8a6f52   23            True   \n",
       "3  3eb387fe-6afc-4e23-9e3c-26457d97e446   53           False   \n",
       "4  65596ffc-3bf1-4d45-8589-37bfce2f4d72   62           False   \n",
       "\n",
       "        user_category  marketing_target  \n",
       "0  premium_subscriber                 1  \n",
       "1  premium_subscriber                 1  \n",
       "2  premium_subscriber                 1  \n",
       "3      recurring_user                 1  \n",
       "4      recurring_user                 1  "
      ]
     },
     "execution_count": 30,
     "metadata": {},
     "output_type": "execute_result"
    }
   ],
   "source": [
    "df_2_train.head()"
   ]
  },
  {
   "cell_type": "code",
   "execution_count": 31,
   "metadata": {},
   "outputs": [
    {
     "data": {
      "text/html": [
       "<div>\n",
       "<style scoped>\n",
       "    .dataframe tbody tr th:only-of-type {\n",
       "        vertical-align: middle;\n",
       "    }\n",
       "\n",
       "    .dataframe tbody tr th {\n",
       "        vertical-align: top;\n",
       "    }\n",
       "\n",
       "    .dataframe thead th {\n",
       "        text-align: right;\n",
       "    }\n",
       "</style>\n",
       "<table border=\"1\" class=\"dataframe\">\n",
       "  <thead>\n",
       "    <tr style=\"text-align: right;\">\n",
       "      <th></th>\n",
       "      <th>user_id</th>\n",
       "      <th>age</th>\n",
       "      <th>abandoned_cart</th>\n",
       "      <th>user_category</th>\n",
       "      <th>marketing_target</th>\n",
       "    </tr>\n",
       "  </thead>\n",
       "  <tbody>\n",
       "    <tr>\n",
       "      <th>695</th>\n",
       "      <td>a258e7d2-4b66-42bb-8d2a-97a773a300c3</td>\n",
       "      <td>28</td>\n",
       "      <td>True</td>\n",
       "      <td>recurring_user</td>\n",
       "      <td>1</td>\n",
       "    </tr>\n",
       "    <tr>\n",
       "      <th>696</th>\n",
       "      <td>2f83ea3a-ef60-4273-acc9-e4c6bef2bde6</td>\n",
       "      <td>18</td>\n",
       "      <td>True</td>\n",
       "      <td>recurring_user</td>\n",
       "      <td>1</td>\n",
       "    </tr>\n",
       "    <tr>\n",
       "      <th>697</th>\n",
       "      <td>b3244cfa-2778-4f64-9c46-9009627e055e</td>\n",
       "      <td>44</td>\n",
       "      <td>False</td>\n",
       "      <td>new_user</td>\n",
       "      <td>3</td>\n",
       "    </tr>\n",
       "    <tr>\n",
       "      <th>698</th>\n",
       "      <td>8fa470c4-54a4-4265-aace-8c1f72ee3d77</td>\n",
       "      <td>40</td>\n",
       "      <td>False</td>\n",
       "      <td>new_user</td>\n",
       "      <td>3</td>\n",
       "    </tr>\n",
       "    <tr>\n",
       "      <th>699</th>\n",
       "      <td>d25667f3-471b-45d5-9398-dd0164e82ded</td>\n",
       "      <td>36</td>\n",
       "      <td>True</td>\n",
       "      <td>recurring_user</td>\n",
       "      <td>2</td>\n",
       "    </tr>\n",
       "  </tbody>\n",
       "</table>\n",
       "</div>"
      ],
      "text/plain": [
       "                                  user_id  age  abandoned_cart  \\\n",
       "695  a258e7d2-4b66-42bb-8d2a-97a773a300c3   28            True   \n",
       "696  2f83ea3a-ef60-4273-acc9-e4c6bef2bde6   18            True   \n",
       "697  b3244cfa-2778-4f64-9c46-9009627e055e   44           False   \n",
       "698  8fa470c4-54a4-4265-aace-8c1f72ee3d77   40           False   \n",
       "699  d25667f3-471b-45d5-9398-dd0164e82ded   36            True   \n",
       "\n",
       "      user_category  marketing_target  \n",
       "695  recurring_user                 1  \n",
       "696  recurring_user                 1  \n",
       "697        new_user                 3  \n",
       "698        new_user                 3  \n",
       "699  recurring_user                 2  "
      ]
     },
     "execution_count": 31,
     "metadata": {},
     "output_type": "execute_result"
    }
   ],
   "source": [
    "df_2_train.tail()"
   ]
  },
  {
   "cell_type": "code",
   "execution_count": 32,
   "metadata": {},
   "outputs": [
    {
     "name": "stdout",
     "output_type": "stream",
     "text": [
      "<class 'pandas.core.frame.DataFrame'>\n",
      "RangeIndex: 700 entries, 0 to 699\n",
      "Data columns (total 5 columns):\n",
      " #   Column            Non-Null Count  Dtype \n",
      "---  ------            --------------  ----- \n",
      " 0   user_id           700 non-null    object\n",
      " 1   age               700 non-null    int64 \n",
      " 2   abandoned_cart    700 non-null    bool  \n",
      " 3   user_category     700 non-null    object\n",
      " 4   marketing_target  700 non-null    int64 \n",
      "dtypes: bool(1), int64(2), object(2)\n",
      "memory usage: 22.7+ KB\n"
     ]
    }
   ],
   "source": [
    "df_2_train.info()"
   ]
  },
  {
   "cell_type": "markdown",
   "metadata": {},
   "source": [
    "### 0.user_id (se relaciona con el otro dataset)🚀"
   ]
  },
  {
   "cell_type": "markdown",
   "metadata": {},
   "source": [
    "### 1.age 🚀"
   ]
  },
  {
   "cell_type": "code",
   "execution_count": 33,
   "metadata": {},
   "outputs": [
    {
     "name": "stdout",
     "output_type": "stream",
     "text": [
      "18 70\n"
     ]
    }
   ],
   "source": [
    "print(df_2_train[\"age\"].min(),df_2_train[\"age\"].max())"
   ]
  },
  {
   "cell_type": "code",
   "execution_count": 34,
   "metadata": {},
   "outputs": [
    {
     "data": {
      "text/plain": [
       "age\n",
       "23    20\n",
       "40    19\n",
       "54    19\n",
       "27    18\n",
       "44    18\n",
       "Name: count, dtype: int64"
      ]
     },
     "execution_count": 34,
     "metadata": {},
     "output_type": "execute_result"
    }
   ],
   "source": [
    "df_2_train[\"age\"].value_counts().head()"
   ]
  },
  {
   "cell_type": "markdown",
   "metadata": {},
   "source": [
    "### 2.abandoned_cart 🚀"
   ]
  },
  {
   "cell_type": "code",
   "execution_count": 35,
   "metadata": {},
   "outputs": [
    {
     "data": {
      "text/plain": [
       "abandoned_cart\n",
       "False    362\n",
       "True     338\n",
       "Name: count, dtype: int64"
      ]
     },
     "execution_count": 35,
     "metadata": {},
     "output_type": "execute_result"
    }
   ],
   "source": [
    "df_2_train[\"abandoned_cart\"].value_counts()"
   ]
  },
  {
   "cell_type": "markdown",
   "metadata": {},
   "source": [
    "### 3.user_category 🚀"
   ]
  },
  {
   "cell_type": "code",
   "execution_count": 36,
   "metadata": {},
   "outputs": [
    {
     "data": {
      "text/plain": [
       "user_category\n",
       "premium_subscriber    245\n",
       "new_user              233\n",
       "recurring_user        222\n",
       "Name: count, dtype: int64"
      ]
     },
     "execution_count": 36,
     "metadata": {},
     "output_type": "execute_result"
    }
   ],
   "source": [
    "df_2_train[\"user_category\"].value_counts()"
   ]
  },
  {
   "cell_type": "markdown",
   "metadata": {},
   "source": [
    "### 4.Variable objetivo = \"Marketing_target\" 🚀\n",
    "- Está desbalanceada"
   ]
  },
  {
   "cell_type": "code",
   "execution_count": 37,
   "metadata": {},
   "outputs": [
    {
     "data": {
      "text/plain": [
       "marketing_target\n",
       "1    531\n",
       "2    103\n",
       "3     66\n",
       "Name: count, dtype: int64"
      ]
     },
     "execution_count": 37,
     "metadata": {},
     "output_type": "execute_result"
    }
   ],
   "source": [
    "df_2_train[\"marketing_target\"].value_counts()"
   ]
  },
  {
   "cell_type": "markdown",
   "metadata": {},
   "source": [
    "# Feature Engineering"
   ]
  },
  {
   "cell_type": "markdown",
   "metadata": {},
   "source": [
    "## session_train"
   ]
  },
  {
   "cell_type": "code",
   "execution_count": 38,
   "metadata": {},
   "outputs": [],
   "source": [
    "#Cantidad de sesiones por usario (1)\n",
    "df_1_train['user_session_count'] = df_1_train.groupby('user_id')['session_id'].transform('count')\n",
    "df_1_test['user_session_count'] = df_1_test.groupby('user_id')['session_id'].transform('count')"
   ]
  },
  {
   "cell_type": "code",
   "execution_count": 39,
   "metadata": {},
   "outputs": [],
   "source": [
    "#Frecuencia de visitas por usuario: (2)  \n",
    "df_1_train['user_visit_frequency'] = df_1_train.groupby('user_id')['timestamp'].transform('count')\n",
    "df_1_test['user_visit_frequency'] = df_1_test.groupby('user_id')['timestamp'].transform('count')"
   ]
  },
  {
   "cell_type": "code",
   "execution_count": 40,
   "metadata": {},
   "outputs": [],
   "source": [
    "#Duración media de sesión por usuario: (2)   \n",
    "df_1_train['avg_session_duration_per_user'] = df_1_train.groupby('user_id')['session_duration'].transform('mean')\n",
    "df_1_test['avg_session_duration_per_user'] = df_1_test.groupby('user_id')['session_duration'].transform('mean')"
   ]
  },
  {
   "cell_type": "code",
   "execution_count": 41,
   "metadata": {},
   "outputs": [],
   "source": [
    "#Hora del dia: (3)  \n",
    "df_1_train['session_hour'] = df_1_train['timestamp'].dt.hour\n",
    "df_1_test['session_hour'] = df_1_test['timestamp'].dt.hour\n",
    "\n",
    "#Día de la semana:   \n",
    "df_1_train['session_day_of_week'] = df_1_train['timestamp'].dt.dayofweek\n",
    "df_1_test['session_day_of_week'] = df_1_test['timestamp'].dt.dayofweek\n",
    "\n",
    "#Fecha:    \n",
    "df_1_train['session_date'] = pd.to_datetime(df_1_train['timestamp'].dt.date)\n",
    "df_1_test['session_date'] = pd.to_datetime(df_1_test['timestamp'].dt.date)\n",
    "\n",
    "#Sesiones largas o sesines cortas:   \n",
    "mean_duration = df_1_train['session_duration'].mean()\n",
    "df_1_train['long_session'] = df_1_train['session_duration'] > mean_duration\n",
    "\n",
    "mean_duration_1 = df_1_test['session_duration'].mean()\n",
    "df_1_test['long_session'] = df_1_test['session_duration'] > mean_duration_1\n",
    "\n"
   ]
  },
  {
   "cell_type": "code",
   "execution_count": 42,
   "metadata": {},
   "outputs": [],
   "source": [
    "#Longitud de la búsqueda: (8)   \n",
    "df_1_train['search_query_length'] = df_1_train['search_query'].apply(len)\n",
    "df_1_test['search_query_length'] = df_1_test['search_query'].apply(len)"
   ]
  },
  {
   "cell_type": "code",
   "execution_count": 43,
   "metadata": {},
   "outputs": [],
   "source": [
    "#Promedio de páginas vistas por usuario: (9)\n",
    "df_1_train['avg_page_views_per_user'] = df_1_train.groupby('user_id')['page_views'].transform('mean')  \n",
    "df_1_test['avg_page_views_per_user'] = df_1_test.groupby('user_id')['page_views'].transform('mean')  "
   ]
  },
  {
   "cell_type": "markdown",
   "metadata": {},
   "source": [
    "De 0 a 60 segundos (muy corta) = 1   \n",
    "De 60 a 120 segundos (corta) = 2   \n",
    "De 120 a 180 segundos (media) = 3   \n",
    "De 180 a 240 segundos (larga) = 4   \n",
    "De 240 a 300 segundos (muy larga) = 5   "
   ]
  },
  {
   "cell_type": "code",
   "execution_count": 44,
   "metadata": {},
   "outputs": [],
   "source": [
    "#Definir los intervalos para la duración de la sesión\n",
    "bins = [0, 60, 120, 180, 240, 300]  \n",
    "labels = [1, 2, 3, 4, 5]  \n",
    "\n",
    "#Crear una nueva columna 'session_duration_group' con las categorías numéricas\n",
    "df_1_train['session_duration_group'] = pd.cut(df_1_train['session_duration'], bins=bins, labels=labels, right=True)\n",
    "df_1_test['session_duration_group'] = pd.cut(df_1_test['session_duration'], bins=bins, labels=labels, right=True)\n",
    "\n",
    "#Convertir la columna a tipo int\n",
    "df_1_train['session_duration_group'] = df_1_train['session_duration_group'].astype(int)\n",
    "df_1_test['session_duration_group'] = df_1_test['session_duration_group'].astype(int)"
   ]
  },
  {
   "cell_type": "code",
   "execution_count": 45,
   "metadata": {},
   "outputs": [
    {
     "name": "stdout",
     "output_type": "stream",
     "text": [
      "<class 'pandas.core.frame.DataFrame'>\n",
      "RangeIndex: 6877 entries, 0 to 6876\n",
      "Data columns (total 21 columns):\n",
      " #   Column                         Non-Null Count  Dtype         \n",
      "---  ------                         --------------  -----         \n",
      " 0   user_id                        6877 non-null   object        \n",
      " 1   session_id                     6877 non-null   object        \n",
      " 2   timestamp                      6877 non-null   datetime64[ns]\n",
      " 3   device_type                    6877 non-null   int64         \n",
      " 4   browser                        6877 non-null   int64         \n",
      " 5   operating_system               6877 non-null   int64         \n",
      " 6   ip_address                     6877 non-null   object        \n",
      " 7   country                        6877 non-null   object        \n",
      " 8   search_query                   6877 non-null   object        \n",
      " 9   page_views                     6877 non-null   int64         \n",
      " 10  session_duration               6877 non-null   int64         \n",
      " 11  user_session_count             6877 non-null   int64         \n",
      " 12  user_visit_frequency           6877 non-null   int64         \n",
      " 13  avg_session_duration_per_user  6877 non-null   float64       \n",
      " 14  session_hour                   6877 non-null   int32         \n",
      " 15  session_day_of_week            6877 non-null   int32         \n",
      " 16  session_date                   6877 non-null   datetime64[ns]\n",
      " 17  long_session                   6877 non-null   bool          \n",
      " 18  search_query_length            6877 non-null   int64         \n",
      " 19  avg_page_views_per_user        6877 non-null   float64       \n",
      " 20  session_duration_group         6877 non-null   int32         \n",
      "dtypes: bool(1), datetime64[ns](2), float64(2), int32(3), int64(8), object(5)\n",
      "memory usage: 1000.8+ KB\n"
     ]
    }
   ],
   "source": [
    "df_1_train.info()"
   ]
  },
  {
   "cell_type": "markdown",
   "metadata": {},
   "source": [
    "# user_train"
   ]
  },
  {
   "cell_type": "code",
   "execution_count": 46,
   "metadata": {},
   "outputs": [
    {
     "name": "stdout",
     "output_type": "stream",
     "text": [
      "<class 'pandas.core.frame.DataFrame'>\n",
      "RangeIndex: 700 entries, 0 to 699\n",
      "Data columns (total 5 columns):\n",
      " #   Column            Non-Null Count  Dtype \n",
      "---  ------            --------------  ----- \n",
      " 0   user_id           700 non-null    object\n",
      " 1   age               700 non-null    int64 \n",
      " 2   abandoned_cart    700 non-null    bool  \n",
      " 3   user_category     700 non-null    object\n",
      " 4   marketing_target  700 non-null    int64 \n",
      "dtypes: bool(1), int64(2), object(2)\n",
      "memory usage: 22.7+ KB\n"
     ]
    }
   ],
   "source": [
    "user_train.info()"
   ]
  },
  {
   "cell_type": "code",
   "execution_count": 47,
   "metadata": {},
   "outputs": [
    {
     "name": "stdout",
     "output_type": "stream",
     "text": [
      "age_group\n",
      "3    206\n",
      "2    197\n",
      "4    189\n",
      "1    108\n",
      "Name: count, dtype: int64\n"
     ]
    }
   ],
   "source": [
    "#Definir rangos (1)\n",
    "bins = [0, 25, 40, 55, 70]  \n",
    "labels = [1, 2, 3, 4]       \n",
    "\n",
    "# Crear la nueva columna 'age_group'\n",
    "df_2_train['age_group'] = pd.cut(df_2_train['age'], bins=bins, labels=labels, right=True).astype(int)\n",
    "df_2_test['age_group'] = pd.cut(df_2_test['age'], bins=bins, labels=labels, right=True).astype(int)\n",
    "\n",
    "# Verificar los grupos creados\n",
    "print(df_2_train['age_group'].value_counts())\n",
    "\n"
   ]
  },
  {
   "cell_type": "code",
   "execution_count": 48,
   "metadata": {},
   "outputs": [
    {
     "data": {
      "text/plain": [
       "user_category\n",
       "premium_subscriber    245\n",
       "new_user              233\n",
       "recurring_user        222\n",
       "Name: count, dtype: int64"
      ]
     },
     "execution_count": 48,
     "metadata": {},
     "output_type": "execute_result"
    }
   ],
   "source": [
    "df_2_train[\"user_category\"].value_counts()"
   ]
  },
  {
   "cell_type": "code",
   "execution_count": 49,
   "metadata": {},
   "outputs": [
    {
     "data": {
      "text/plain": [
       "0      False\n",
       "1      False\n",
       "2       True\n",
       "3      False\n",
       "4      False\n",
       "       ...  \n",
       "695     True\n",
       "696     True\n",
       "697    False\n",
       "698    False\n",
       "699     True\n",
       "Name: abandoned_cart, Length: 700, dtype: bool"
      ]
     },
     "execution_count": 49,
     "metadata": {},
     "output_type": "execute_result"
    }
   ],
   "source": [
    "df_2_train[\"abandoned_cart\"]"
   ]
  },
  {
   "cell_type": "code",
   "execution_count": 50,
   "metadata": {},
   "outputs": [
    {
     "data": {
      "text/plain": [
       "user_category\n",
       "premium_subscriber    245\n",
       "new_user              233\n",
       "recurring_user        222\n",
       "Name: count, dtype: int64"
      ]
     },
     "execution_count": 50,
     "metadata": {},
     "output_type": "execute_result"
    }
   ],
   "source": [
    "df_2_train[\"user_category\"].value_counts()"
   ]
  },
  {
   "cell_type": "code",
   "execution_count": 51,
   "metadata": {},
   "outputs": [],
   "source": [
    "#Crear un diccionario de mapeo (3)\n",
    "category = {'premium_subscriber': 1, 'new_user': 2, 'recurring_user': 3}\n",
    "\n",
    "# Aplicar el mapeo en la columna 'device_type'\n",
    "df_2_train['user_category'] = df_2_train['user_category'].map(category)\n",
    "df_2_test['user_category'] = df_2_test['user_category'].map(category)"
   ]
  },
  {
   "cell_type": "code",
   "execution_count": 52,
   "metadata": {},
   "outputs": [
    {
     "name": "stdout",
     "output_type": "stream",
     "text": [
      "<class 'pandas.core.frame.DataFrame'>\n",
      "RangeIndex: 700 entries, 0 to 699\n",
      "Data columns (total 6 columns):\n",
      " #   Column            Non-Null Count  Dtype \n",
      "---  ------            --------------  ----- \n",
      " 0   user_id           700 non-null    object\n",
      " 1   age               700 non-null    int64 \n",
      " 2   abandoned_cart    700 non-null    bool  \n",
      " 3   user_category     700 non-null    int64 \n",
      " 4   marketing_target  700 non-null    int64 \n",
      " 5   age_group         700 non-null    int32 \n",
      "dtypes: bool(1), int32(1), int64(3), object(1)\n",
      "memory usage: 25.4+ KB\n"
     ]
    }
   ],
   "source": [
    "df_2_train.info()"
   ]
  },
  {
   "cell_type": "code",
   "execution_count": 53,
   "metadata": {},
   "outputs": [
    {
     "name": "stdout",
     "output_type": "stream",
     "text": [
      "<class 'pandas.core.frame.DataFrame'>\n",
      "RangeIndex: 6877 entries, 0 to 6876\n",
      "Data columns (total 21 columns):\n",
      " #   Column                         Non-Null Count  Dtype         \n",
      "---  ------                         --------------  -----         \n",
      " 0   user_id                        6877 non-null   object        \n",
      " 1   session_id                     6877 non-null   object        \n",
      " 2   timestamp                      6877 non-null   datetime64[ns]\n",
      " 3   device_type                    6877 non-null   int64         \n",
      " 4   browser                        6877 non-null   int64         \n",
      " 5   operating_system               6877 non-null   int64         \n",
      " 6   ip_address                     6877 non-null   object        \n",
      " 7   country                        6877 non-null   object        \n",
      " 8   search_query                   6877 non-null   object        \n",
      " 9   page_views                     6877 non-null   int64         \n",
      " 10  session_duration               6877 non-null   int64         \n",
      " 11  user_session_count             6877 non-null   int64         \n",
      " 12  user_visit_frequency           6877 non-null   int64         \n",
      " 13  avg_session_duration_per_user  6877 non-null   float64       \n",
      " 14  session_hour                   6877 non-null   int32         \n",
      " 15  session_day_of_week            6877 non-null   int32         \n",
      " 16  session_date                   6877 non-null   datetime64[ns]\n",
      " 17  long_session                   6877 non-null   bool          \n",
      " 18  search_query_length            6877 non-null   int64         \n",
      " 19  avg_page_views_per_user        6877 non-null   float64       \n",
      " 20  session_duration_group         6877 non-null   int32         \n",
      "dtypes: bool(1), datetime64[ns](2), float64(2), int32(3), int64(8), object(5)\n",
      "memory usage: 1000.8+ KB\n"
     ]
    }
   ],
   "source": [
    "df_1_train.info()"
   ]
  },
  {
   "cell_type": "markdown",
   "metadata": {},
   "source": [
    "# Juntamos ambos datasets por user_id\n"
   ]
  },
  {
   "cell_type": "code",
   "execution_count": 54,
   "metadata": {},
   "outputs": [],
   "source": [
    "df_3_train = pd.merge(df_1_train, df_2_train, on='user_id', how='left')\n",
    "df_3_test = pd.merge(df_1_test, df_2_test, on='user_id', how='left')"
   ]
  },
  {
   "cell_type": "code",
   "execution_count": 55,
   "metadata": {},
   "outputs": [
    {
     "name": "stdout",
     "output_type": "stream",
     "text": [
      "<class 'pandas.core.frame.DataFrame'>\n",
      "RangeIndex: 6877 entries, 0 to 6876\n",
      "Data columns (total 26 columns):\n",
      " #   Column                         Non-Null Count  Dtype         \n",
      "---  ------                         --------------  -----         \n",
      " 0   user_id                        6877 non-null   object        \n",
      " 1   session_id                     6877 non-null   object        \n",
      " 2   timestamp                      6877 non-null   datetime64[ns]\n",
      " 3   device_type                    6877 non-null   int64         \n",
      " 4   browser                        6877 non-null   int64         \n",
      " 5   operating_system               6877 non-null   int64         \n",
      " 6   ip_address                     6877 non-null   object        \n",
      " 7   country                        6877 non-null   object        \n",
      " 8   search_query                   6877 non-null   object        \n",
      " 9   page_views                     6877 non-null   int64         \n",
      " 10  session_duration               6877 non-null   int64         \n",
      " 11  user_session_count             6877 non-null   int64         \n",
      " 12  user_visit_frequency           6877 non-null   int64         \n",
      " 13  avg_session_duration_per_user  6877 non-null   float64       \n",
      " 14  session_hour                   6877 non-null   int32         \n",
      " 15  session_day_of_week            6877 non-null   int32         \n",
      " 16  session_date                   6877 non-null   datetime64[ns]\n",
      " 17  long_session                   6877 non-null   bool          \n",
      " 18  search_query_length            6877 non-null   int64         \n",
      " 19  avg_page_views_per_user        6877 non-null   float64       \n",
      " 20  session_duration_group         6877 non-null   int32         \n",
      " 21  age                            6877 non-null   int64         \n",
      " 22  abandoned_cart                 6877 non-null   bool          \n",
      " 23  user_category                  6877 non-null   int64         \n",
      " 24  marketing_target               6877 non-null   int64         \n",
      " 25  age_group                      6877 non-null   int32         \n",
      "dtypes: bool(2), datetime64[ns](2), float64(2), int32(4), int64(11), object(5)\n",
      "memory usage: 1.2+ MB\n"
     ]
    }
   ],
   "source": [
    "df_3_train.info()"
   ]
  },
  {
   "cell_type": "code",
   "execution_count": 56,
   "metadata": {},
   "outputs": [
    {
     "name": "stdout",
     "output_type": "stream",
     "text": [
      "<class 'pandas.core.frame.DataFrame'>\n",
      "RangeIndex: 3026 entries, 0 to 3025\n",
      "Data columns (total 26 columns):\n",
      " #   Column                         Non-Null Count  Dtype         \n",
      "---  ------                         --------------  -----         \n",
      " 0   user_id                        3026 non-null   object        \n",
      " 1   session_id                     3026 non-null   object        \n",
      " 2   timestamp                      3026 non-null   datetime64[ns]\n",
      " 3   device_type                    3026 non-null   int64         \n",
      " 4   browser                        3026 non-null   int64         \n",
      " 5   operating_system               3026 non-null   int64         \n",
      " 6   ip_address                     3026 non-null   object        \n",
      " 7   country                        3026 non-null   object        \n",
      " 8   search_query                   3026 non-null   object        \n",
      " 9   page_views                     3026 non-null   int64         \n",
      " 10  session_duration               3026 non-null   int64         \n",
      " 11  user_session_count             3026 non-null   int64         \n",
      " 12  user_visit_frequency           3026 non-null   int64         \n",
      " 13  avg_session_duration_per_user  3026 non-null   float64       \n",
      " 14  session_hour                   3026 non-null   int32         \n",
      " 15  session_day_of_week            3026 non-null   int32         \n",
      " 16  session_date                   3026 non-null   datetime64[ns]\n",
      " 17  long_session                   3026 non-null   bool          \n",
      " 18  search_query_length            3026 non-null   int64         \n",
      " 19  avg_page_views_per_user        3026 non-null   float64       \n",
      " 20  session_duration_group         3026 non-null   int32         \n",
      " 21  age                            3026 non-null   int64         \n",
      " 22  abandoned_cart                 3026 non-null   bool          \n",
      " 23  user_category                  3026 non-null   int64         \n",
      " 24  test_id                        3026 non-null   int64         \n",
      " 25  age_group                      3026 non-null   int32         \n",
      "dtypes: bool(2), datetime64[ns](2), float64(2), int32(4), int64(11), object(5)\n",
      "memory usage: 526.1+ KB\n"
     ]
    }
   ],
   "source": [
    "df_3_test.info()"
   ]
  },
  {
   "cell_type": "code",
   "execution_count": 57,
   "metadata": {},
   "outputs": [
    {
     "name": "stdout",
     "output_type": "stream",
     "text": [
      "21\n",
      "6\n",
      "26\n"
     ]
    }
   ],
   "source": [
    "print(len(df_1_train.columns))\n",
    "print(len(df_2_train.columns))\n",
    "print(len(df_3_train.columns))"
   ]
  },
  {
   "cell_type": "code",
   "execution_count": 58,
   "metadata": {},
   "outputs": [
    {
     "data": {
      "text/html": [
       "<div>\n",
       "<style scoped>\n",
       "    .dataframe tbody tr th:only-of-type {\n",
       "        vertical-align: middle;\n",
       "    }\n",
       "\n",
       "    .dataframe tbody tr th {\n",
       "        vertical-align: top;\n",
       "    }\n",
       "\n",
       "    .dataframe thead th {\n",
       "        text-align: right;\n",
       "    }\n",
       "</style>\n",
       "<table border=\"1\" class=\"dataframe\">\n",
       "  <thead>\n",
       "    <tr style=\"text-align: right;\">\n",
       "      <th></th>\n",
       "      <th>user_id</th>\n",
       "      <th>session_id</th>\n",
       "      <th>timestamp</th>\n",
       "      <th>device_type</th>\n",
       "      <th>browser</th>\n",
       "      <th>operating_system</th>\n",
       "      <th>ip_address</th>\n",
       "      <th>country</th>\n",
       "      <th>search_query</th>\n",
       "      <th>page_views</th>\n",
       "      <th>...</th>\n",
       "      <th>session_date</th>\n",
       "      <th>long_session</th>\n",
       "      <th>search_query_length</th>\n",
       "      <th>avg_page_views_per_user</th>\n",
       "      <th>session_duration_group</th>\n",
       "      <th>age</th>\n",
       "      <th>abandoned_cart</th>\n",
       "      <th>user_category</th>\n",
       "      <th>marketing_target</th>\n",
       "      <th>age_group</th>\n",
       "    </tr>\n",
       "  </thead>\n",
       "  <tbody>\n",
       "    <tr>\n",
       "      <th>0</th>\n",
       "      <td>64ec8ab8-a6f5-491f-8c1a-e6cd28f4471b</td>\n",
       "      <td>0b98d388-87f7-4202-b2ab-b63cb7aea9bc</td>\n",
       "      <td>2023-09-06 18:10:01</td>\n",
       "      <td>1</td>\n",
       "      <td>4</td>\n",
       "      <td>1</td>\n",
       "      <td>17.236.24.58</td>\n",
       "      <td>Saudi Arabia</td>\n",
       "      <td>Left myself writer decision plan few.</td>\n",
       "      <td>8</td>\n",
       "      <td>...</td>\n",
       "      <td>2023-09-06</td>\n",
       "      <td>False</td>\n",
       "      <td>37</td>\n",
       "      <td>7.0</td>\n",
       "      <td>1</td>\n",
       "      <td>32</td>\n",
       "      <td>False</td>\n",
       "      <td>2</td>\n",
       "      <td>2</td>\n",
       "      <td>2</td>\n",
       "    </tr>\n",
       "    <tr>\n",
       "      <th>1</th>\n",
       "      <td>64ec8ab8-a6f5-491f-8c1a-e6cd28f4471b</td>\n",
       "      <td>fb626371-21a7-453b-a9ff-67a7a53ac19c</td>\n",
       "      <td>2023-04-02 23:09:10</td>\n",
       "      <td>2</td>\n",
       "      <td>1</td>\n",
       "      <td>5</td>\n",
       "      <td>92.110.53.157</td>\n",
       "      <td>Eritrea</td>\n",
       "      <td>Prevent state action sure save.</td>\n",
       "      <td>9</td>\n",
       "      <td>...</td>\n",
       "      <td>2023-04-02</td>\n",
       "      <td>True</td>\n",
       "      <td>31</td>\n",
       "      <td>7.0</td>\n",
       "      <td>5</td>\n",
       "      <td>32</td>\n",
       "      <td>False</td>\n",
       "      <td>2</td>\n",
       "      <td>2</td>\n",
       "      <td>2</td>\n",
       "    </tr>\n",
       "    <tr>\n",
       "      <th>2</th>\n",
       "      <td>64ec8ab8-a6f5-491f-8c1a-e6cd28f4471b</td>\n",
       "      <td>b51b4fa7-a79a-44fc-bf41-3b6079d676fb</td>\n",
       "      <td>2023-08-09 08:07:32</td>\n",
       "      <td>1</td>\n",
       "      <td>4</td>\n",
       "      <td>3</td>\n",
       "      <td>110.203.61.8</td>\n",
       "      <td>Mali</td>\n",
       "      <td>Hear write edge you skill newspaper.</td>\n",
       "      <td>3</td>\n",
       "      <td>...</td>\n",
       "      <td>2023-08-09</td>\n",
       "      <td>True</td>\n",
       "      <td>36</td>\n",
       "      <td>7.0</td>\n",
       "      <td>5</td>\n",
       "      <td>32</td>\n",
       "      <td>False</td>\n",
       "      <td>2</td>\n",
       "      <td>2</td>\n",
       "      <td>2</td>\n",
       "    </tr>\n",
       "    <tr>\n",
       "      <th>3</th>\n",
       "      <td>64ec8ab8-a6f5-491f-8c1a-e6cd28f4471b</td>\n",
       "      <td>41ca9c65-c0f4-47fa-ad36-6652e3bc59a6</td>\n",
       "      <td>2023-08-13 11:20:40</td>\n",
       "      <td>3</td>\n",
       "      <td>1</td>\n",
       "      <td>1</td>\n",
       "      <td>190.106.161.28</td>\n",
       "      <td>Barbados</td>\n",
       "      <td>Thing standard teach same arrive.</td>\n",
       "      <td>8</td>\n",
       "      <td>...</td>\n",
       "      <td>2023-08-13</td>\n",
       "      <td>True</td>\n",
       "      <td>33</td>\n",
       "      <td>7.0</td>\n",
       "      <td>4</td>\n",
       "      <td>32</td>\n",
       "      <td>False</td>\n",
       "      <td>2</td>\n",
       "      <td>2</td>\n",
       "      <td>2</td>\n",
       "    </tr>\n",
       "    <tr>\n",
       "      <th>4</th>\n",
       "      <td>64ec8ab8-a6f5-491f-8c1a-e6cd28f4471b</td>\n",
       "      <td>5f90aa6e-2395-4eba-919a-cc27c9fa1eac</td>\n",
       "      <td>2023-03-23 13:34:47</td>\n",
       "      <td>2</td>\n",
       "      <td>1</td>\n",
       "      <td>1</td>\n",
       "      <td>33.69.13.184</td>\n",
       "      <td>San Marino</td>\n",
       "      <td>Choice hear stand avoid clear material nothing.</td>\n",
       "      <td>9</td>\n",
       "      <td>...</td>\n",
       "      <td>2023-03-23</td>\n",
       "      <td>True</td>\n",
       "      <td>47</td>\n",
       "      <td>7.0</td>\n",
       "      <td>4</td>\n",
       "      <td>32</td>\n",
       "      <td>False</td>\n",
       "      <td>2</td>\n",
       "      <td>2</td>\n",
       "      <td>2</td>\n",
       "    </tr>\n",
       "  </tbody>\n",
       "</table>\n",
       "<p>5 rows × 26 columns</p>\n",
       "</div>"
      ],
      "text/plain": [
       "                                user_id                            session_id  \\\n",
       "0  64ec8ab8-a6f5-491f-8c1a-e6cd28f4471b  0b98d388-87f7-4202-b2ab-b63cb7aea9bc   \n",
       "1  64ec8ab8-a6f5-491f-8c1a-e6cd28f4471b  fb626371-21a7-453b-a9ff-67a7a53ac19c   \n",
       "2  64ec8ab8-a6f5-491f-8c1a-e6cd28f4471b  b51b4fa7-a79a-44fc-bf41-3b6079d676fb   \n",
       "3  64ec8ab8-a6f5-491f-8c1a-e6cd28f4471b  41ca9c65-c0f4-47fa-ad36-6652e3bc59a6   \n",
       "4  64ec8ab8-a6f5-491f-8c1a-e6cd28f4471b  5f90aa6e-2395-4eba-919a-cc27c9fa1eac   \n",
       "\n",
       "            timestamp  device_type  browser  operating_system      ip_address  \\\n",
       "0 2023-09-06 18:10:01            1        4                 1    17.236.24.58   \n",
       "1 2023-04-02 23:09:10            2        1                 5   92.110.53.157   \n",
       "2 2023-08-09 08:07:32            1        4                 3    110.203.61.8   \n",
       "3 2023-08-13 11:20:40            3        1                 1  190.106.161.28   \n",
       "4 2023-03-23 13:34:47            2        1                 1    33.69.13.184   \n",
       "\n",
       "        country                                     search_query  page_views  \\\n",
       "0  Saudi Arabia            Left myself writer decision plan few.           8   \n",
       "1       Eritrea                  Prevent state action sure save.           9   \n",
       "2          Mali             Hear write edge you skill newspaper.           3   \n",
       "3      Barbados                Thing standard teach same arrive.           8   \n",
       "4    San Marino  Choice hear stand avoid clear material nothing.           9   \n",
       "\n",
       "   ...  session_date  long_session  search_query_length  \\\n",
       "0  ...    2023-09-06         False                   37   \n",
       "1  ...    2023-04-02          True                   31   \n",
       "2  ...    2023-08-09          True                   36   \n",
       "3  ...    2023-08-13          True                   33   \n",
       "4  ...    2023-03-23          True                   47   \n",
       "\n",
       "   avg_page_views_per_user  session_duration_group  age abandoned_cart  \\\n",
       "0                      7.0                       1   32          False   \n",
       "1                      7.0                       5   32          False   \n",
       "2                      7.0                       5   32          False   \n",
       "3                      7.0                       4   32          False   \n",
       "4                      7.0                       4   32          False   \n",
       "\n",
       "   user_category  marketing_target  age_group  \n",
       "0              2                 2          2  \n",
       "1              2                 2          2  \n",
       "2              2                 2          2  \n",
       "3              2                 2          2  \n",
       "4              2                 2          2  \n",
       "\n",
       "[5 rows x 26 columns]"
      ]
     },
     "execution_count": 58,
     "metadata": {},
     "output_type": "execute_result"
    }
   ],
   "source": [
    "df_3_train.head()"
   ]
  },
  {
   "cell_type": "markdown",
   "metadata": {},
   "source": [
    "# Mapa de calor\n"
   ]
  },
  {
   "cell_type": "code",
   "execution_count": 59,
   "metadata": {},
   "outputs": [
    {
     "data": {
      "image/png": "[encoded data removed]",
      "text/plain": [
       "<Figure size 1200x1000 with 2 Axes>"
      ]
     },
     "metadata": {},
     "output_type": "display_data"
    }
   ],
   "source": [
    "import seaborn as sns\n",
    "import matplotlib.pyplot as plt\n",
    "\n",
    "df_for_corr = df_3_train.select_dtypes(include=['int64', 'float64', 'bool', 'int32'])\n",
    "\n",
    "correlation_matrix = df_for_corr.corr().round(2)\n",
    "\n",
    "# Paso 3: Visualizar la correlación con un heatmap\n",
    "plt.figure(figsize=(12, 10))  \n",
    "sns.heatmap(correlation_matrix, \n",
    "            annot=True,           \n",
    "            cmap=\"coolwarm\",      \n",
    "            vmin=-1, vmax=1,     \n",
    "            square=True,          \n",
    "            linewidths=0.5);       "
   ]
  },
  {
   "cell_type": "markdown",
   "metadata": {},
   "source": [
    "# Empezamos el modelaje (class_weight = balanced)"
   ]
  },
  {
   "cell_type": "code",
   "execution_count": 60,
   "metadata": {},
   "outputs": [],
   "source": [
    "from sklearn.linear_model import LogisticRegression\n",
    "from sklearn.model_selection import train_test_split\n",
    "from sklearn.metrics import f1_score"
   ]
  },
  {
   "cell_type": "code",
   "execution_count": 61,
   "metadata": {},
   "outputs": [],
   "source": [
    "# Dividir el conjunto de entrenamiento en X (características) y y (objetivo)\n",
    "X_train = df_for_corr.drop('marketing_target', axis=1)\n",
    "y_train = df_for_corr['marketing_target']"
   ]
  },
  {
   "cell_type": "code",
   "execution_count": 62,
   "metadata": {},
   "outputs": [],
   "source": [
    "# Dividir en conjunto de entrenamiento y validación\n",
    "X_train_split, X_val_split, y_train_split, y_val_split = train_test_split(X_train, y_train, test_size=0.2, random_state=42)"
   ]
  },
  {
   "cell_type": "markdown",
   "metadata": {},
   "source": [
    "### Regresión logística"
   ]
  },
  {
   "cell_type": "code",
   "execution_count": 63,
   "metadata": {},
   "outputs": [],
   "source": [
    "# Crear el modelo de regresión logística\n",
    "model = LogisticRegression(class_weight='balanced', max_iter=5000)"
   ]
  },
  {
   "cell_type": "code",
   "execution_count": 79,
   "metadata": {},
   "outputs": [
    {
     "name": "stdout",
     "output_type": "stream",
     "text": [
      "F1 Score en el conjunto de validación: 0.6794\n",
      "Archivo JSON con las predicciones guardado exitosamente.\n"
     ]
    },
    {
     "name": "stderr",
     "output_type": "stream",
     "text": [
      "c:\\Users\\Jjaavviieerroperro\\AppData\\Local\\Programs\\Python\\Python312\\Lib\\site-packages\\sklearn\\linear_model\\_logistic.py:469: ConvergenceWarning: lbfgs failed to converge (status=1):\n",
      "STOP: TOTAL NO. of ITERATIONS REACHED LIMIT.\n",
      "\n",
      "Increase the number of iterations (max_iter) or scale the data as shown in:\n",
      "    https://scikit-learn.org/stable/modules/preprocessing.html\n",
      "Please also refer to the documentation for alternative solver options:\n",
      "    https://scikit-learn.org/stable/modules/linear_model.html#logistic-regression\n",
      "  n_iter_i = _check_optimize_result(\n"
     ]
    }
   ],
   "source": [
    "import json\n",
    "\n",
    "# Entrenar el modelo con los datos de entrenamiento\n",
    "model.fit(X_train_split, y_train_split)\n",
    "\n",
    "# Predecir en el conjunto de validación\n",
    "y_val_pred = model.predict(X_val_split)\n",
    "\n",
    "# Calcular F1-score\n",
    "f1 = f1_score(y_val_split, y_val_pred, average='weighted')\n",
    "print(f\"F1 Score en el conjunto de validación: {f1:.4f}\")\n",
    "\n",
    "# Ahora, predecimos en el conjunto de test\n",
    "# Excluir la columna 'test_id' antes de hacer la predicción\n",
    "X_test_filtered = df_3_test.drop(columns=['test_id']).select_dtypes(include=['int64', 'float64', 'bool', 'int32'])\n",
    "\n",
    "# Realizar las predicciones sobre el conjunto de test\n",
    "y_test_pred = model.predict(X_test_filtered)\n",
    "\n",
    "# Crear un diccionario con las predicciones y 'test_id' como clave\n",
    "# Convertir las predicciones a tipo int estándar para que sean serializables en JSON\n",
    "predictions_dict = {str(test_id): int(pred) for test_id, pred in zip(df_3_test['test_id'], y_test_pred)}\n",
    "\n",
    "# Crear el JSON con el formato adecuado\n",
    "result_json = {\"target\": predictions_dict}\n",
    "\n",
    "# Convertir el diccionario a un string JSON con indentación\n",
    "json_result = json.dumps(result_json, indent=4)\n",
    "\n",
    "# Guardar el resultado en un archivo .json\n",
    "with open(\"predictions/predictions.json\", \"w\") as f:\n",
    "    f.write(json_result)\n",
    "\n",
    "print(\"Archivo JSON con las predicciones guardado exitosamente.\")"
   ]
  },
  {
   "cell_type": "markdown",
   "metadata": {},
   "source": [
    "# Con regularización logística"
   ]
  },
  {
   "cell_type": "code",
   "execution_count": 80,
   "metadata": {},
   "outputs": [
    {
     "name": "stdout",
     "output_type": "stream",
     "text": [
      "F1 Score en el conjunto de validación: 0.7590\n",
      "Archivo JSON con las predicciones guardado exitosamente.\n"
     ]
    }
   ],
   "source": [
    "# Crear el modelo de regresión logística con los parámetros que mencionaste\n",
    "model = LogisticRegression(C=1.0, solver='liblinear', class_weight='balanced')\n",
    "\n",
    "# Entrenar el modelo con los datos de entrenamiento\n",
    "model.fit(X_train_split, y_train_split)\n",
    "\n",
    "# Predecir en el conjunto de validación\n",
    "y_val_pred = model.predict(X_val_split)\n",
    "\n",
    "# Calcular F1-score\n",
    "f1 = f1_score(y_val_split, y_val_pred, average='weighted')\n",
    "print(f\"F1 Score en el conjunto de validación: {f1:.4f}\")\n",
    "\n",
    "# Ahora, predecimos en el conjunto de test\n",
    "# Excluir la columna 'test_id' antes de hacer la predicción\n",
    "X_test_filtered = df_3_test.drop(columns=['test_id']).select_dtypes(include=['int64', 'float64', 'bool', 'int32'])\n",
    "\n",
    "# Realizar las predicciones sobre el conjunto de test\n",
    "y_test_pred = model.predict(X_test_filtered)\n",
    "\n",
    "# Crear un diccionario con las predicciones y 'test_id' como clave\n",
    "# Convertir las predicciones a tipo int estándar para que sean serializables en JSON\n",
    "predictions_dict = {str(test_id): int(pred) for test_id, pred in zip(df_3_test['test_id'], y_test_pred)}\n",
    "\n",
    "# Crear el JSON con el formato adecuado\n",
    "result_json = {\"target\": predictions_dict}\n",
    "\n",
    "# Convertir el diccionario a un string JSON con indentación\n",
    "json_result = json.dumps(result_json, indent=4)\n",
    "\n",
    "# Guardar el resultado en un archivo .json\n",
    "with open(\"predictions/predictions.json\", \"w\") as f:\n",
    "    f.write(json_result)\n",
    "\n",
    "print(\"Archivo JSON con las predicciones guardado exitosamente.\")"
   ]
  },
  {
   "cell_type": "markdown",
   "metadata": {},
   "source": [
    "# DecisionTreeClassifier"
   ]
  },
  {
   "cell_type": "code",
   "execution_count": 83,
   "metadata": {},
   "outputs": [
    {
     "name": "stdout",
     "output_type": "stream",
     "text": [
      "F1 Score Árbol de Decisión: 0.9956\n",
      "Archivo JSON con las predicciones del Árbol de Decisión guardado exitosamente.\n"
     ]
    }
   ],
   "source": [
    "from sklearn.tree import DecisionTreeClassifier\n",
    "\n",
    "\n",
    "# Crear el modelo de Árbol de Decisión con el parámetro class_weight='balanced'\n",
    "model = DecisionTreeClassifier(class_weight='balanced')\n",
    "\n",
    "# Entrenar el modelo con los datos de entrenamiento\n",
    "model.fit(X_train_split, y_train_split)\n",
    "\n",
    "# Predecir en el conjunto de validación\n",
    "y_val_pred = model.predict(X_val_split)\n",
    "\n",
    "# Calcular F1-score\n",
    "f1 = f1_score(y_val_split, y_val_pred, average='weighted')\n",
    "print(f\"F1 Score Árbol de Decisión: {f1:.4f}\")\n",
    "\n",
    "# Ahora, predecimos en el conjunto de test\n",
    "# Excluir la columna 'test_id' antes de hacer la predicción\n",
    "X_test_filtered = df_3_test.drop(columns=['test_id']).select_dtypes(include=['int64', 'float64', 'bool', 'int32'])\n",
    "\n",
    "# Realizar las predicciones sobre el conjunto de test\n",
    "y_test_pred = model.predict(X_test_filtered)\n",
    "\n",
    "# Crear un diccionario con las predicciones y 'test_id' como clave\n",
    "# Convertir las predicciones a tipo int estándar para que sean serializables en JSON\n",
    "predictions_dict = {str(test_id): int(pred) for test_id, pred in zip(df_3_test['test_id'], y_test_pred)}\n",
    "\n",
    "# Crear el JSON con el formato adecuado\n",
    "result_json = {\"target\": predictions_dict}\n",
    "\n",
    "# Convertir el diccionario a un string JSON con indentación\n",
    "json_result = json.dumps(result_json, indent=4)\n",
    "\n",
    "# Guardar el resultado en un archivo .json\n",
    "with open(\"predictions/predictions.json\", \"w\") as f:\n",
    "    f.write(json_result)\n",
    "\n",
    "print(\"Archivo JSON con las predicciones del Árbol de Decisión guardado exitosamente.\")\n"
   ]
  },
  {
   "cell_type": "markdown",
   "metadata": {},
   "source": [
    "# RandomForestClassifier (por ahora va ganando este 718/900)"
   ]
  },
  {
   "cell_type": "code",
   "execution_count": 84,
   "metadata": {},
   "outputs": [
    {
     "name": "stdout",
     "output_type": "stream",
     "text": [
      "F1 Score Random Forest: 0.9845\n",
      "Archivo JSON con las predicciones de Random Forest guardado exitosamente.\n"
     ]
    }
   ],
   "source": [
    "from sklearn.ensemble import RandomForestClassifier\n",
    "\n",
    "\n",
    "# Crear el modelo de Random Forest con el parámetro class_weight='balanced'\n",
    "model = RandomForestClassifier(class_weight='balanced', n_estimators=100)\n",
    "\n",
    "# Entrenar el modelo con los datos de entrenamiento\n",
    "model.fit(X_train_split, y_train_split)\n",
    "\n",
    "# Predecir en el conjunto de validación\n",
    "y_val_pred = model.predict(X_val_split)\n",
    "\n",
    "# Calcular F1-score\n",
    "f1 = f1_score(y_val_split, y_val_pred, average='weighted')\n",
    "print(f\"F1 Score Random Forest: {f1:.4f}\")\n",
    "\n",
    "# Ahora, predecimos en el conjunto de test\n",
    "# Excluir la columna 'test_id' antes de hacer la predicción\n",
    "X_test_filtered = df_3_test.drop(columns=['test_id']).select_dtypes(include=['int64', 'float64', 'bool', 'int32'])\n",
    "\n",
    "# Realizar las predicciones sobre el conjunto de test\n",
    "y_test_pred = model.predict(X_test_filtered)\n",
    "\n",
    "# Crear un diccionario con las predicciones y 'test_id' como clave\n",
    "# Convertir las predicciones a tipo int estándar para que sean serializables en JSON\n",
    "predictions_dict = {str(test_id): int(pred) for test_id, pred in zip(df_3_test['test_id'], y_test_pred)}\n",
    "\n",
    "# Crear el JSON con el formato adecuado\n",
    "result_json = {\"target\": predictions_dict}\n",
    "\n",
    "# Convertir el diccionario a un string JSON con indentación\n",
    "json_result = json.dumps(result_json, indent=4)\n",
    "\n",
    "# Guardar el resultado en un archivo .json\n",
    "with open(\"predictions/predictions.json\", \"w\") as f:\n",
    "    f.write(json_result)\n",
    "\n",
    "print(\"Archivo JSON con las predicciones de Random Forest guardado exitosamente.\")\n",
    "\n"
   ]
  },
  {
   "cell_type": "markdown",
   "metadata": {},
   "source": [
    "# Ensemble (734/900)"
   ]
  },
  {
   "cell_type": "code",
   "execution_count": 91,
   "metadata": {},
   "outputs": [
    {
     "name": "stdout",
     "output_type": "stream",
     "text": [
      "F1 Score Gradient Boosting: 0.9498\n",
      "Archivo JSON con las predicciones de Gradient Boosting guardado exitosamente.\n"
     ]
    }
   ],
   "source": [
    "import json\n",
    "from sklearn.ensemble import GradientBoostingClassifier\n",
    "from sklearn.metrics import f1_score\n",
    "\n",
    "# Crear el modelo de Gradient Boosting\n",
    "model = GradientBoostingClassifier()\n",
    "\n",
    "# Entrenar el modelo con los datos de entrenamiento\n",
    "model.fit(X_train_split, y_train_split)\n",
    "\n",
    "# Predecir en el conjunto de validación\n",
    "y_val_pred = model.predict(X_val_split)\n",
    "\n",
    "# Calcular F1-score\n",
    "f1 = f1_score(y_val_split, y_val_pred, average='weighted')\n",
    "print(f\"F1 Score Gradient Boosting: {f1:.4f}\")\n",
    "\n",
    "# Ahora, predecimos en el conjunto de test\n",
    "# Excluir la columna 'test_id' antes de hacer la predicción\n",
    "X_test_filtered = df_3_test.drop(columns=['test_id']).select_dtypes(include=['int64', 'float64', 'bool', 'int32'])\n",
    "\n",
    "# Realizar las predicciones sobre el conjunto de test\n",
    "y_test_pred = model.predict(X_test_filtered)\n",
    "\n",
    "# Crear un diccionario con las predicciones y 'test_id' como clave\n",
    "# Convertir las predicciones a tipo int estándar para que sean serializables en JSON\n",
    "predictions_dict = {str(test_id): int(pred) for test_id, pred in zip(df_3_test['test_id'], y_test_pred)}\n",
    "\n",
    "# Crear el JSON con el formato adecuado\n",
    "result_json = {\"target\": predictions_dict}\n",
    "\n",
    "# Convertir el diccionario a un string JSON con indentación\n",
    "json_result = json.dumps(result_json, indent=4)\n",
    "\n",
    "# Guardar el resultado en un archivo .json\n",
    "with open(\"predictions/predictions.json\", \"w\") as f:\n",
    "    f.write(json_result)\n",
    "\n",
    "print(\"Archivo JSON con las predicciones de Gradient Boosting guardado exitosamente.\")\n"
   ]
  },
  {
   "cell_type": "markdown",
   "metadata": {},
   "source": [
    "# Hiperparametrización con overfitting 704/900 pts"
   ]
  },
  {
   "cell_type": "code",
   "execution_count": 88,
   "metadata": {},
   "outputs": [
    {
     "name": "stdout",
     "output_type": "stream",
     "text": [
      "Fitting 3 folds for each of 16 candidates, totalling 48 fits\n",
      "Mejores parámetros encontrados: {'learning_rate': 0.1, 'max_depth': 5, 'n_estimators': 100, 'subsample': 1.0}\n",
      "F1 Score Gradient Boosting (con hiperparámetros optimizados): 1.0000\n",
      "Archivo JSON con las predicciones de Gradient Boosting guardado exitosamente.\n"
     ]
    }
   ],
   "source": [
    "#HyperParametrizacion\n",
    "\n",
    "from sklearn.model_selection import GridSearchCV\n",
    "\n",
    "# Definir los parámetros para GridSearch\n",
    "param_grid = {\n",
    "    'n_estimators': [50, 100],  # Reduce a 2 valores\n",
    "    'learning_rate': [0.01, 0.1],  # Reduce a 2 valores\n",
    "    'max_depth': [3, 5],  # Reduce a 2 valores\n",
    "    'subsample': [0.8, 1.0]  # Reduce a 2 valores\n",
    "}\n",
    "\n",
    "# Crear el modelo de Gradient Boosting\n",
    "model = GradientBoostingClassifier()\n",
    "\n",
    "# Crear el GridSearchCV para buscar los mejores hiperparámetros\n",
    "grid_search = GridSearchCV(estimator=model, param_grid=param_grid, scoring='f1_weighted', cv=3, verbose=1, n_jobs=-1)\n",
    "\n",
    "# Ajustar el modelo a los datos de entrenamiento\n",
    "grid_search.fit(X_train_split, y_train_split)\n",
    "\n",
    "# Mostrar los mejores parámetros encontrados\n",
    "print(\"Mejores parámetros encontrados:\", grid_search.best_params_)\n",
    "\n",
    "# Predecir en el conjunto de validación con el mejor modelo\n",
    "y_val_pred = grid_search.best_estimator_.predict(X_val_split)\n",
    "\n",
    "# Calcular F1-score\n",
    "f1 = f1_score(y_val_split, y_val_pred, average='weighted')\n",
    "print(f\"F1 Score Gradient Boosting (con hiperparámetros optimizados): {f1:.4f}\")\n",
    "\n",
    "# Ahora, predecimos en el conjunto de test\n",
    "X_test_filtered = df_3_test.drop(columns=['test_id']).select_dtypes(include=['int64', 'float64', 'bool', 'int32'])\n",
    "\n",
    "# Realizar las predicciones sobre el conjunto de test\n",
    "y_test_pred = grid_search.best_estimator_.predict(X_test_filtered)\n",
    "\n",
    "# Crear un diccionario con las predicciones y 'test_id' como clave\n",
    "predictions_dict = {str(test_id): int(pred) for test_id, pred in zip(df_3_test['test_id'], y_test_pred)}\n",
    "\n",
    "# Crear el JSON con el formato adecuado\n",
    "result_json = {\"target\": predictions_dict}\n",
    "\n",
    "# Convertir el diccionario a un string JSON con indentación\n",
    "json_result = json.dumps(result_json, indent=4)\n",
    "\n",
    "# Guardar el resultado en un archivo .json\n",
    "with open(\"predictions/predictions.json\", \"w\") as f:\n",
    "    f.write(json_result)\n",
    "\n",
    "print(\"Archivo JSON con las predicciones de Gradient Boosting guardado exitosamente.\")\n"
   ]
  },
  {
   "cell_type": "markdown",
   "metadata": {},
   "source": [
    "# Probamos redes neuronales MLPClassifier"
   ]
  },
  {
   "cell_type": "code",
   "execution_count": 89,
   "metadata": {},
   "outputs": [
    {
     "name": "stdout",
     "output_type": "stream",
     "text": [
      "F1 Score MLP: 0.7724\n",
      "Archivo JSON con las predicciones guardado exitosamente.\n"
     ]
    }
   ],
   "source": [
    "from sklearn.neural_network import MLPClassifier\n",
    "from sklearn.metrics import f1_score\n",
    "import json\n",
    "\n",
    "# Crear el modelo de red neuronal (MLP)\n",
    "model = MLPClassifier(hidden_layer_sizes=(100, 50), max_iter=500, random_state=42)\n",
    "\n",
    "# Entrenar el modelo\n",
    "model.fit(X_train_split, y_train_split)\n",
    "\n",
    "# Predecir en el conjunto de validación\n",
    "y_val_pred = model.predict(X_val_split)\n",
    "\n",
    "# Calcular F1-score\n",
    "f1 = f1_score(y_val_split, y_val_pred, average='weighted')\n",
    "print(f\"F1 Score MLP: {f1:.4f}\")\n",
    "\n",
    "# Predecir en el conjunto de test\n",
    "X_test_filtered = df_3_test.drop(columns=['test_id']).select_dtypes(include=['int64', 'float64', 'bool', 'int32'])\n",
    "y_test_pred = model.predict(X_test_filtered)\n",
    "\n",
    "# Crear el diccionario con las predicciones\n",
    "predictions_dict = {str(test_id): int(pred) for test_id, pred in zip(df_3_test['test_id'], y_test_pred)}\n",
    "\n",
    "# Crear el JSON\n",
    "result_json = {\"target\": predictions_dict}\n",
    "\n",
    "# Guardar el archivo JSON\n",
    "with open(\"predictions/predictions.json\", \"w\") as f:\n",
    "    json.dump(result_json, f, indent=4)\n",
    "\n",
    "print(\"Archivo JSON con las predicciones guardado exitosamente.\")\n"
   ]
  },
  {
   "cell_type": "markdown",
   "metadata": {},
   "source": [
    "# La básica"
   ]
  },
  {
   "cell_type": "code",
   "execution_count": 90,
   "metadata": {},
   "outputs": [
    {
     "name": "stdout",
     "output_type": "stream",
     "text": [
      "Epoch 1/20\n"
     ]
    },
    {
     "name": "stderr",
     "output_type": "stream",
     "text": [
      "c:\\Users\\Jjaavviieerroperro\\AppData\\Local\\Programs\\Python\\Python312\\Lib\\site-packages\\keras\\src\\layers\\core\\dense.py:87: UserWarning: Do not pass an `input_shape`/`input_dim` argument to a layer. When using Sequential models, prefer using an `Input(shape)` object as the first layer in the model instead.\n",
      "  super().__init__(activity_regularizer=activity_regularizer, **kwargs)\n"
     ]
    },
    {
     "name": "stdout",
     "output_type": "stream",
     "text": [
      "\u001b[1m172/172\u001b[0m \u001b[32m━━━━━━━━━━━━━━━━━━━━\u001b[0m\u001b[37m\u001b[0m \u001b[1m2s\u001b[0m 1ms/step - accuracy: 0.7581 - loss: -2282.7966\n",
      "Epoch 2/20\n",
      "\u001b[1m172/172\u001b[0m \u001b[32m━━━━━━━━━━━━━━━━━━━━\u001b[0m\u001b[37m\u001b[0m \u001b[1m0s\u001b[0m 1ms/step - accuracy: 0.7634 - loss: -214089.7500\n",
      "Epoch 3/20\n",
      "\u001b[1m172/172\u001b[0m \u001b[32m━━━━━━━━━━━━━━━━━━━━\u001b[0m\u001b[37m\u001b[0m \u001b[1m0s\u001b[0m 1ms/step - accuracy: 0.7633 - loss: -2287638.2500\n",
      "Epoch 4/20\n",
      "\u001b[1m172/172\u001b[0m \u001b[32m━━━━━━━━━━━━━━━━━━━━\u001b[0m\u001b[37m\u001b[0m \u001b[1m0s\u001b[0m 2ms/step - accuracy: 0.7632 - loss: -10735051.0000\n",
      "Epoch 5/20\n",
      "\u001b[1m172/172\u001b[0m \u001b[32m━━━━━━━━━━━━━━━━━━━━\u001b[0m\u001b[37m\u001b[0m \u001b[1m0s\u001b[0m 1ms/step - accuracy: 0.7656 - loss: -30553838.0000\n",
      "Epoch 6/20\n",
      "\u001b[1m172/172\u001b[0m \u001b[32m━━━━━━━━━━━━━━━━━━━━\u001b[0m\u001b[37m\u001b[0m \u001b[1m0s\u001b[0m 1ms/step - accuracy: 0.7612 - loss: -71271384.0000\n",
      "Epoch 7/20\n",
      "\u001b[1m172/172\u001b[0m \u001b[32m━━━━━━━━━━━━━━━━━━━━\u001b[0m\u001b[37m\u001b[0m \u001b[1m0s\u001b[0m 1ms/step - accuracy: 0.7659 - loss: -132779688.0000\n",
      "Epoch 8/20\n",
      "\u001b[1m172/172\u001b[0m \u001b[32m━━━━━━━━━━━━━━━━━━━━\u001b[0m\u001b[37m\u001b[0m \u001b[1m0s\u001b[0m 1ms/step - accuracy: 0.7644 - loss: -238353072.0000\n",
      "Epoch 9/20\n",
      "\u001b[1m172/172\u001b[0m \u001b[32m━━━━━━━━━━━━━━━━━━━━\u001b[0m\u001b[37m\u001b[0m \u001b[1m0s\u001b[0m 1ms/step - accuracy: 0.7664 - loss: -376765888.0000\n",
      "Epoch 10/20\n",
      "\u001b[1m172/172\u001b[0m \u001b[32m━━━━━━━━━━━━━━━━━━━━\u001b[0m\u001b[37m\u001b[0m \u001b[1m0s\u001b[0m 1ms/step - accuracy: 0.7507 - loss: -616855936.0000\n",
      "Epoch 11/20\n",
      "\u001b[1m172/172\u001b[0m \u001b[32m━━━━━━━━━━━━━━━━━━━━\u001b[0m\u001b[37m\u001b[0m \u001b[1m0s\u001b[0m 1ms/step - accuracy: 0.7604 - loss: -857102528.0000\n",
      "Epoch 12/20\n",
      "\u001b[1m172/172\u001b[0m \u001b[32m━━━━━━━━━━━━━━━━━━━━\u001b[0m\u001b[37m\u001b[0m \u001b[1m0s\u001b[0m 1ms/step - accuracy: 0.7660 - loss: -1162844416.0000\n",
      "Epoch 13/20\n",
      "\u001b[1m172/172\u001b[0m \u001b[32m━━━━━━━━━━━━━━━━━━━━\u001b[0m\u001b[37m\u001b[0m \u001b[1m0s\u001b[0m 3ms/step - accuracy: 0.7763 - loss: -1523419776.0000\n",
      "Epoch 14/20\n",
      "\u001b[1m172/172\u001b[0m \u001b[32m━━━━━━━━━━━━━━━━━━━━\u001b[0m\u001b[37m\u001b[0m \u001b[1m0s\u001b[0m 2ms/step - accuracy: 0.7562 - loss: -2152206080.0000\n",
      "Epoch 15/20\n",
      "\u001b[1m172/172\u001b[0m \u001b[32m━━━━━━━━━━━━━━━━━━━━\u001b[0m\u001b[37m\u001b[0m \u001b[1m0s\u001b[0m 2ms/step - accuracy: 0.7541 - loss: -2763219456.0000\n",
      "Epoch 16/20\n",
      "\u001b[1m172/172\u001b[0m \u001b[32m━━━━━━━━━━━━━━━━━━━━\u001b[0m\u001b[37m\u001b[0m \u001b[1m0s\u001b[0m 2ms/step - accuracy: 0.7728 - loss: -3215597312.0000\n",
      "Epoch 17/20\n",
      "\u001b[1m172/172\u001b[0m \u001b[32m━━━━━━━━━━━━━━━━━━━━\u001b[0m\u001b[37m\u001b[0m \u001b[1m0s\u001b[0m 2ms/step - accuracy: 0.7680 - loss: -4076817408.0000\n",
      "Epoch 18/20\n",
      "\u001b[1m172/172\u001b[0m \u001b[32m━━━━━━━━━━━━━━━━━━━━\u001b[0m\u001b[37m\u001b[0m \u001b[1m0s\u001b[0m 2ms/step - accuracy: 0.7630 - loss: -5105041920.0000\n",
      "Epoch 19/20\n",
      "\u001b[1m172/172\u001b[0m \u001b[32m━━━━━━━━━━━━━━━━━━━━\u001b[0m\u001b[37m\u001b[0m \u001b[1m0s\u001b[0m 2ms/step - accuracy: 0.7768 - loss: -5853100032.0000\n",
      "Epoch 20/20\n",
      "\u001b[1m172/172\u001b[0m \u001b[32m━━━━━━━━━━━━━━━━━━━━\u001b[0m\u001b[37m\u001b[0m \u001b[1m0s\u001b[0m 2ms/step - accuracy: 0.7733 - loss: -6916854272.0000\n",
      "\u001b[1m43/43\u001b[0m \u001b[32m━━━━━━━━━━━━━━━━━━━━\u001b[0m\u001b[37m\u001b[0m \u001b[1m0s\u001b[0m 1ms/step\n",
      "F1 Score Neural Network (Keras): 0.6744\n",
      "\u001b[1m95/95\u001b[0m \u001b[32m━━━━━━━━━━━━━━━━━━━━\u001b[0m\u001b[37m\u001b[0m \u001b[1m0s\u001b[0m 2ms/step\n",
      "Archivo JSON con las predicciones guardado exitosamente.\n"
     ]
    },
    {
     "name": "stderr",
     "output_type": "stream",
     "text": [
      "C:\\Users\\Jjaavviieerroperro\\AppData\\Local\\Temp\\ipykernel_32520\\2605696589.py:34: DeprecationWarning: Conversion of an array with ndim > 0 to a scalar is deprecated, and will error in future. Ensure you extract a single element from your array before performing this operation. (Deprecated NumPy 1.25.)\n",
      "  predictions_dict = {str(test_id): int(pred) for test_id, pred in zip(df_3_test['test_id'], y_test_pred)}\n"
     ]
    }
   ],
   "source": [
    "import tensorflow as tf\n",
    "from tensorflow.keras.models import Sequential\n",
    "from tensorflow.keras.layers import Dense\n",
    "from sklearn.metrics import f1_score\n",
    "import json\n",
    "\n",
    "# Definir el modelo de red neuronal\n",
    "model = Sequential([\n",
    "    Dense(128, input_dim=X_train_split.shape[1], activation='relu'),\n",
    "    Dense(64, activation='relu'),\n",
    "    Dense(32, activation='relu'),\n",
    "    Dense(1, activation='sigmoid')  # Usar 'softmax' para múltiples clases\n",
    "])\n",
    "\n",
    "# Compilar el modelo\n",
    "model.compile(loss='binary_crossentropy', optimizer='adam', metrics=['accuracy'])\n",
    "\n",
    "# Entrenar el modelo\n",
    "model.fit(X_train_split, y_train_split, epochs=20, batch_size=32, verbose=1)\n",
    "\n",
    "# Predecir en el conjunto de validación\n",
    "y_val_pred = model.predict(X_val_split)\n",
    "y_val_pred = (y_val_pred > 0.5).astype(int)\n",
    "\n",
    "# Calcular F1-score\n",
    "f1 = f1_score(y_val_split, y_val_pred, average='weighted')\n",
    "print(f\"F1 Score Neural Network (Keras): {f1:.4f}\")\n",
    "\n",
    "# Predecir en el conjunto de test\n",
    "y_test_pred = model.predict(X_test_filtered)\n",
    "y_test_pred = (y_test_pred > 0.5).astype(int)\n",
    "\n",
    "# Crear el diccionario con las predicciones\n",
    "predictions_dict = {str(test_id): int(pred) for test_id, pred in zip(df_3_test['test_id'], y_test_pred)}\n",
    "\n",
    "# Crear el JSON\n",
    "result_json = {\"target\": predictions_dict}\n",
    "\n",
    "# Guardar el archivo JSON\n",
    "with open(\"predictions/predictions.json\", \"w\") as f:\n",
    "    json.dump(result_json, f, indent=4)\n",
    "\n",
    "print(\"Archivo JSON con las predicciones guardado exitosamente.\")\n"
   ]
  }
 ],
 "metadata": {
  "kernelspec": {
   "display_name": "Python 3",
   "language": "python",
   "name": "python3"
  },
  "language_info": {
   "codemirror_mode": {
    "name": "ipython",
    "version": 3
   },
   "file_extension": ".py",
   "mimetype": "text/x-python",
   "name": "python",
   "nbconvert_exporter": "python",
   "pygments_lexer": "ipython3",
   "version": "3.12.5"
  }
 },
 "nbformat": 4,
 "nbformat_minor": 2
}
